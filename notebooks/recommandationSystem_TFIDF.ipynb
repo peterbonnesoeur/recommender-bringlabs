{
 "cells": [
  {
   "cell_type": "code",
   "execution_count": 12,
   "metadata": {},
   "outputs": [],
   "source": [
    "from pyspark.sql import SparkSession\n",
    "from pyspark.ml.feature import CountVectorizer, IDF\n",
    "from pyspark.sql.functions import col, udf\n",
    "from pyspark.sql import functions as F\n",
    "from pyspark.sql.types import StringType, ArrayType, DoubleType\n",
    "\n",
    "\n",
    "import numpy as np\n",
    "import nltk\n",
    "from nltk.stem import WordNetLemmatizer\n",
    "import re\n",
    "import json\n",
    "\n",
    "SEED = 42  # Set your desired seed for reproducibility\n",
    "\n",
    "# Initialize Spark session\n",
    "spark = SparkSession.builder.appName(\"Recipe Recommender System\").getOrCreate()"
   ]
  },
  {
   "cell_type": "code",
   "execution_count": 13,
   "metadata": {},
   "outputs": [],
   "source": [
    "from IPython.display import HTML\n",
    "\n",
    "\n",
    "def display_spark_dataframe(df, num_rows=100):\n",
    "    # Convert the Spark DataFrame to Pandas for display purposes\n",
    "    pandas_df = df.limit(num_rows).toPandas()\n",
    "\n",
    "    # Generate HTML table\n",
    "    html = pandas_df.to_html(classes=\"table table-striped table-bordered\", index=False)\n",
    "\n",
    "    # Display the HTML in the notebook\n",
    "    display(HTML(html))"
   ]
  },
  {
   "cell_type": "code",
   "execution_count": 14,
   "metadata": {},
   "outputs": [
    {
     "name": "stdout",
     "output_type": "stream",
     "text": [
      "root\n",
      " |-- user_id: long (nullable = true)\n",
      " |-- recipe_id: long (nullable = true)\n",
      " |-- title: string (nullable = true)\n",
      " |-- ingredients: string (nullable = true)\n",
      " |-- link: string (nullable = true)\n",
      " |-- import_date: double (nullable = true)\n",
      "\n"
     ]
    },
    {
     "data": {
      "text/html": [
       "<table border=\"1\" class=\"dataframe table table-striped table-bordered\">\n",
       "  <thead>\n",
       "    <tr style=\"text-align: right;\">\n",
       "      <th>user_id</th>\n",
       "      <th>recipe_id</th>\n",
       "      <th>title</th>\n",
       "      <th>ingredients</th>\n",
       "      <th>link</th>\n",
       "      <th>import_date</th>\n",
       "    </tr>\n",
       "  </thead>\n",
       "  <tbody>\n",
       "    <tr>\n",
       "      <td>1</td>\n",
       "      <td>-5836364512049762718</td>\n",
       "      <td>Log Cabin Toast</td>\n",
       "      <td>[\"sugar\", \"cinnamon\", \"white\", \"margarine\"]</td>\n",
       "      <td>http://www.cookbooks.com/Recipe-Details.aspx?id=595265</td>\n",
       "      <td>1.720726e+09</td>\n",
       "    </tr>\n",
       "    <tr>\n",
       "      <td>1</td>\n",
       "      <td>5825856628004213219</td>\n",
       "      <td>Vegetable Burger Soup</td>\n",
       "      <td>[\"ground beef\", \"tomatoes\", \"tomato sauce\", \"frozen mixed vegetables\", \"onion soup\", \"sugar\"]</td>\n",
       "      <td>http://www.cookbooks.com/Recipe-Details.aspx?id=302429</td>\n",
       "      <td>1.724700e+09</td>\n",
       "    </tr>\n",
       "    <tr>\n",
       "      <td>1</td>\n",
       "      <td>6164519699133745296</td>\n",
       "      <td>Magic Cookie Bars</td>\n",
       "      <td>[\"butter\", \"graham cracker crumbs\", \"milk\", \"semi-sweet chocolate chips\", \"flaked coconut\", \"nuts\"]</td>\n",
       "      <td>http://www.cookbooks.com/Recipe-Details.aspx?id=343171</td>\n",
       "      <td>1.726601e+09</td>\n",
       "    </tr>\n",
       "  </tbody>\n",
       "</table>"
      ],
      "text/plain": [
       "<IPython.core.display.HTML object>"
      ]
     },
     "metadata": {},
     "output_type": "display_data"
    }
   ],
   "source": [
    "# Load dataset\n",
    "file_path = \"../data/processed/users_interactions.parquet\"\n",
    "raw_df = spark.read.parquet(file_path)\n",
    "\n",
    "\n",
    "# Inspect dataset\n",
    "raw_df.printSchema()\n",
    "display_spark_dataframe(raw_df, 3)"
   ]
  },
  {
   "cell_type": "markdown",
   "metadata": {},
   "source": [
    "Here the issue is that the ingredients column is a string and not a list of strings. We need to convert it to a list of strings."
   ]
  },
  {
   "cell_type": "code",
   "execution_count": 15,
   "metadata": {},
   "outputs": [],
   "source": [
    "# clean the ingredients column as a list of strings\n",
    "def clean_ingredients(ingredients):\n",
    "    ingredients = json.loads(ingredients)\n",
    "    return [re.sub(r\"\\d+\", \"\", ingredient).strip() for ingredient in ingredients]\n",
    "\n",
    "\n",
    "clean_ingredients_udf = udf(clean_ingredients, ArrayType(StringType()))\n",
    "df = raw_df.withColumn(\"ingredients\", clean_ingredients_udf(\"ingredients\"))"
   ]
  },
  {
   "cell_type": "code",
   "execution_count": 16,
   "metadata": {},
   "outputs": [
    {
     "name": "stdout",
     "output_type": "stream",
     "text": [
      "root\n",
      " |-- user_id: long (nullable = true)\n",
      " |-- recipe_id: long (nullable = true)\n",
      " |-- title: string (nullable = true)\n",
      " |-- ingredients: array (nullable = true)\n",
      " |    |-- element: string (containsNull = true)\n",
      " |-- link: string (nullable = true)\n",
      " |-- import_date: double (nullable = true)\n",
      "\n"
     ]
    },
    {
     "data": {
      "text/html": [
       "<table border=\"1\" class=\"dataframe table table-striped table-bordered\">\n",
       "  <thead>\n",
       "    <tr style=\"text-align: right;\">\n",
       "      <th>user_id</th>\n",
       "      <th>recipe_id</th>\n",
       "      <th>title</th>\n",
       "      <th>ingredients</th>\n",
       "      <th>link</th>\n",
       "      <th>import_date</th>\n",
       "    </tr>\n",
       "  </thead>\n",
       "  <tbody>\n",
       "    <tr>\n",
       "      <td>1</td>\n",
       "      <td>-5836364512049762718</td>\n",
       "      <td>Log Cabin Toast</td>\n",
       "      <td>[sugar, cinnamon, white, margarine]</td>\n",
       "      <td>http://www.cookbooks.com/Recipe-Details.aspx?id=595265</td>\n",
       "      <td>1.720726e+09</td>\n",
       "    </tr>\n",
       "    <tr>\n",
       "      <td>1</td>\n",
       "      <td>5825856628004213219</td>\n",
       "      <td>Vegetable Burger Soup</td>\n",
       "      <td>[ground beef, tomatoes, tomato sauce, frozen mixed vegetables, onion soup, sugar]</td>\n",
       "      <td>http://www.cookbooks.com/Recipe-Details.aspx?id=302429</td>\n",
       "      <td>1.724700e+09</td>\n",
       "    </tr>\n",
       "    <tr>\n",
       "      <td>1</td>\n",
       "      <td>6164519699133745296</td>\n",
       "      <td>Magic Cookie Bars</td>\n",
       "      <td>[butter, graham cracker crumbs, milk, semi-sweet chocolate chips, flaked coconut, nuts]</td>\n",
       "      <td>http://www.cookbooks.com/Recipe-Details.aspx?id=343171</td>\n",
       "      <td>1.726601e+09</td>\n",
       "    </tr>\n",
       "    <tr>\n",
       "      <td>1</td>\n",
       "      <td>-8815957590080865143</td>\n",
       "      <td>Chicken Divan</td>\n",
       "      <td>[margarine, onion, celery, flour, curry powder, mushrooms, cream of celery soup, broccoli, chicken, cheese]</td>\n",
       "      <td>http://www.cookbooks.com/Recipe-Details.aspx?id=425137</td>\n",
       "      <td>1.725824e+09</td>\n",
       "    </tr>\n",
       "    <tr>\n",
       "      <td>1</td>\n",
       "      <td>3296045182844799490</td>\n",
       "      <td>Baked Cabbage</td>\n",
       "      <td>[ground chuck, onion, rice, salt, cabbage, pepper, tomato soup, water, Mozzarella cheese]</td>\n",
       "      <td>http://www.cookbooks.com/Recipe-Details.aspx?id=761049</td>\n",
       "      <td>1.722800e+09</td>\n",
       "    </tr>\n",
       "  </tbody>\n",
       "</table>"
      ],
      "text/plain": [
       "<IPython.core.display.HTML object>"
      ]
     },
     "metadata": {},
     "output_type": "display_data"
    }
   ],
   "source": [
    "# Inspect dataset\n",
    "df.printSchema()\n",
    "display_spark_dataframe(df, 5)"
   ]
  },
  {
   "cell_type": "code",
   "execution_count": 17,
   "metadata": {},
   "outputs": [
    {
     "name": "stderr",
     "output_type": "stream",
     "text": [
      "[nltk_data] Downloading package wordnet to\n",
      "[nltk_data]     /Users/maximebonnesoeur/nltk_data...\n",
      "[nltk_data]   Package wordnet is already up-to-date!\n",
      "[nltk_data] Downloading package omw-1.4 to\n",
      "[nltk_data]     /Users/maximebonnesoeur/nltk_data...\n",
      "[nltk_data]   Package omw-1.4 is already up-to-date!\n"
     ]
    }
   ],
   "source": [
    "# Text Cleaning Function: Lemmatisation, Lowercasing, Removing Special Characters\n",
    "nltk.download(\"wordnet\")\n",
    "nltk.download(\"omw-1.4\")\n",
    "lemmatizer = WordNetLemmatizer()"
   ]
  },
  {
   "cell_type": "markdown",
   "metadata": {},
   "source": [
    "## Cleaning and lemmatizing the ingredients"
   ]
  },
  {
   "cell_type": "code",
   "execution_count": 18,
   "metadata": {},
   "outputs": [
    {
     "name": "stdout",
     "output_type": "stream",
     "text": [
      "+---------------------+-----------------------------------------------------------------------------------------------------------+----------------------------------------------------------------------------------------------------------------------------------------------------------------------------------------------------------------------+\n",
      "|title                |ingredients                                                                                                |cleaned_ingredients                                                                                                                                                                                                   |\n",
      "+---------------------+-----------------------------------------------------------------------------------------------------------+----------------------------------------------------------------------------------------------------------------------------------------------------------------------------------------------------------------------+\n",
      "|Log Cabin Toast      |[sugar, cinnamon, white, margarine]                                                                        |[sugar, sugar, cinnamon, cinnamon, white, white, margarine, margarine]                                                                                                                                                |\n",
      "|Vegetable Burger Soup|[ground beef, tomatoes, tomato sauce, frozen mixed vegetables, onion soup, sugar]                          |[ground beef, ground beef, tomatoes, tomatoes, tomato sauce, tomato sauce, frozen mixed vegetables, frozen mixed vegetables, onion soup, onion soup, sugar, sugar]                                                    |\n",
      "|Magic Cookie Bars    |[butter, graham cracker crumbs, milk, semi-sweet chocolate chips, flaked coconut, nuts]                    |[butter, butter, graham cracker crumbs, graham cracker crumbs, milk, milk, semi-sweet chocolate chips, semisweet chocolate chips, flaked coconut, flaked coconut, nuts, nuts]                                         |\n",
      "|Chicken Divan        |[margarine, onion, celery, flour, curry powder, mushrooms, cream of celery soup, broccoli, chicken, cheese]|[margarine, margarine, onion, onion, celery, celery, flour, flour, curry powder, curry powder, mushrooms, mushrooms, cream of celery soup, cream of celery soup, broccoli, broccoli, chicken, chicken, cheese, cheese]|\n",
      "|Baked Cabbage        |[ground chuck, onion, rice, salt, cabbage, pepper, tomato soup, water, Mozzarella cheese]                  |[ground chuck, ground chuck, onion, onion, rice, rice, salt, salt, cabbage, cabbage, pepper, pepper, tomato soup, tomato soup, water, water, Mozzarella cheese, mozzarella cheese]                                    |\n",
      "+---------------------+-----------------------------------------------------------------------------------------------------------+----------------------------------------------------------------------------------------------------------------------------------------------------------------------------------------------------------------------+\n",
      "only showing top 5 rows\n",
      "\n"
     ]
    }
   ],
   "source": [
    "def clean_ingredients(ingredient_list):\n",
    "    cleaned_set = []\n",
    "    for ingredient in ingredient_list:\n",
    "        cleaned_set.append(ingredient)\n",
    "        # Remove special characters, convert to lowercase, and lemmatize each word\n",
    "        ingredient = \"\".join(re.sub(r\"[^a-zA-Z\\s]\", \"\", ingredient))\n",
    "        ingredient = ingredient.lower()\n",
    "        # lemmatized_ingredient = ingredient#[lemmatizer.lemmatize(word) for word in ingredient.split()]\n",
    "        cleaned_set.append(ingredient)\n",
    "\n",
    "    return list(cleaned_set)\n",
    "\n",
    "\n",
    "clean_ingredients_udf = udf(clean_ingredients, ArrayType(StringType()))\n",
    "\n",
    "# Apply text cleaning to ingredients\n",
    "df = df.withColumn(\"cleaned_ingredients\", clean_ingredients_udf(col(\"ingredients\")))\n",
    "df.select(\"title\", \"ingredients\", \"cleaned_ingredients\").show(5, truncate=False)"
   ]
  },
  {
   "cell_type": "markdown",
   "metadata": {},
   "source": [
    "## TF IDF vectorization\n",
    "\n",
    "Here we have little information about the recipe in itself. So we will use the similarity between the ingredients to recommend recipes."
   ]
  },
  {
   "cell_type": "code",
   "execution_count": 19,
   "metadata": {},
   "outputs": [],
   "source": [
    "SIMILARITY_THRESHOLD = 0.5\n",
    "# Recommendations for Users\n",
    "RECOMMENDATION_LIMIT = 5"
   ]
  },
  {
   "cell_type": "code",
   "execution_count": null,
   "metadata": {},
   "outputs": [],
   "source": []
  },
  {
   "cell_type": "code",
   "execution_count": 20,
   "metadata": {},
   "outputs": [],
   "source": [
    "# Feature Extraction for Content-Based Filtering\n",
    "# Use CountVectorizer to convert cleaned ingredients into feature vectors\n",
    "# AKA, we will count the number of times each ingredient appears in the dataset\n",
    "# Example: [\"apple\", \"banana\", \"apple\"] -> ({\"apple\": 2, \"banana\": 1})\n",
    "cv = CountVectorizer(inputCol=\"cleaned_ingredients\", outputCol=\"features\")\n",
    "cv_model = cv.fit(df)\n",
    "vectorized_df = cv_model.transform(df)"
   ]
  },
  {
   "cell_type": "markdown",
   "metadata": {},
   "source": [
    "However, we need to normalize the feature vectors to ensure that each ingredient has equal weight\n",
    "Use IDF to normalize the feature vectors from CountVectorizer and \"remove\" common ingredients common to all recipes"
   ]
  },
  {
   "cell_type": "code",
   "execution_count": 21,
   "metadata": {},
   "outputs": [],
   "source": [
    "# Compute TF-IDF for better weighting\n",
    "idf = IDF(inputCol=\"features\", outputCol=\"tfidf_features\")\n",
    "idf_model = idf.fit(vectorized_df)\n",
    "tf_idf_df = idf_model.transform(vectorized_df)"
   ]
  },
  {
   "cell_type": "code",
   "execution_count": 25,
   "metadata": {},
   "outputs": [
    {
     "name": "stdout",
     "output_type": "stream",
     "text": [
      "root\n",
      " |-- user_id: long (nullable = true)\n",
      " |-- recipe_id: long (nullable = true)\n",
      " |-- title: string (nullable = true)\n",
      " |-- ingredients: array (nullable = true)\n",
      " |    |-- element: string (containsNull = true)\n",
      " |-- link: string (nullable = true)\n",
      " |-- import_date: double (nullable = true)\n",
      " |-- cleaned_ingredients: array (nullable = true)\n",
      " |    |-- element: string (containsNull = true)\n",
      " |-- features: vector (nullable = true)\n",
      " |-- tfidf_features: vector (nullable = true)\n",
      " |-- tfidf_array: array (nullable = true)\n",
      " |    |-- element: double (containsNull = true)\n",
      " |-- recipe_id: long (nullable = true)\n",
      " |-- tfidf_array: array (nullable = true)\n",
      " |    |-- element: double (containsNull = true)\n",
      " |-- title: string (nullable = true)\n",
      " |-- user_id: long (nullable = true)\n",
      " |-- similarity: double (nullable = true)\n",
      "\n"
     ]
    },
    {
     "name": "stderr",
     "output_type": "stream",
     "text": [
      "                                                                                \r"
     ]
    },
    {
     "data": {
      "text/html": [
       "<table border=\"1\" class=\"dataframe table table-striped table-bordered\">\n",
       "  <thead>\n",
       "    <tr style=\"text-align: right;\">\n",
       "      <th>recipe_id</th>\n",
       "      <th>user_id</th>\n",
       "      <th>recommended_user_id</th>\n",
       "      <th>recipe_title</th>\n",
       "      <th>recommended_recipe_id</th>\n",
       "      <th>recommended_recipe_title</th>\n",
       "      <th>similarity</th>\n",
       "    </tr>\n",
       "  </thead>\n",
       "  <tbody>\n",
       "    <tr>\n",
       "      <td>-9058629457183933290</td>\n",
       "      <td>24</td>\n",
       "      <td>1</td>\n",
       "      <td>Vegetable-Burger Soup</td>\n",
       "      <td>5825856628004213219</td>\n",
       "      <td>Vegetable Burger Soup</td>\n",
       "      <td>0.972691</td>\n",
       "    </tr>\n",
       "    <tr>\n",
       "      <td>-8983223843788436463</td>\n",
       "      <td>12</td>\n",
       "      <td>22</td>\n",
       "      <td>Meltaways</td>\n",
       "      <td>-3633718265606525894</td>\n",
       "      <td>Lemon Chip Cookies</td>\n",
       "      <td>0.535585</td>\n",
       "    </tr>\n",
       "    <tr>\n",
       "      <td>-8815957590080865143</td>\n",
       "      <td>1</td>\n",
       "      <td>28</td>\n",
       "      <td>Chicken Divan</td>\n",
       "      <td>56267968418564497</td>\n",
       "      <td>Broccoli Casserole</td>\n",
       "      <td>0.510864</td>\n",
       "    </tr>\n",
       "    <tr>\n",
       "      <td>-8228806269697013615</td>\n",
       "      <td>63</td>\n",
       "      <td>39</td>\n",
       "      <td>Hot Spiced Tea</td>\n",
       "      <td>3905076670840786120</td>\n",
       "      <td>Spiced Tea</td>\n",
       "      <td>0.988846</td>\n",
       "    </tr>\n",
       "    <tr>\n",
       "      <td>-8228806269697013615</td>\n",
       "      <td>63</td>\n",
       "      <td>17</td>\n",
       "      <td>Hot Spiced Tea</td>\n",
       "      <td>-7117877633066661520</td>\n",
       "      <td>Microwave Spice Tea</td>\n",
       "      <td>0.576431</td>\n",
       "    </tr>\n",
       "  </tbody>\n",
       "</table>"
      ],
      "text/plain": [
       "<IPython.core.display.HTML object>"
      ]
     },
     "metadata": {},
     "output_type": "display_data"
    }
   ],
   "source": [
    "# Generate Recommendations using Cosine Similarity\n",
    "# Convert TF-IDF vectors to DenseVectors for similarity computation\n",
    "vector_to_array_udf = udf(lambda v: v.toArray().tolist(), ArrayType(DoubleType()))\n",
    "tf_idf_df = tf_idf_df.withColumn(\n",
    "    \"tfidf_array\", vector_to_array_udf(col(\"tfidf_features\"))\n",
    ")\n",
    "\n",
    "\n",
    "# Define a function to compute cosine similarity between two vectors\n",
    "def cosine_similarity(v1, v2):\n",
    "    v1 = np.array(v1)\n",
    "    v2 = np.array(v2)\n",
    "    dot_product = np.dot(v1, v2)\n",
    "    norm_v1 = np.linalg.norm(v1)\n",
    "    norm_v2 = np.linalg.norm(v2)\n",
    "    if norm_v1 == 0 or norm_v2 == 0:\n",
    "        return 0.0\n",
    "    return float(dot_product / (norm_v1 * norm_v2))\n",
    "\n",
    "\n",
    "cosine_similarity_udf = udf(cosine_similarity, DoubleType())\n",
    "\n",
    "# Self-join the DataFrame to calculate similarity between all recipes\n",
    "cross_joined_df = tf_idf_df.alias(\"df1\").crossJoin(\n",
    "    tf_idf_df.select([\"recipe_id\", \"tfidf_array\", \"title\", \"user_id\"]).alias(\"df2\")\n",
    ")\n",
    "\n",
    "# Calculate cosine similarity for each pair of recipes\n",
    "cross_joined_df = cross_joined_df.withColumn(\n",
    "    \"similarity\", cosine_similarity_udf(col(\"df1.tfidf_array\"), col(\"df2.tfidf_array\"))\n",
    ")\n",
    "cross_joined_df.printSchema()\n",
    "\n",
    "\n",
    "# Select the necessary columns and alias them to avoid ambiguity\n",
    "recommendations_df = cross_joined_df.filter(\n",
    "    (col(\"df1.recipe_id\") != col(\"df2.recipe_id\"))\n",
    "    & (  # Never recommend the same recipe\n",
    "        col(\"df1.user_id\") != col(\"df2.user_id\")\n",
    "    )  # Never recommend the a recipe from the same user\n",
    ")\n",
    "\n",
    "# Explicitly select and alias the columns\n",
    "recommendations_df = (\n",
    "    recommendations_df.select(\n",
    "        col(\"df1.recipe_id\").alias(\"recipe_id\"),\n",
    "        col(\"df1.user_id\").alias(\"user_id\"),\n",
    "        col(\"df2.user_id\").alias(\"recommended_user_id\"),\n",
    "        col(\"df1.title\").alias(\"recipe_title\"),\n",
    "        col(\"df2.recipe_id\").alias(\"recommended_recipe_id\"),\n",
    "        col(\"df2.title\").alias(\"recommended_recipe_title\"),\n",
    "        col(\"similarity\"),\n",
    "        # Add any other columns you may need\n",
    "    )\n",
    "    .filter(col(\"similarity\") > SIMILARITY_THRESHOLD)\n",
    "    .orderBy(col(\"recipe_id\"), col(\"similarity\").desc())\n",
    ")\n",
    "\n",
    "display_spark_dataframe(recommendations_df, 5)"
   ]
  },
  {
   "cell_type": "code",
   "execution_count": 27,
   "metadata": {},
   "outputs": [
    {
     "name": "stderr",
     "output_type": "stream",
     "text": [
      "                                                                                \r"
     ]
    },
    {
     "data": {
      "text/html": [
       "<table border=\"1\" class=\"dataframe table table-striped table-bordered\">\n",
       "  <thead>\n",
       "    <tr style=\"text-align: right;\">\n",
       "      <th>recipe_id</th>\n",
       "      <th>recipe_title</th>\n",
       "      <th>recommended_recipes</th>\n",
       "      <th>recommended_recipe_titles</th>\n",
       "      <th>similarity_scores</th>\n",
       "    </tr>\n",
       "  </thead>\n",
       "  <tbody>\n",
       "    <tr>\n",
       "      <td>5724821755766999724</td>\n",
       "      <td>Battered Fried Fish</td>\n",
       "      <td>[8240554322501841782]</td>\n",
       "      <td>[Mom'S Pancakes]</td>\n",
       "      <td>[0.5066268526708992]</td>\n",
       "    </tr>\n",
       "    <tr>\n",
       "      <td>1724751793166003540</td>\n",
       "      <td>Apple Pie</td>\n",
       "      <td>[-6972161054895818310]</td>\n",
       "      <td>[Apple Dumplins]</td>\n",
       "      <td>[0.5957179439818722]</td>\n",
       "    </tr>\n",
       "    <tr>\n",
       "      <td>-2682508455536574038</td>\n",
       "      <td>Ice Cream</td>\n",
       "      <td>[6930348736077852695, -2839619272665960322, 8847943492650148032, 1728567545615044470, -5155294720942217303]</td>\n",
       "      <td>[Vanilla Ice Cream, Brownie Pie, Low Cholesterol Ice Cream, Plattar(Swedish Pancakes)  , Cream Pie And Pudding(Microwave)  ]</td>\n",
       "      <td>[0.624592049758917, 0.5543145255608545, 0.5385059820356695, 0.5378288057346015, 0.5378288057346015]</td>\n",
       "    </tr>\n",
       "    <tr>\n",
       "      <td>-8228806269697013615</td>\n",
       "      <td>Hot Spiced Tea</td>\n",
       "      <td>[3905076670840786120, -7117877633066661520]</td>\n",
       "      <td>[Spiced Tea, Microwave Spice Tea]</td>\n",
       "      <td>[0.9888464040409073, 0.5764306628895793]</td>\n",
       "    </tr>\n",
       "    <tr>\n",
       "      <td>8847943492650148032</td>\n",
       "      <td>Low Cholesterol Ice Cream</td>\n",
       "      <td>[6930348736077852695, -2682508455536574038]</td>\n",
       "      <td>[Vanilla Ice Cream, Ice Cream]</td>\n",
       "      <td>[0.6647852200539185, 0.5385059820356695]</td>\n",
       "    </tr>\n",
       "  </tbody>\n",
       "</table>"
      ],
      "text/plain": [
       "<IPython.core.display.HTML object>"
      ]
     },
     "metadata": {},
     "output_type": "display_data"
    }
   ],
   "source": [
    "# Get top recommendations by collecting the recommended_recipe_id into a list for each recipe_id\n",
    "top_recommendations = recommendations_df.groupby([\"recipe_id\", \"recipe_title\"]).agg(\n",
    "    F.collect_list(\"recommended_recipe_id\").alias(\"recommended_recipes\"),\n",
    "    F.collect_list(\"recommended_recipe_title\").alias(\"recommended_recipe_titles\"),\n",
    "    F.collect_list(\"similarity\").alias(\"similarity_scores\"),\n",
    ")\n",
    "# Show Top Recommendations\n",
    "display_spark_dataframe(top_recommendations, 5)"
   ]
  },
  {
   "cell_type": "markdown",
   "metadata": {},
   "source": [
    "So far, for such a basic model, we have been able to generate recommendations based on the similarity of the ingredients of the recipes. Based on our limited set, the recipes are indeed similar to the first ones based on the ingredients."
   ]
  },
  {
   "cell_type": "markdown",
   "metadata": {},
   "source": [
    "## Content-based Filtering\n",
    "\n",
    "The approach here is to recommend a recipe to a user based on the similarity of the ingredients present in other recipes.\n",
    "\n",
    "Let's have a look"
   ]
  },
  {
   "cell_type": "code",
   "execution_count": 28,
   "metadata": {},
   "outputs": [
    {
     "data": {
      "text/plain": [
       "['user_id',\n",
       " 'recipe_id',\n",
       " 'title',\n",
       " 'ingredients',\n",
       " 'link',\n",
       " 'import_date',\n",
       " 'cleaned_ingredients',\n",
       " 'features']"
      ]
     },
     "execution_count": 28,
     "metadata": {},
     "output_type": "execute_result"
    }
   ],
   "source": [
    "vectorized_df.columns"
   ]
  },
  {
   "cell_type": "code",
   "execution_count": 29,
   "metadata": {},
   "outputs": [
    {
     "name": "stderr",
     "output_type": "stream",
     "text": [
      "                                                                                \r"
     ]
    },
    {
     "data": {
      "text/html": [
       "<table border=\"1\" class=\"dataframe table table-striped table-bordered\">\n",
       "  <thead>\n",
       "    <tr style=\"text-align: right;\">\n",
       "      <th>user_id</th>\n",
       "      <th>recommended_recipes</th>\n",
       "      <th>similarity_scores</th>\n",
       "    </tr>\n",
       "  </thead>\n",
       "  <tbody>\n",
       "    <tr>\n",
       "      <td>29</td>\n",
       "      <td>[(-2682508455536574038, Ice Cream, http://www.cookbooks.com/Recipe-Details.aspx?id=13922, [eggs, sugar, milk, cream, vanilla, salt, milk]), (8847943492650148032, Low Cholesterol Ice Cream, http://www.cookbooks.com/Recipe-Details.aspx?id=289172, [Egg Scramblers, sugar, vanilla, milk, milk]), (1728567545615044470, Plattar(Swedish Pancakes)  , http://www.cookbooks.com/Recipe-Details.aspx?id=554747, [flour, sugar, salt, eggs, milk]), (-5155294720942217303, Cream Pie And Pudding(Microwave)  , http://www.cookbooks.com/Recipe-Details.aspx?id=634804, [sugar, flour, salt, eggs, milk])]</td>\n",
       "      <td>[0.624592049758917, 0.6647852200539185, 0.7464639123963781, 0.7464639123963781]</td>\n",
       "    </tr>\n",
       "    <tr>\n",
       "      <td>65</td>\n",
       "      <td>[(5996411961097143608, Meg'S Power Peanut Butter Balls, http://www.cookbooks.com/Recipe-Details.aspx?id=866378, [graham cracker crumbs, crunchy peanut butter, confectioners sugar, butter, paraffin, chocolate chips])]</td>\n",
       "      <td>[0.5898817681518592]</td>\n",
       "    </tr>\n",
       "    <tr>\n",
       "      <td>22</td>\n",
       "      <td>[(-8983223843788436463, Meltaways, http://www.cookbooks.com/Recipe-Details.aspx?id=719571, [cream cheese, margarine, flour])]</td>\n",
       "      <td>[0.5355846262398374]</td>\n",
       "    </tr>\n",
       "    <tr>\n",
       "      <td>77</td>\n",
       "      <td>[(4248772492409983307, Rolls, http://www.cookbooks.com/Recipe-Details.aspx?id=824206, [milk, butter, yeast, sugar, salt, eggs, flour]), (-2682508455536574038, Ice Cream, http://www.cookbooks.com/Recipe-Details.aspx?id=13922, [eggs, sugar, milk, cream, vanilla, salt, milk]), (6930348736077852695, Vanilla Ice Cream, http://www.cookbooks.com/Recipe-Details.aspx?id=91883, [eggs, sugar, milk, milk, milk]), (1728567545615044470, Plattar(Swedish Pancakes)  , http://www.cookbooks.com/Recipe-Details.aspx?id=554747, [flour, sugar, salt, eggs, milk])]</td>\n",
       "      <td>[0.5016577217360161, 0.5378288057346015, 0.7464639123963781, 1.0]</td>\n",
       "    </tr>\n",
       "    <tr>\n",
       "      <td>43</td>\n",
       "      <td>[(1724751793166003540, Apple Pie, http://www.cookbooks.com/Recipe-Details.aspx?id=505783, [apples, sugar, flour, cinnamon, salt])]</td>\n",
       "      <td>[0.5957179439818722]</td>\n",
       "    </tr>\n",
       "  </tbody>\n",
       "</table>"
      ],
      "text/plain": [
       "<IPython.core.display.HTML object>"
      ]
     },
     "metadata": {},
     "output_type": "display_data"
    }
   ],
   "source": [
    "subset = (\n",
    "    recommendations_df.alias(\"df1\")\n",
    "    .join(\n",
    "        vectorized_df.alias(\"df2\"),\n",
    "        recommendations_df.recommended_recipe_id == vectorized_df.recipe_id,\n",
    "    )\n",
    "    .select(\n",
    "        col(\"df1.user_id\"),\n",
    "        col(\"df2.recipe_id\"),\n",
    "        col(\"df2.title\"),\n",
    "        col(\"df2.link\"),\n",
    "        col(\"df2.ingredients\"),\n",
    "        col(\"df1.similarity\"),\n",
    "    )\n",
    ")\n",
    "\n",
    "\n",
    "recipe_content_based_recommendations = (\n",
    "    subset.orderBy([\"user_id\", \"similarity\"])\n",
    "    .groupby([\"user_id\"])\n",
    "    .agg(\n",
    "        F.slice(\n",
    "            F.collect_list(\n",
    "                F.struct(\n",
    "                    F.col(\"recipe_id\"),\n",
    "                    F.col(\"title\"),\n",
    "                    F.col(\"link\"),\n",
    "                    F.col(\"ingredients\"),\n",
    "                )\n",
    "            ),\n",
    "            1,\n",
    "            RECOMMENDATION_LIMIT,\n",
    "        ).alias(\"recommended_recipes\"),\n",
    "        F.slice(F.collect_list(\"similarity\"), 1, RECOMMENDATION_LIMIT).alias(\n",
    "            \"similarity_scores\"\n",
    "        ),\n",
    "    )\n",
    ")\n",
    "display_spark_dataframe(recipe_content_based_recommendations, 5)"
   ]
  },
  {
   "cell_type": "markdown",
   "metadata": {},
   "source": [
    "With this first approach, each user gets some recommendations based on the recipe similar to theirs.\n",
    "\n",
    "However, this approach breeds little diversity in the recommendations. Let's thus observe another approach to recommend recipes to users."
   ]
  },
  {
   "cell_type": "markdown",
   "metadata": {},
   "source": [
    "## Collaborative Filtering\n",
    "\n",
    "In this approach, we will get for each users the users that have similar taste to them, meaning users that have used similar ingredients in their recipe.\n",
    "\n",
    "Then, we will sample randomly a recipe from the users that have similar taste to the user and that the user has not already tried."
   ]
  },
  {
   "cell_type": "code",
   "execution_count": 30,
   "metadata": {},
   "outputs": [
    {
     "name": "stderr",
     "output_type": "stream",
     "text": [
      "                                                                                \r"
     ]
    },
    {
     "data": {
      "text/html": [
       "<table border=\"1\" class=\"dataframe table table-striped table-bordered\">\n",
       "  <thead>\n",
       "    <tr style=\"text-align: right;\">\n",
       "      <th>user_id</th>\n",
       "      <th>recommended_users</th>\n",
       "      <th>average_similarity_scores</th>\n",
       "    </tr>\n",
       "  </thead>\n",
       "  <tbody>\n",
       "    <tr>\n",
       "      <td>1</td>\n",
       "      <td>[24]</td>\n",
       "      <td>[0.9726914161586602]</td>\n",
       "    </tr>\n",
       "    <tr>\n",
       "      <td>24</td>\n",
       "      <td>[1]</td>\n",
       "      <td>[0.9726914161586602]</td>\n",
       "    </tr>\n",
       "    <tr>\n",
       "      <td>29</td>\n",
       "      <td>[41, 77]</td>\n",
       "      <td>[0.7464639123963781, 0.7464639123963781]</td>\n",
       "    </tr>\n",
       "    <tr>\n",
       "      <td>39</td>\n",
       "      <td>[63]</td>\n",
       "      <td>[0.9888464040409073]</td>\n",
       "    </tr>\n",
       "    <tr>\n",
       "      <td>41</td>\n",
       "      <td>[77, 29]</td>\n",
       "      <td>[1.0, 0.7464639123963781]</td>\n",
       "    </tr>\n",
       "  </tbody>\n",
       "</table>"
      ],
      "text/plain": [
       "<IPython.core.display.HTML object>"
      ]
     },
     "metadata": {},
     "output_type": "display_data"
    }
   ],
   "source": [
    "# Recommendations for Users\n",
    "RECOMMENDATION_LIMIT = 5\n",
    "SIMILARITY_THRESHOLD_USERS = 0.7  # We want really similar users\n",
    "\n",
    "\n",
    "# Get top recommendations by collecting the recommended_recipe_id into a list for each recipe_id\n",
    "top_user_similarity_recommendations = (\n",
    "    recommendations_df.orderBy([\"user_id\"])\n",
    "    .groupby([\"user_id\", \"recommended_user_id\"])\n",
    "    .agg(\n",
    "        F.avg(\"similarity\").alias(\"average_similarity\"),\n",
    "    )\n",
    "    .orderBy([\"user_id\", \"average_similarity\"], ascending=[True, False])\n",
    "    .withColumnRenamed(\"user_id\", \"user_id\")\n",
    ")\n",
    "\n",
    "top_user_similarity_recommendations = (\n",
    "    top_user_similarity_recommendations.filter(\n",
    "        col(\"average_similarity\") > SIMILARITY_THRESHOLD_USERS\n",
    "    )\n",
    "    .groupBy(\"user_id\")\n",
    "    .agg(\n",
    "        F.slice(F.collect_list(\"recommended_user_id\"), 1, RECOMMENDATION_LIMIT).alias(\n",
    "            \"recommended_users\"\n",
    "        ),\n",
    "        F.slice(F.collect_list(\"average_similarity\"), 1, RECOMMENDATION_LIMIT).alias(\n",
    "            \"average_similarity_scores\"\n",
    "        ),\n",
    "    )\n",
    ")\n",
    "\n",
    "display_spark_dataframe(top_user_similarity_recommendations, 5)"
   ]
  },
  {
   "cell_type": "code",
   "execution_count": 31,
   "metadata": {},
   "outputs": [
    {
     "name": "stderr",
     "output_type": "stream",
     "text": [
      "[Stage 52:>                                                         (0 + 1) / 1]\r"
     ]
    },
    {
     "name": "stdout",
     "output_type": "stream",
     "text": [
      "+-------+--------------------+--------------------+--------------------+--------------------+------------------+\n",
      "|user_id|           recipe_id|               title|                link|         ingredients|        similarity|\n",
      "+-------+--------------------+--------------------+--------------------+--------------------+------------------+\n",
      "|      1|-9058629457183933290|Vegetable-Burger ...|http://www.cookbo...|[ground beef, wat...|0.9726914161586602|\n",
      "|      1|   56267968418564497|  Broccoli Casserole|http://www.cookbo...|[rice, onion, bro...|0.5108642386266795|\n",
      "|      2| 2231876287136426631|       Pumpkin Bread|http://www.cookbo...|[pumpkin, salad o...|0.5199154800363099|\n",
      "|      2| 8240554322501841782|      Mom'S Pancakes|http://www.cookbo...|[flour, baking po...|0.5678542826316204|\n",
      "|      3| 7226555342600168366|Crustless Pumpkin...|http://www.cookbo...|[eggs, honey, gin...|0.5199154800363099|\n",
      "|      3| 3682129508320495524| Buckeyes(Cookies)  |http://www.cookbo...|[crunchy peanut b...|0.5898817681518592|\n",
      "|      4| 2501400926112837580| Raisin-Walnut Bread|http://www.cookbo...|[raisins, water, ...|0.5049048437350045|\n",
      "|     10| 6930348736077852695|   Vanilla Ice Cream|http://www.cookbo...|[eggs, sugar, mil...|0.6647852200539185|\n",
      "|     10|-2682508455536574038|           Ice Cream|http://www.cookbo...|[eggs, sugar, mil...|0.5385059820356695|\n",
      "|     12|-3633718265606525894|  Lemon Chip Cookies|http://www.cookbo...|[flour, sugar, cr...|0.5355846262398374|\n",
      "|     14| 6833491545595824920|   Quick Fruit Salad|http://www.cookbo...|[cherry pie filli...|0.5604586692128687|\n",
      "|     17| 3905076670840786120|          Spiced Tea|http://www.cookbo...|[sugar, instant t...|0.5700013881772769|\n",
      "|     17|-8228806269697013615|      Hot Spiced Tea|http://www.cookbo...|[sugar, instant t...|0.5764306628895793|\n",
      "|     22|-8983223843788436463|           Meltaways|http://www.cookbo...|[cream cheese, ma...|0.5355846262398374|\n",
      "|     24| 5825856628004213219|Vegetable Burger ...|http://www.cookbo...|[ground beef, tom...|0.9726914161586602|\n",
      "|     28|-8815957590080865143|       Chicken Divan|http://www.cookbo...|[margarine, onion...|0.5108642386266795|\n",
      "|     29| 8847943492650148032|Low Cholesterol I...|http://www.cookbo...|[Egg Scramblers, ...|0.6647852200539185|\n",
      "|     29| 1728567545615044470|Plattar(Swedish P...|http://www.cookbo...|[flour, sugar, sa...|0.7464639123963781|\n",
      "|     29|-2682508455536574038|           Ice Cream|http://www.cookbo...|[eggs, sugar, mil...| 0.624592049758917|\n",
      "|     29|-5155294720942217303|Cream Pie And Pud...|http://www.cookbo...|[sugar, flour, sa...|0.7464639123963781|\n",
      "+-------+--------------------+--------------------+--------------------+--------------------+------------------+\n",
      "only showing top 20 rows\n",
      "\n"
     ]
    },
    {
     "name": "stderr",
     "output_type": "stream",
     "text": [
      "                                                                                \r"
     ]
    }
   ],
   "source": [
    "subset.show()"
   ]
  },
  {
   "cell_type": "code",
   "execution_count": 32,
   "metadata": {},
   "outputs": [
    {
     "name": "stderr",
     "output_type": "stream",
     "text": [
      "                                                                                \r"
     ]
    },
    {
     "data": {
      "text/html": [
       "<table border=\"1\" class=\"dataframe table table-striped table-bordered\">\n",
       "  <thead>\n",
       "    <tr style=\"text-align: right;\">\n",
       "      <th>user_id</th>\n",
       "      <th>recommended_recipes</th>\n",
       "    </tr>\n",
       "  </thead>\n",
       "  <tbody>\n",
       "    <tr>\n",
       "      <td>1</td>\n",
       "      <td>[(3825230156317200027, Carrot Cake, http://www.cookbooks.com/Recipe-Details.aspx?id=406346, [flour, sugar, baking powder, cinnamon, cloves, oil, eggs, walnuts, junior jars baby carrots]), (5379553627317224379, Summer Squash Casserole, http://www.cookbooks.com/Recipe-Details.aspx?id=930887, [yellow sumer squash, onion, condensed cream, sour cream, carrot, herb seasoned stuffing mix, butter]), (-9058629457183933290, Vegetable-Burger Soup, http://www.cookbooks.com/Recipe-Details.aspx?id=822015, [ground beef, water, sugar, onion soup, tomatoes, tomato sauce, frozen mixed vegetables])]</td>\n",
       "    </tr>\n",
       "    <tr>\n",
       "      <td>24</td>\n",
       "      <td>[(-3928874728248188262, Blueberry Cake, http://www.cookbooks.com/Recipe-Details.aspx?id=303061, [eggs, sugar, shortening, salt, baking powder, vanilla, flour, milk, floured blueberries]), (-5669451870154398266, Ground Beef Casserole, http://www.cookbooks.com/Recipe-Details.aspx?id=449639, [ground beef, onion, clove garlic, bell pepper, celery, tomato, tomato sauce, mushrooms, corn, olives, egg noodles, cheese]), (3296045182844799490, Baked Cabbage, http://www.cookbooks.com/Recipe-Details.aspx?id=761049, [ground chuck, onion, rice, salt, cabbage, pepper, tomato soup, water, Mozzarella cheese]), (1176869484819785883, Fa-La-La-La-Las, http://www.cookbooks.com/Recipe-Details.aspx?id=744133, [butter, sugar, egg, salt, vanilla, almond extract, all-purpose]), (-8815957590080865143, Chicken Divan, http://www.cookbooks.com/Recipe-Details.aspx?id=425137, [margarine, onion, celery, flour, curry powder, mushrooms, cream of celery soup, broccoli, chicken, cheese])]</td>\n",
       "    </tr>\n",
       "    <tr>\n",
       "      <td>29</td>\n",
       "      <td>[(-5182186088732076091, Play Doh, http://www.cookbooks.com/Recipe-Details.aspx?id=906005, [flour, salt, alum, water, cooking oil, food coloring]), (-5155294720942217303, Cream Pie And Pudding(Microwave)  , http://www.cookbooks.com/Recipe-Details.aspx?id=634804, [sugar, flour, salt, eggs, milk]), (6717102631624880744, Original Mayfair Dressing, http://www.cookbooks.com/Recipe-Details.aspx?id=857466, [anchovies, black pepper, Accent, stalks celery, onion, mustard, garlic, lemon juice, eggs, oil]), (1728567545615044470, Plattar(Swedish Pancakes)  , http://www.cookbooks.com/Recipe-Details.aspx?id=554747, [flour, sugar, salt, eggs, milk])]</td>\n",
       "    </tr>\n",
       "    <tr>\n",
       "      <td>39</td>\n",
       "      <td>[(-5593920171542558470, Pot Roast, http://www.cookbooks.com/Recipe-Details.aspx?id=587453, [chuck roast, ginger, garlic, pepper, paprika, tomato paste]), (-8228806269697013615, Hot Spiced Tea, http://www.cookbooks.com/Recipe-Details.aspx?id=622677, [sugar, instant tea, cinnamon, cloves]), (-6459617218318945727, Chicken, Broccoli And Cheese Casserole, http://www.cookbooks.com/Recipe-Details.aspx?id=1081500, [fresh broccoli, chicken breasts, broccoli, milk, Cheddar cheese])]</td>\n",
       "    </tr>\n",
       "    <tr>\n",
       "      <td>41</td>\n",
       "      <td>[(2149492657839221283, Ambrosia Mold, http://www.cookbooks.com/Recipe-Details.aspx?id=222480, [pineapple, boiling water, orange flavor, topping, orange segments, marshmallows, coconut]), (6930348736077852695, Vanilla Ice Cream, http://www.cookbooks.com/Recipe-Details.aspx?id=91883, [eggs, sugar, milk, milk, milk]), (6717102631624880744, Original Mayfair Dressing, http://www.cookbooks.com/Recipe-Details.aspx?id=857466, [anchovies, black pepper, Accent, stalks celery, onion, mustard, garlic, lemon juice, eggs, oil]), (-5182186088732076091, Play Doh, http://www.cookbooks.com/Recipe-Details.aspx?id=906005, [flour, salt, alum, water, cooking oil, food coloring]), (-5155294720942217303, Cream Pie And Pudding(Microwave)  , http://www.cookbooks.com/Recipe-Details.aspx?id=634804, [sugar, flour, salt, eggs, milk])]</td>\n",
       "    </tr>\n",
       "  </tbody>\n",
       "</table>"
      ],
      "text/plain": [
       "<IPython.core.display.HTML object>"
      ]
     },
     "metadata": {},
     "output_type": "display_data"
    }
   ],
   "source": [
    "# Get top recommendations by collecting the recommended_recipe_id into a list for each recipe_id\n",
    "\n",
    "subset = (\n",
    "    top_user_similarity_recommendations.alias(\"df1\")\n",
    "    .join(\n",
    "        vectorized_df.alias(\"df2\"),\n",
    "        F.array_contains(\n",
    "            top_user_similarity_recommendations.recommended_users, vectorized_df.user_id\n",
    "        ),\n",
    "    )\n",
    "    .select(\n",
    "        \"df1.user_id\",\n",
    "        \"df1.recommended_users\",\n",
    "        \"df2.recipe_id\",\n",
    "        \"df2.title\",\n",
    "        \"df2.link\",\n",
    "        \"df2.ingredients\",\n",
    "    )\n",
    ")\n",
    "\n",
    "\n",
    "# Random recipe sampling for each reommended user\n",
    "recipe_collaborative_recommendations = subset.groupBy(\"user_id\").agg(\n",
    "    F.slice(\n",
    "        F.shuffle(\n",
    "            F.collect_list(\n",
    "                F.struct(\n",
    "                    F.col(\"recipe_id\"),\n",
    "                    F.col(\"title\"),\n",
    "                    F.col(\"link\"),\n",
    "                    F.col(\"ingredients\"),\n",
    "                )\n",
    "            )\n",
    "        ),\n",
    "        1,\n",
    "        RECOMMENDATION_LIMIT,\n",
    "    ).alias(\"recommended_recipes\"),\n",
    ")\n",
    "\n",
    "display_spark_dataframe(recipe_collaborative_recommendations, 5)"
   ]
  },
  {
   "cell_type": "markdown",
   "metadata": {},
   "source": [
    "## Merging the two recommendations"
   ]
  },
  {
   "cell_type": "code",
   "execution_count": 33,
   "metadata": {},
   "outputs": [],
   "source": [
    "final_recommendations = (\n",
    "    recipe_content_based_recommendations.alias(\"df1\")\n",
    "    .join(\n",
    "        recipe_collaborative_recommendations.alias(\"df2\"),\n",
    "        recipe_content_based_recommendations.user_id\n",
    "        == recipe_collaborative_recommendations.user_id,\n",
    "    )\n",
    "    .select(\n",
    "        \"df1.user_id\",\n",
    "        col(\"df1.recommended_recipes\").alias(\"content_based_recipes\"),\n",
    "        col(\"df1.similarity_scores\").alias(\"content_based_similarity_scores\"),\n",
    "        col(\"df2.recommended_recipes\").alias(\"collaborative_recipes\"),\n",
    "    )\n",
    ")"
   ]
  },
  {
   "cell_type": "code",
   "execution_count": 34,
   "metadata": {},
   "outputs": [
    {
     "name": "stderr",
     "output_type": "stream",
     "text": [
      "[Stage 65:>                                                         (0 + 1) / 1]\r"
     ]
    },
    {
     "name": "stdout",
     "output_type": "stream",
     "text": [
      "+-------+---------------------+-------------------------------+---------------------+\n",
      "|user_id|content_based_recipes|content_based_similarity_scores|collaborative_recipes|\n",
      "+-------+---------------------+-------------------------------+---------------------+\n",
      "|      1| [{562679684185644...|           [0.51086423862667...| [{382523015631720...|\n",
      "|     24| [{582585662800421...|           [0.9726914161586602]| [{-39288747282481...|\n",
      "|     29| [{-26825084555365...|           [0.62459204975891...| [{-51821860887320...|\n",
      "|     39| [{-71178776330666...|           [0.57000138817727...| [{-55939201715425...|\n",
      "|     41| [{424877249240998...|           [0.50165772173601...| [{214949265783922...|\n",
      "|     63| [{-71178776330666...|           [0.57643066288957...| [{390507667084078...|\n",
      "|     77| [{424877249240998...|           [0.50165772173601...| [{693034873607785...|\n",
      "+-------+---------------------+-------------------------------+---------------------+\n",
      "\n"
     ]
    },
    {
     "name": "stderr",
     "output_type": "stream",
     "text": [
      "                                                                                \r"
     ]
    }
   ],
   "source": [
    "final_recommendations.show()"
   ]
  },
  {
   "cell_type": "code",
   "execution_count": 35,
   "metadata": {},
   "outputs": [
    {
     "name": "stderr",
     "output_type": "stream",
     "text": [
      "                                                                                \r"
     ]
    },
    {
     "data": {
      "text/html": [
       "<table border=\"1\" class=\"dataframe table table-striped table-bordered\">\n",
       "  <thead>\n",
       "    <tr style=\"text-align: right;\">\n",
       "      <th>user_id</th>\n",
       "      <th>content_based_recipes</th>\n",
       "      <th>content_based_similarity_scores</th>\n",
       "      <th>collaborative_recipes</th>\n",
       "    </tr>\n",
       "  </thead>\n",
       "  <tbody>\n",
       "    <tr>\n",
       "      <td>1</td>\n",
       "      <td>[(56267968418564497, Broccoli Casserole, http://www.cookbooks.com/Recipe-Details.aspx?id=693123, [rice, onion, broccoli, cream of celery soup, margarine]), (-9058629457183933290, Vegetable-Burger Soup, http://www.cookbooks.com/Recipe-Details.aspx?id=822015, [ground beef, water, sugar, onion soup, tomatoes, tomato sauce, frozen mixed vegetables])]</td>\n",
       "      <td>[0.5108642386266795, 0.9726914161586602]</td>\n",
       "      <td>[(3825230156317200027, Carrot Cake, http://www.cookbooks.com/Recipe-Details.aspx?id=406346, [flour, sugar, baking powder, cinnamon, cloves, oil, eggs, walnuts, junior jars baby carrots]), (5379553627317224379, Summer Squash Casserole, http://www.cookbooks.com/Recipe-Details.aspx?id=930887, [yellow sumer squash, onion, condensed cream, sour cream, carrot, herb seasoned stuffing mix, butter]), (-9058629457183933290, Vegetable-Burger Soup, http://www.cookbooks.com/Recipe-Details.aspx?id=822015, [ground beef, water, sugar, onion soup, tomatoes, tomato sauce, frozen mixed vegetables])]</td>\n",
       "    </tr>\n",
       "    <tr>\n",
       "      <td>24</td>\n",
       "      <td>[(5825856628004213219, Vegetable Burger Soup, http://www.cookbooks.com/Recipe-Details.aspx?id=302429, [ground beef, tomatoes, tomato sauce, frozen mixed vegetables, onion soup, sugar])]</td>\n",
       "      <td>[0.9726914161586602]</td>\n",
       "      <td>[(-3928874728248188262, Blueberry Cake, http://www.cookbooks.com/Recipe-Details.aspx?id=303061, [eggs, sugar, shortening, salt, baking powder, vanilla, flour, milk, floured blueberries]), (-5669451870154398266, Ground Beef Casserole, http://www.cookbooks.com/Recipe-Details.aspx?id=449639, [ground beef, onion, clove garlic, bell pepper, celery, tomato, tomato sauce, mushrooms, corn, olives, egg noodles, cheese]), (3296045182844799490, Baked Cabbage, http://www.cookbooks.com/Recipe-Details.aspx?id=761049, [ground chuck, onion, rice, salt, cabbage, pepper, tomato soup, water, Mozzarella cheese]), (1176869484819785883, Fa-La-La-La-Las, http://www.cookbooks.com/Recipe-Details.aspx?id=744133, [butter, sugar, egg, salt, vanilla, almond extract, all-purpose]), (-8815957590080865143, Chicken Divan, http://www.cookbooks.com/Recipe-Details.aspx?id=425137, [margarine, onion, celery, flour, curry powder, mushrooms, cream of celery soup, broccoli, chicken, cheese])]</td>\n",
       "    </tr>\n",
       "    <tr>\n",
       "      <td>29</td>\n",
       "      <td>[(-2682508455536574038, Ice Cream, http://www.cookbooks.com/Recipe-Details.aspx?id=13922, [eggs, sugar, milk, cream, vanilla, salt, milk]), (8847943492650148032, Low Cholesterol Ice Cream, http://www.cookbooks.com/Recipe-Details.aspx?id=289172, [Egg Scramblers, sugar, vanilla, milk, milk]), (1728567545615044470, Plattar(Swedish Pancakes)  , http://www.cookbooks.com/Recipe-Details.aspx?id=554747, [flour, sugar, salt, eggs, milk]), (-5155294720942217303, Cream Pie And Pudding(Microwave)  , http://www.cookbooks.com/Recipe-Details.aspx?id=634804, [sugar, flour, salt, eggs, milk])]</td>\n",
       "      <td>[0.624592049758917, 0.6647852200539185, 0.7464639123963781, 0.7464639123963781]</td>\n",
       "      <td>[(-5182186088732076091, Play Doh, http://www.cookbooks.com/Recipe-Details.aspx?id=906005, [flour, salt, alum, water, cooking oil, food coloring]), (-5155294720942217303, Cream Pie And Pudding(Microwave)  , http://www.cookbooks.com/Recipe-Details.aspx?id=634804, [sugar, flour, salt, eggs, milk]), (6717102631624880744, Original Mayfair Dressing, http://www.cookbooks.com/Recipe-Details.aspx?id=857466, [anchovies, black pepper, Accent, stalks celery, onion, mustard, garlic, lemon juice, eggs, oil]), (1728567545615044470, Plattar(Swedish Pancakes)  , http://www.cookbooks.com/Recipe-Details.aspx?id=554747, [flour, sugar, salt, eggs, milk])]</td>\n",
       "    </tr>\n",
       "    <tr>\n",
       "      <td>39</td>\n",
       "      <td>[(-7117877633066661520, Microwave Spice Tea, http://www.cookbooks.com/Recipe-Details.aspx?id=543821, [sugar, sugar, ground cloves, cinnamon, instant tea]), (-8228806269697013615, Hot Spiced Tea, http://www.cookbooks.com/Recipe-Details.aspx?id=622677, [sugar, instant tea, cinnamon, cloves])]</td>\n",
       "      <td>[0.5700013881772769, 0.9888464040409073]</td>\n",
       "      <td>[(-5593920171542558470, Pot Roast, http://www.cookbooks.com/Recipe-Details.aspx?id=587453, [chuck roast, ginger, garlic, pepper, paprika, tomato paste]), (-8228806269697013615, Hot Spiced Tea, http://www.cookbooks.com/Recipe-Details.aspx?id=622677, [sugar, instant tea, cinnamon, cloves]), (-6459617218318945727, Chicken, Broccoli And Cheese Casserole, http://www.cookbooks.com/Recipe-Details.aspx?id=1081500, [fresh broccoli, chicken breasts, broccoli, milk, Cheddar cheese])]</td>\n",
       "    </tr>\n",
       "    <tr>\n",
       "      <td>41</td>\n",
       "      <td>[(4248772492409983307, Rolls, http://www.cookbooks.com/Recipe-Details.aspx?id=824206, [milk, butter, yeast, sugar, salt, eggs, flour]), (-2682508455536574038, Ice Cream, http://www.cookbooks.com/Recipe-Details.aspx?id=13922, [eggs, sugar, milk, cream, vanilla, salt, milk]), (6930348736077852695, Vanilla Ice Cream, http://www.cookbooks.com/Recipe-Details.aspx?id=91883, [eggs, sugar, milk, milk, milk]), (-5155294720942217303, Cream Pie And Pudding(Microwave)  , http://www.cookbooks.com/Recipe-Details.aspx?id=634804, [sugar, flour, salt, eggs, milk])]</td>\n",
       "      <td>[0.5016577217360161, 0.5378288057346015, 0.7464639123963781, 1.0]</td>\n",
       "      <td>[(2149492657839221283, Ambrosia Mold, http://www.cookbooks.com/Recipe-Details.aspx?id=222480, [pineapple, boiling water, orange flavor, topping, orange segments, marshmallows, coconut]), (6930348736077852695, Vanilla Ice Cream, http://www.cookbooks.com/Recipe-Details.aspx?id=91883, [eggs, sugar, milk, milk, milk]), (6717102631624880744, Original Mayfair Dressing, http://www.cookbooks.com/Recipe-Details.aspx?id=857466, [anchovies, black pepper, Accent, stalks celery, onion, mustard, garlic, lemon juice, eggs, oil]), (-5182186088732076091, Play Doh, http://www.cookbooks.com/Recipe-Details.aspx?id=906005, [flour, salt, alum, water, cooking oil, food coloring]), (-5155294720942217303, Cream Pie And Pudding(Microwave)  , http://www.cookbooks.com/Recipe-Details.aspx?id=634804, [sugar, flour, salt, eggs, milk])]</td>\n",
       "    </tr>\n",
       "    <tr>\n",
       "      <td>63</td>\n",
       "      <td>[(-7117877633066661520, Microwave Spice Tea, http://www.cookbooks.com/Recipe-Details.aspx?id=543821, [sugar, sugar, ground cloves, cinnamon, instant tea]), (3905076670840786120, Spiced Tea, http://www.cookbooks.com/Recipe-Details.aspx?id=901007, [sugar, instant tea, cinnamon, cloves, salt])]</td>\n",
       "      <td>[0.5764306628895793, 0.9888464040409073]</td>\n",
       "      <td>[(3905076670840786120, Spiced Tea, http://www.cookbooks.com/Recipe-Details.aspx?id=901007, [sugar, instant tea, cinnamon, cloves, salt]), (-6007787547450475077, Danish Cake, http://www.cookbooks.com/Recipe-Details.aspx?id=646925, [shortening, sugar, eggs, flour, soda, salt, buttermilk, orange juice, nuts, dates, orange rind, vanilla])]</td>\n",
       "    </tr>\n",
       "    <tr>\n",
       "      <td>77</td>\n",
       "      <td>[(4248772492409983307, Rolls, http://www.cookbooks.com/Recipe-Details.aspx?id=824206, [milk, butter, yeast, sugar, salt, eggs, flour]), (-2682508455536574038, Ice Cream, http://www.cookbooks.com/Recipe-Details.aspx?id=13922, [eggs, sugar, milk, cream, vanilla, salt, milk]), (6930348736077852695, Vanilla Ice Cream, http://www.cookbooks.com/Recipe-Details.aspx?id=91883, [eggs, sugar, milk, milk, milk]), (1728567545615044470, Plattar(Swedish Pancakes)  , http://www.cookbooks.com/Recipe-Details.aspx?id=554747, [flour, sugar, salt, eggs, milk])]</td>\n",
       "      <td>[0.5016577217360161, 0.5378288057346015, 0.7464639123963781, 1.0]</td>\n",
       "      <td>[(6930348736077852695, Vanilla Ice Cream, http://www.cookbooks.com/Recipe-Details.aspx?id=91883, [eggs, sugar, milk, milk, milk]), (2149492657839221283, Ambrosia Mold, http://www.cookbooks.com/Recipe-Details.aspx?id=222480, [pineapple, boiling water, orange flavor, topping, orange segments, marshmallows, coconut]), (1728567545615044470, Plattar(Swedish Pancakes)  , http://www.cookbooks.com/Recipe-Details.aspx?id=554747, [flour, sugar, salt, eggs, milk])]</td>\n",
       "    </tr>\n",
       "  </tbody>\n",
       "</table>"
      ],
      "text/plain": [
       "<IPython.core.display.HTML object>"
      ]
     },
     "metadata": {},
     "output_type": "display_data"
    }
   ],
   "source": [
    "# Example usage\n",
    "display_spark_dataframe(final_recommendations)"
   ]
  },
  {
   "cell_type": "code",
   "execution_count": null,
   "metadata": {},
   "outputs": [],
   "source": []
  }
 ],
 "metadata": {
  "kernelspec": {
   "display_name": "bring_",
   "language": "python",
   "name": "python3"
  },
  "language_info": {
   "codemirror_mode": {
    "name": "ipython",
    "version": 3
   },
   "file_extension": ".py",
   "mimetype": "text/x-python",
   "name": "python",
   "nbconvert_exporter": "python",
   "pygments_lexer": "ipython3",
   "version": "3.10.9"
  }
 },
 "nbformat": 4,
 "nbformat_minor": 2
}
