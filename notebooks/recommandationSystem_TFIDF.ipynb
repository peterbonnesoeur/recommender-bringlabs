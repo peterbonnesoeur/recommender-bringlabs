{
 "cells": [
  {
   "cell_type": "code",
   "execution_count": 1,
   "metadata": {},
   "outputs": [
    {
     "name": "stderr",
     "output_type": "stream",
     "text": [
      "24/10/14 21:42:18 WARN Utils: Your hostname, Maximes-MacBook-Pro.local resolves to a loopback address: 127.0.0.1; using 192.168.0.97 instead (on interface en0)\n",
      "24/10/14 21:42:18 WARN Utils: Set SPARK_LOCAL_IP if you need to bind to another address\n",
      "Setting default log level to \"WARN\".\n",
      "To adjust logging level use sc.setLogLevel(newLevel). For SparkR, use setLogLevel(newLevel).\n",
      "24/10/14 21:42:18 WARN NativeCodeLoader: Unable to load native-hadoop library for your platform... using builtin-java classes where applicable\n"
     ]
    }
   ],
   "source": [
    "from pyspark.sql import SparkSession\n",
    "from pyspark.ml.feature import CountVectorizer, IDF\n",
    "from pyspark.sql.functions import col, udf\n",
    "from pyspark.sql import functions as F\n",
    "from pyspark.sql.types import StringType, ArrayType, DoubleType\n",
    "\n",
    "from IPython.display import HTML\n",
    "\n",
    "import numpy as np\n",
    "import nltk\n",
    "from nltk.stem import WordNetLemmatizer\n",
    "import re\n",
    "import json\n",
    "\n",
    "SEED = 42  # Set your desired seed for reproducibility\n",
    "\n",
    "# Initialize Spark session\n",
    "spark = SparkSession.builder.appName(\"Recipe Recommender System\").getOrCreate()"
   ]
  },
  {
   "cell_type": "code",
   "execution_count": 2,
   "metadata": {},
   "outputs": [],
   "source": [
    "\n",
    "\n",
    "def display_spark_dataframe(df, num_rows=100):\n",
    "    # Convert the Spark DataFrame to Pandas for display purposes\n",
    "    pandas_df = df.limit(num_rows).toPandas()\n",
    "\n",
    "    # Generate HTML table\n",
    "    html = pandas_df.to_html(classes=\"table table-striped table-bordered\", index=False)\n",
    "\n",
    "    # Display the HTML in the notebook\n",
    "    display(HTML(html))"
   ]
  },
  {
   "cell_type": "code",
   "execution_count": 3,
   "metadata": {},
   "outputs": [
    {
     "name": "stdout",
     "output_type": "stream",
     "text": [
      "root\n",
      " |-- user_id: long (nullable = true)\n",
      " |-- recipe_id: long (nullable = true)\n",
      " |-- title: string (nullable = true)\n",
      " |-- ingredients: string (nullable = true)\n",
      " |-- link: string (nullable = true)\n",
      " |-- ratings: long (nullable = true)\n",
      " |-- import_date: double (nullable = true)\n",
      "\n"
     ]
    },
    {
     "data": {
      "text/html": [
       "<table border=\"1\" class=\"dataframe table table-striped table-bordered\">\n",
       "  <thead>\n",
       "    <tr style=\"text-align: right;\">\n",
       "      <th>user_id</th>\n",
       "      <th>recipe_id</th>\n",
       "      <th>title</th>\n",
       "      <th>ingredients</th>\n",
       "      <th>link</th>\n",
       "      <th>ratings</th>\n",
       "      <th>import_date</th>\n",
       "    </tr>\n",
       "  </thead>\n",
       "  <tbody>\n",
       "    <tr>\n",
       "      <td>1</td>\n",
       "      <td>3236072851089661531</td>\n",
       "      <td>Sauteed Bananas</td>\n",
       "      <td>[\"bananas\", \"confectioners sugar\", \"flour\", \"butter\"]</td>\n",
       "      <td>http://www.cookbooks.com/Recipe-Details.aspx?id=913543</td>\n",
       "      <td>3</td>\n",
       "      <td>1.727300e+09</td>\n",
       "    </tr>\n",
       "    <tr>\n",
       "      <td>1</td>\n",
       "      <td>9145863324980688501</td>\n",
       "      <td>Fruit Pizza</td>\n",
       "      <td>[\"cream cheese\", \"Marshmallow Fluff\", \"blueberries\"]</td>\n",
       "      <td>http://www.cookbooks.com/Recipe-Details.aspx?id=1056162</td>\n",
       "      <td>2</td>\n",
       "      <td>1.726177e+09</td>\n",
       "    </tr>\n",
       "    <tr>\n",
       "      <td>1</td>\n",
       "      <td>6646370876398660190</td>\n",
       "      <td>Raw Gluten</td>\n",
       "      <td>[\"whole wheat flour\", \"water\"]</td>\n",
       "      <td>http://www.cookbooks.com/Recipe-Details.aspx?id=1075892</td>\n",
       "      <td>4</td>\n",
       "      <td>1.726609e+09</td>\n",
       "    </tr>\n",
       "  </tbody>\n",
       "</table>"
      ],
      "text/plain": [
       "<IPython.core.display.HTML object>"
      ]
     },
     "metadata": {},
     "output_type": "display_data"
    }
   ],
   "source": [
    "# Load dataset\n",
    "file_path = \"../data/processed/users_interactions.parquet\"\n",
    "raw_df = spark.read.parquet(file_path)\n",
    "\n",
    "\n",
    "# Inspect dataset\n",
    "raw_df.printSchema()\n",
    "display_spark_dataframe(raw_df, 3)"
   ]
  },
  {
   "cell_type": "markdown",
   "metadata": {},
   "source": [
    "Here the issue is that the ingredients column is a string and not a list of strings. We need to convert it to a list of strings."
   ]
  },
  {
   "cell_type": "code",
   "execution_count": 4,
   "metadata": {},
   "outputs": [],
   "source": [
    "# clean the ingredients column as a list of strings\n",
    "def clean_ingredients(ingredients):\n",
    "    ingredients = json.loads(ingredients)\n",
    "    return [re.sub(r\"\\d+\", \"\", ingredient).strip() for ingredient in ingredients]\n",
    "\n",
    "\n",
    "clean_ingredients_udf = udf(clean_ingredients, ArrayType(StringType()))\n",
    "df = raw_df.withColumn(\"ingredients\", clean_ingredients_udf(\"ingredients\"))"
   ]
  },
  {
   "cell_type": "code",
   "execution_count": 5,
   "metadata": {},
   "outputs": [
    {
     "name": "stdout",
     "output_type": "stream",
     "text": [
      "root\n",
      " |-- user_id: long (nullable = true)\n",
      " |-- recipe_id: long (nullable = true)\n",
      " |-- title: string (nullable = true)\n",
      " |-- ingredients: array (nullable = true)\n",
      " |    |-- element: string (containsNull = true)\n",
      " |-- link: string (nullable = true)\n",
      " |-- ratings: long (nullable = true)\n",
      " |-- import_date: double (nullable = true)\n",
      "\n"
     ]
    },
    {
     "data": {
      "text/html": [
       "<table border=\"1\" class=\"dataframe table table-striped table-bordered\">\n",
       "  <thead>\n",
       "    <tr style=\"text-align: right;\">\n",
       "      <th>user_id</th>\n",
       "      <th>recipe_id</th>\n",
       "      <th>title</th>\n",
       "      <th>ingredients</th>\n",
       "      <th>link</th>\n",
       "      <th>ratings</th>\n",
       "      <th>import_date</th>\n",
       "    </tr>\n",
       "  </thead>\n",
       "  <tbody>\n",
       "    <tr>\n",
       "      <td>1</td>\n",
       "      <td>3236072851089661531</td>\n",
       "      <td>Sauteed Bananas</td>\n",
       "      <td>[bananas, confectioners sugar, flour, butter]</td>\n",
       "      <td>http://www.cookbooks.com/Recipe-Details.aspx?id=913543</td>\n",
       "      <td>3</td>\n",
       "      <td>1.727300e+09</td>\n",
       "    </tr>\n",
       "    <tr>\n",
       "      <td>1</td>\n",
       "      <td>9145863324980688501</td>\n",
       "      <td>Fruit Pizza</td>\n",
       "      <td>[cream cheese, Marshmallow Fluff, blueberries]</td>\n",
       "      <td>http://www.cookbooks.com/Recipe-Details.aspx?id=1056162</td>\n",
       "      <td>2</td>\n",
       "      <td>1.726177e+09</td>\n",
       "    </tr>\n",
       "    <tr>\n",
       "      <td>1</td>\n",
       "      <td>6646370876398660190</td>\n",
       "      <td>Raw Gluten</td>\n",
       "      <td>[whole wheat flour, water]</td>\n",
       "      <td>http://www.cookbooks.com/Recipe-Details.aspx?id=1075892</td>\n",
       "      <td>4</td>\n",
       "      <td>1.726609e+09</td>\n",
       "    </tr>\n",
       "    <tr>\n",
       "      <td>1</td>\n",
       "      <td>-3751444487082958385</td>\n",
       "      <td>Buckeye Candy</td>\n",
       "      <td>[powdered sugar, butter, peanut butter, paraffin, chocolate chips]</td>\n",
       "      <td>http://www.cookbooks.com/Recipe-Details.aspx?id=886785</td>\n",
       "      <td>5</td>\n",
       "      <td>1.728510e+09</td>\n",
       "    </tr>\n",
       "    <tr>\n",
       "      <td>1</td>\n",
       "      <td>4663243117944940535</td>\n",
       "      <td>Beer Bread</td>\n",
       "      <td>[flour, beer, sugar]</td>\n",
       "      <td>http://www.cookbooks.com/Recipe-Details.aspx?id=26648</td>\n",
       "      <td>1</td>\n",
       "      <td>1.726782e+09</td>\n",
       "    </tr>\n",
       "  </tbody>\n",
       "</table>"
      ],
      "text/plain": [
       "<IPython.core.display.HTML object>"
      ]
     },
     "metadata": {},
     "output_type": "display_data"
    }
   ],
   "source": [
    "# Inspect dataset\n",
    "df.printSchema()\n",
    "display_spark_dataframe(df, 5)"
   ]
  },
  {
   "cell_type": "code",
   "execution_count": 6,
   "metadata": {},
   "outputs": [
    {
     "name": "stderr",
     "output_type": "stream",
     "text": [
      "[nltk_data] Downloading package wordnet to\n",
      "[nltk_data]     /Users/maximebonnesoeur/nltk_data...\n",
      "[nltk_data] Downloading package omw-1.4 to\n",
      "[nltk_data]     /Users/maximebonnesoeur/nltk_data...\n"
     ]
    }
   ],
   "source": [
    "# Text Cleaning Function: Lemmatisation, Lowercasing, Removing Special Characters\n",
    "nltk.download(\"wordnet\")\n",
    "nltk.download(\"omw-1.4\")\n",
    "lemmatizer = WordNetLemmatizer()"
   ]
  },
  {
   "cell_type": "markdown",
   "metadata": {},
   "source": [
    "## Cleaning and lemmatizing the ingredients"
   ]
  },
  {
   "cell_type": "code",
   "execution_count": 7,
   "metadata": {},
   "outputs": [
    {
     "name": "stdout",
     "output_type": "stream",
     "text": [
      "+---------------+------------------------------------------------------------------+------------------------------------------------------------------------------------------------------------------------------------+\n",
      "|title          |ingredients                                                       |cleaned_ingredients                                                                                                                 |\n",
      "+---------------+------------------------------------------------------------------+------------------------------------------------------------------------------------------------------------------------------------+\n",
      "|Sauteed Bananas|[bananas, confectioners sugar, flour, butter]                     |[bananas, bananas, confectioners sugar, confectioners sugar, flour, flour, butter, butter]                                          |\n",
      "|Fruit Pizza    |[cream cheese, Marshmallow Fluff, blueberries]                    |[cream cheese, cream cheese, Marshmallow Fluff, marshmallow fluff, blueberries, blueberries]                                        |\n",
      "|Raw Gluten     |[whole wheat flour, water]                                        |[whole wheat flour, whole wheat flour, water, water]                                                                                |\n",
      "|Buckeye Candy  |[powdered sugar, butter, peanut butter, paraffin, chocolate chips]|[powdered sugar, powdered sugar, butter, butter, peanut butter, peanut butter, paraffin, paraffin, chocolate chips, chocolate chips]|\n",
      "|Beer Bread     |[flour, beer, sugar]                                              |[flour, flour, beer, beer, sugar, sugar]                                                                                            |\n",
      "+---------------+------------------------------------------------------------------+------------------------------------------------------------------------------------------------------------------------------------+\n",
      "only showing top 5 rows\n",
      "\n"
     ]
    }
   ],
   "source": [
    "def clean_ingredients(ingredient_list):\n",
    "    cleaned_set = []\n",
    "    for ingredient in ingredient_list:\n",
    "        cleaned_set.append(ingredient)\n",
    "        # Remove special characters, convert to lowercase, and lemmatize each word\n",
    "        ingredient = \"\".join(re.sub(r\"[^a-zA-Z\\s]\", \"\", ingredient))\n",
    "        ingredient = ingredient.lower()\n",
    "        # lemmatized_ingredient = ingredient#[lemmatizer.lemmatize(word) for word in ingredient.split()]\n",
    "        cleaned_set.append(ingredient)\n",
    "\n",
    "    return list(cleaned_set)\n",
    "\n",
    "\n",
    "clean_ingredients_udf = udf(clean_ingredients, ArrayType(StringType()))\n",
    "\n",
    "# Apply text cleaning to ingredients\n",
    "df = df.withColumn(\"cleaned_ingredients\", clean_ingredients_udf(col(\"ingredients\")))\n",
    "df.select(\"title\", \"ingredients\", \"cleaned_ingredients\").show(5, truncate=False)"
   ]
  },
  {
   "cell_type": "markdown",
   "metadata": {},
   "source": [
    "## TF IDF vectorization\n",
    "\n",
    "Here we have little information about the recipe in itself. So we will use the similarity between the ingredients to recommend recipes."
   ]
  },
  {
   "cell_type": "code",
   "execution_count": 8,
   "metadata": {},
   "outputs": [],
   "source": [
    "SIMILARITY_THRESHOLD = 0.5\n",
    "# Recommendations for Users\n",
    "RECOMMENDATION_LIMIT = 5"
   ]
  },
  {
   "cell_type": "code",
   "execution_count": null,
   "metadata": {},
   "outputs": [],
   "source": []
  },
  {
   "cell_type": "code",
   "execution_count": 9,
   "metadata": {},
   "outputs": [],
   "source": [
    "# Feature Extraction for Content-Based Filtering\n",
    "# Use CountVectorizer to convert cleaned ingredients into feature vectors\n",
    "# AKA, we will count the number of times each ingredient appears in the dataset\n",
    "# Example: [\"apple\", \"banana\", \"apple\"] -> ({\"apple\": 2, \"banana\": 1})\n",
    "cv = CountVectorizer(inputCol=\"cleaned_ingredients\", outputCol=\"features\")\n",
    "cv_model = cv.fit(df)\n",
    "vectorized_df = cv_model.transform(df)"
   ]
  },
  {
   "cell_type": "markdown",
   "metadata": {},
   "source": [
    "However, we need to normalize the feature vectors to ensure that each ingredient has equal weight\n",
    "Use IDF to normalize the feature vectors from CountVectorizer and \"remove\" common ingredients common to all recipes"
   ]
  },
  {
   "cell_type": "code",
   "execution_count": 10,
   "metadata": {},
   "outputs": [
    {
     "name": "stderr",
     "output_type": "stream",
     "text": [
      "                                                                                \r"
     ]
    }
   ],
   "source": [
    "# Compute TF-IDF for better weighting\n",
    "idf = IDF(inputCol=\"features\", outputCol=\"tfidf_features\")\n",
    "idf_model = idf.fit(vectorized_df)\n",
    "tf_idf_df = idf_model.transform(vectorized_df)"
   ]
  },
  {
   "cell_type": "code",
   "execution_count": 11,
   "metadata": {},
   "outputs": [
    {
     "name": "stdout",
     "output_type": "stream",
     "text": [
      "root\n",
      " |-- user_id: long (nullable = true)\n",
      " |-- recipe_id: long (nullable = true)\n",
      " |-- title: string (nullable = true)\n",
      " |-- ingredients: array (nullable = true)\n",
      " |    |-- element: string (containsNull = true)\n",
      " |-- link: string (nullable = true)\n",
      " |-- ratings: long (nullable = true)\n",
      " |-- import_date: double (nullable = true)\n",
      " |-- cleaned_ingredients: array (nullable = true)\n",
      " |    |-- element: string (containsNull = true)\n",
      " |-- features: vector (nullable = true)\n",
      " |-- tfidf_features: vector (nullable = true)\n",
      " |-- tfidf_array: array (nullable = true)\n",
      " |    |-- element: double (containsNull = true)\n",
      " |-- recipe_id: long (nullable = true)\n",
      " |-- tfidf_array: array (nullable = true)\n",
      " |    |-- element: double (containsNull = true)\n",
      " |-- title: string (nullable = true)\n",
      " |-- user_id: long (nullable = true)\n",
      " |-- similarity: double (nullable = true)\n",
      "\n"
     ]
    },
    {
     "name": "stderr",
     "output_type": "stream",
     "text": [
      "                                                                                \r"
     ]
    },
    {
     "data": {
      "text/html": [
       "<table border=\"1\" class=\"dataframe table table-striped table-bordered\">\n",
       "  <thead>\n",
       "    <tr style=\"text-align: right;\">\n",
       "      <th>recipe_id</th>\n",
       "      <th>user_id</th>\n",
       "      <th>recommended_user_id</th>\n",
       "      <th>recipe_title</th>\n",
       "      <th>recommended_recipe_id</th>\n",
       "      <th>recommended_recipe_title</th>\n",
       "      <th>similarity</th>\n",
       "    </tr>\n",
       "  </thead>\n",
       "  <tbody>\n",
       "    <tr>\n",
       "      <td>-8962283335644396817</td>\n",
       "      <td>1</td>\n",
       "      <td>3</td>\n",
       "      <td>Microwave Fudge</td>\n",
       "      <td>4543509988065438196</td>\n",
       "      <td>Easy Fudge</td>\n",
       "      <td>0.564710</td>\n",
       "    </tr>\n",
       "    <tr>\n",
       "      <td>-8962283335644396817</td>\n",
       "      <td>1</td>\n",
       "      <td>2</td>\n",
       "      <td>Microwave Fudge</td>\n",
       "      <td>6393498659283924984</td>\n",
       "      <td>One Bowl Chocolate Fudge(Microwave)</td>\n",
       "      <td>0.518839</td>\n",
       "    </tr>\n",
       "    <tr>\n",
       "      <td>-8486918150038815122</td>\n",
       "      <td>13</td>\n",
       "      <td>3</td>\n",
       "      <td>Persimmon Cookies</td>\n",
       "      <td>3366988585576868145</td>\n",
       "      <td>Persimmon Cake</td>\n",
       "      <td>0.626147</td>\n",
       "    </tr>\n",
       "    <tr>\n",
       "      <td>-8005079721966657344</td>\n",
       "      <td>3</td>\n",
       "      <td>51</td>\n",
       "      <td>Lemon Pudding Pound Cake</td>\n",
       "      <td>-1875286469985801954</td>\n",
       "      <td>Bonnie'S Lemon Jello Cake</td>\n",
       "      <td>0.833649</td>\n",
       "    </tr>\n",
       "    <tr>\n",
       "      <td>-8005079721966657344</td>\n",
       "      <td>3</td>\n",
       "      <td>53</td>\n",
       "      <td>Lemon Pudding Pound Cake</td>\n",
       "      <td>3423791347401780918</td>\n",
       "      <td>Cream Cheese Squares</td>\n",
       "      <td>0.567421</td>\n",
       "    </tr>\n",
       "  </tbody>\n",
       "</table>"
      ],
      "text/plain": [
       "<IPython.core.display.HTML object>"
      ]
     },
     "metadata": {},
     "output_type": "display_data"
    }
   ],
   "source": [
    "# Generate Recommendations using Cosine Similarity\n",
    "# Convert TF-IDF vectors to DenseVectors for similarity computation\n",
    "vector_to_array_udf = udf(lambda v: v.toArray().tolist(), ArrayType(DoubleType()))\n",
    "tf_idf_df = tf_idf_df.withColumn(\n",
    "    \"tfidf_array\", vector_to_array_udf(col(\"tfidf_features\"))\n",
    ")\n",
    "\n",
    "\n",
    "# Define a function to compute cosine similarity between two vectors\n",
    "def cosine_similarity(v1, v2):\n",
    "    v1 = np.array(v1)\n",
    "    v2 = np.array(v2)\n",
    "    dot_product = np.dot(v1, v2)\n",
    "    norm_v1 = np.linalg.norm(v1)\n",
    "    norm_v2 = np.linalg.norm(v2)\n",
    "    if norm_v1 == 0 or norm_v2 == 0:\n",
    "        return 0.0\n",
    "    return float(dot_product / (norm_v1 * norm_v2))\n",
    "\n",
    "\n",
    "cosine_similarity_udf = udf(cosine_similarity, DoubleType())\n",
    "\n",
    "# Self-join the DataFrame to calculate similarity between all recipes\n",
    "cross_joined_df = tf_idf_df.alias(\"df1\").crossJoin(\n",
    "    tf_idf_df.select([\"recipe_id\", \"tfidf_array\", \"title\", \"user_id\"]).alias(\"df2\")\n",
    ")\n",
    "\n",
    "# Calculate cosine similarity for each pair of recipes\n",
    "cross_joined_df = cross_joined_df.withColumn(\n",
    "    \"similarity\", cosine_similarity_udf(col(\"df1.tfidf_array\"), col(\"df2.tfidf_array\"))\n",
    ")\n",
    "cross_joined_df.printSchema()\n",
    "\n",
    "\n",
    "# Select the necessary columns and alias them to avoid ambiguity\n",
    "recommendations_df = cross_joined_df.filter(\n",
    "    (col(\"df1.recipe_id\") != col(\"df2.recipe_id\"))\n",
    "    & (  # Never recommend the same recipe\n",
    "        col(\"df1.user_id\") != col(\"df2.user_id\")\n",
    "    )  # Never recommend the a recipe from the same user\n",
    ")\n",
    "\n",
    "# Explicitly select and alias the columns\n",
    "recommendations_df = (\n",
    "    recommendations_df.select(\n",
    "        col(\"df1.recipe_id\").alias(\"recipe_id\"),\n",
    "        col(\"df1.user_id\").alias(\"user_id\"),\n",
    "        col(\"df2.user_id\").alias(\"recommended_user_id\"),\n",
    "        col(\"df1.title\").alias(\"recipe_title\"),\n",
    "        col(\"df2.recipe_id\").alias(\"recommended_recipe_id\"),\n",
    "        col(\"df2.title\").alias(\"recommended_recipe_title\"),\n",
    "        col(\"similarity\"),\n",
    "        # Add any other columns you may need\n",
    "    )\n",
    "    .filter(col(\"similarity\") > SIMILARITY_THRESHOLD)\n",
    "    .orderBy(col(\"recipe_id\"), col(\"similarity\").desc())\n",
    ")\n",
    "\n",
    "display_spark_dataframe(recommendations_df, 5)"
   ]
  },
  {
   "cell_type": "code",
   "execution_count": 12,
   "metadata": {},
   "outputs": [
    {
     "name": "stderr",
     "output_type": "stream",
     "text": [
      "                                                                                \r"
     ]
    },
    {
     "data": {
      "text/html": [
       "<table border=\"1\" class=\"dataframe table table-striped table-bordered\">\n",
       "  <thead>\n",
       "    <tr style=\"text-align: right;\">\n",
       "      <th>recipe_id</th>\n",
       "      <th>recipe_title</th>\n",
       "      <th>recommended_recipes</th>\n",
       "      <th>recommended_recipe_titles</th>\n",
       "      <th>similarity_scores</th>\n",
       "    </tr>\n",
       "  </thead>\n",
       "  <tbody>\n",
       "    <tr>\n",
       "      <td>5583050311044080495</td>\n",
       "      <td>Chocolate Icing</td>\n",
       "      <td>[-556339092044172322, 7869757872690146822, -847568789911499598]</td>\n",
       "      <td>[Golf Balls, Chocolate Oatmeal Cookies, No Bake Cookies]</td>\n",
       "      <td>[0.6811784473412361, 0.5826389327799872, 0.5560344839915443]</td>\n",
       "    </tr>\n",
       "    <tr>\n",
       "      <td>-629699203677729697</td>\n",
       "      <td>Rice-Broccoli Casserole</td>\n",
       "      <td>[6082401801560777728, 6082401801560777728, 6082401801560777728, -7387520298671766024, -7387520298671766024, -7387520298671766024]</td>\n",
       "      <td>[Broccoli Rice Casserole, Broccoli Rice Casserole, Broccoli Rice Casserole, Broccoli Casserole, Broccoli Casserole, Broccoli Casserole]</td>\n",
       "      <td>[0.7505796541242438, 0.7505796541242438, 0.7505796541242438, 0.5262668534924548, 0.5262668534924548, 0.5262668534924548]</td>\n",
       "    </tr>\n",
       "    <tr>\n",
       "      <td>-535900969057078244</td>\n",
       "      <td>Peach Cobbler</td>\n",
       "      <td>[2323039842900641889]</td>\n",
       "      <td>[\"Peachy\" Cake]</td>\n",
       "      <td>[0.520846300239213]</td>\n",
       "    </tr>\n",
       "    <tr>\n",
       "      <td>-2681701082806432578</td>\n",
       "      <td>Strawberry Salad</td>\n",
       "      <td>[-3014238091247932718]</td>\n",
       "      <td>[Phylis' Pineapple-Banana Salad]</td>\n",
       "      <td>[0.5208854388953843]</td>\n",
       "    </tr>\n",
       "    <tr>\n",
       "      <td>-556339092044172322</td>\n",
       "      <td>Golf Balls</td>\n",
       "      <td>[5583050311044080495, 7869757872690146822, -847568789911499598, -3751444487082958385, 5921757842749730267]</td>\n",
       "      <td>[Chocolate Icing, Chocolate Oatmeal Cookies, No Bake Cookies, Buckeye Candy, Annie'S Diabetic Candy]</td>\n",
       "      <td>[0.6811784473412361, 0.5971053116517856, 0.569840299323566, 0.5113858574913516, 0.5041645727694347]</td>\n",
       "    </tr>\n",
       "  </tbody>\n",
       "</table>"
      ],
      "text/plain": [
       "<IPython.core.display.HTML object>"
      ]
     },
     "metadata": {},
     "output_type": "display_data"
    }
   ],
   "source": [
    "# Get top recommendations by collecting the recommended_recipe_id into a list for each recipe_id\n",
    "top_recommendations = recommendations_df.groupby([\"recipe_id\", \"recipe_title\"]).agg(\n",
    "    F.collect_list(\"recommended_recipe_id\").alias(\"recommended_recipes\"),\n",
    "    F.collect_list(\"recommended_recipe_title\").alias(\"recommended_recipe_titles\"),\n",
    "    F.collect_list(\"similarity\").alias(\"similarity_scores\"),\n",
    ")\n",
    "# Show Top Recommendations\n",
    "display_spark_dataframe(top_recommendations, 5)"
   ]
  },
  {
   "cell_type": "markdown",
   "metadata": {},
   "source": [
    "So far, for such a basic model, we have been able to generate recommendations based on the similarity of the ingredients of the recipes. Based on our limited set, the recipes are indeed similar to the first ones based on the ingredients."
   ]
  },
  {
   "cell_type": "markdown",
   "metadata": {},
   "source": [
    "## Content-based Filtering\n",
    "\n",
    "The approach here is to recommend a recipe to a user based on the similarity of the ingredients present in other recipes.\n",
    "\n",
    "Let's have a look"
   ]
  },
  {
   "cell_type": "code",
   "execution_count": 13,
   "metadata": {},
   "outputs": [
    {
     "data": {
      "text/plain": [
       "['user_id',\n",
       " 'recipe_id',\n",
       " 'title',\n",
       " 'ingredients',\n",
       " 'link',\n",
       " 'ratings',\n",
       " 'import_date',\n",
       " 'cleaned_ingredients',\n",
       " 'features']"
      ]
     },
     "execution_count": 13,
     "metadata": {},
     "output_type": "execute_result"
    }
   ],
   "source": [
    "vectorized_df.columns"
   ]
  },
  {
   "cell_type": "code",
   "execution_count": 14,
   "metadata": {},
   "outputs": [
    {
     "name": "stderr",
     "output_type": "stream",
     "text": [
      "                                                                                \r"
     ]
    },
    {
     "data": {
      "text/html": [
       "<table border=\"1\" class=\"dataframe table table-striped table-bordered\">\n",
       "  <thead>\n",
       "    <tr style=\"text-align: right;\">\n",
       "      <th>user_id</th>\n",
       "      <th>recommended_recipes</th>\n",
       "      <th>similarity_scores</th>\n",
       "    </tr>\n",
       "  </thead>\n",
       "  <tbody>\n",
       "    <tr>\n",
       "      <td>29</td>\n",
       "      <td>[(7869757872690146822, Chocolate Oatmeal Cookies, http://www.cookbooks.com/Recipe-Details.aspx?id=619294, [margarine, milk, cocoa, sugar, oats, peanut butter, vanilla, nuts]), (5583050311044080495, Chocolate Icing, http://www.cookbooks.com/Recipe-Details.aspx?id=377636, [sugar, milk, cocoa, butter, vanilla]), (-556339092044172322, Golf Balls, http://www.cookbooks.com/Recipe-Details.aspx?id=627006, [cocoa, butter, powdered sugar, milk, vanilla, peanut butter])]</td>\n",
       "      <td>[0.5317740317025577, 0.5560344839915443, 0.569840299323566]</td>\n",
       "    </tr>\n",
       "    <tr>\n",
       "      <td>7</td>\n",
       "      <td>[(-1145622998892862328, Corn Casserole, http://www.cookbooks.com/Recipe-Details.aspx?id=1023122, [margarine, red, onion, corn, corn, eggs, corn muffin, Cheddar cheese])]</td>\n",
       "      <td>[0.7658884124740973]</td>\n",
       "    </tr>\n",
       "    <tr>\n",
       "      <td>34</td>\n",
       "      <td>[(-4444908957552929730, Heavenly Hash, http://www.cookbooks.com/Recipe-Details.aspx?id=269997, [whipping cream, marshmallows, vanilla, sugar, pineapple])]</td>\n",
       "      <td>[0.6140633678782105]</td>\n",
       "    </tr>\n",
       "    <tr>\n",
       "      <td>32</td>\n",
       "      <td>[(-3014238091247932718, Phylis' Pineapple-Banana Salad, http://www.cookbooks.com/Recipe-Details.aspx?id=682439, [pineapple, bananas])]</td>\n",
       "      <td>[0.5208854388953843]</td>\n",
       "    </tr>\n",
       "    <tr>\n",
       "      <td>43</td>\n",
       "      <td>[(92133411895449221, Almond Roco, http://www.cookbooks.com/Recipe-Details.aspx?id=588117, [butter, sugar, water, almonds, chocolate, almonds])]</td>\n",
       "      <td>[0.5783165794872545]</td>\n",
       "    </tr>\n",
       "  </tbody>\n",
       "</table>"
      ],
      "text/plain": [
       "<IPython.core.display.HTML object>"
      ]
     },
     "metadata": {},
     "output_type": "display_data"
    }
   ],
   "source": [
    "subset = (\n",
    "    recommendations_df.alias(\"df1\")\n",
    "    .join(\n",
    "        vectorized_df.alias(\"df2\"),\n",
    "        recommendations_df.recommended_recipe_id == vectorized_df.recipe_id,\n",
    "    )\n",
    "    .select(\n",
    "        col(\"df1.user_id\"),\n",
    "        col(\"df2.recipe_id\"),\n",
    "        col(\"df2.title\"),\n",
    "        col(\"df2.link\"),\n",
    "        col(\"df2.ingredients\"),\n",
    "        col(\"df1.similarity\"),\n",
    "    )\n",
    ")\n",
    "\n",
    "\n",
    "recipe_content_based_recommendations = (\n",
    "    subset.orderBy([\"user_id\", \"similarity\"])\n",
    "    .groupby([\"user_id\"])\n",
    "    .agg(\n",
    "        F.slice(\n",
    "            F.collect_list(\n",
    "                F.struct(\n",
    "                    F.col(\"recipe_id\"),\n",
    "                    F.col(\"title\"),\n",
    "                    F.col(\"link\"),\n",
    "                    F.col(\"ingredients\"),\n",
    "                )\n",
    "            ),\n",
    "            1,\n",
    "            RECOMMENDATION_LIMIT,\n",
    "        ).alias(\"recommended_recipes\"),\n",
    "        F.slice(F.collect_list(\"similarity\"), 1, RECOMMENDATION_LIMIT).alias(\n",
    "            \"similarity_scores\"\n",
    "        ),\n",
    "    )\n",
    ")\n",
    "display_spark_dataframe(recipe_content_based_recommendations, 5)"
   ]
  },
  {
   "cell_type": "markdown",
   "metadata": {},
   "source": [
    "With this first approach, each user gets some recommendations based on the recipe similar to theirs.\n",
    "\n",
    "However, this approach breeds little diversity in the recommendations. Let's thus observe another approach to recommend recipes to users."
   ]
  },
  {
   "cell_type": "markdown",
   "metadata": {},
   "source": [
    "## Collaborative Filtering\n",
    "\n",
    "In this approach, we will get for each users the users that have similar taste to them, meaning users that have used similar ingredients in their recipe.\n",
    "\n",
    "Then, we will sample randomly a recipe from the users that have similar taste to the user and that the user has not already tried."
   ]
  },
  {
   "cell_type": "code",
   "execution_count": 15,
   "metadata": {},
   "outputs": [
    {
     "name": "stderr",
     "output_type": "stream",
     "text": [
      "                                                                                \r"
     ]
    },
    {
     "data": {
      "text/html": [
       "<table border=\"1\" class=\"dataframe table table-striped table-bordered\">\n",
       "  <thead>\n",
       "    <tr style=\"text-align: right;\">\n",
       "      <th>user_id</th>\n",
       "      <th>recommended_users</th>\n",
       "      <th>average_similarity_scores</th>\n",
       "    </tr>\n",
       "  </thead>\n",
       "  <tbody>\n",
       "    <tr>\n",
       "      <td>2</td>\n",
       "      <td>[17, 86, 95, 46]</td>\n",
       "      <td>[0.7505796541242438, 0.7505796541242438, 0.7505796541242438, 0.7011472408034947]</td>\n",
       "    </tr>\n",
       "    <tr>\n",
       "      <td>3</td>\n",
       "      <td>[51, 90]</td>\n",
       "      <td>[0.833649287232778, 0.7519934280218968]</td>\n",
       "    </tr>\n",
       "    <tr>\n",
       "      <td>4</td>\n",
       "      <td>[7]</td>\n",
       "      <td>[0.7658884124740973]</td>\n",
       "    </tr>\n",
       "    <tr>\n",
       "      <td>7</td>\n",
       "      <td>[4]</td>\n",
       "      <td>[0.7658884124740973]</td>\n",
       "    </tr>\n",
       "    <tr>\n",
       "      <td>17</td>\n",
       "      <td>[2]</td>\n",
       "      <td>[0.7505796541242438]</td>\n",
       "    </tr>\n",
       "  </tbody>\n",
       "</table>"
      ],
      "text/plain": [
       "<IPython.core.display.HTML object>"
      ]
     },
     "metadata": {},
     "output_type": "display_data"
    }
   ],
   "source": [
    "# Recommendations for Users\n",
    "RECOMMENDATION_LIMIT = 5\n",
    "SIMILARITY_THRESHOLD_USERS = 0.7  # We want really similar users\n",
    "\n",
    "\n",
    "# Get top recommendations by collecting the recommended_recipe_id into a list for each recipe_id\n",
    "top_user_similarity_recommendations = (\n",
    "    recommendations_df.orderBy([\"user_id\"])\n",
    "    .groupby([\"user_id\", \"recommended_user_id\"])\n",
    "    .agg(\n",
    "        F.avg(\"similarity\").alias(\"average_similarity\"),\n",
    "    )\n",
    "    .orderBy([\"user_id\", \"average_similarity\"], ascending=[True, False])\n",
    "    .withColumnRenamed(\"user_id\", \"user_id\")\n",
    ")\n",
    "\n",
    "top_user_similarity_recommendations = (\n",
    "    top_user_similarity_recommendations.filter(\n",
    "        col(\"average_similarity\") > SIMILARITY_THRESHOLD_USERS\n",
    "    )\n",
    "    .groupBy(\"user_id\")\n",
    "    .agg(\n",
    "        F.slice(F.collect_list(\"recommended_user_id\"), 1, RECOMMENDATION_LIMIT).alias(\n",
    "            \"recommended_users\"\n",
    "        ),\n",
    "        F.slice(F.collect_list(\"average_similarity\"), 1, RECOMMENDATION_LIMIT).alias(\n",
    "            \"average_similarity_scores\"\n",
    "        ),\n",
    "    )\n",
    ")\n",
    "\n",
    "display_spark_dataframe(top_user_similarity_recommendations, 5)"
   ]
  },
  {
   "cell_type": "code",
   "execution_count": 16,
   "metadata": {},
   "outputs": [
    {
     "name": "stderr",
     "output_type": "stream",
     "text": [
      "[Stage 35:>                                                         (0 + 1) / 1]\r"
     ]
    },
    {
     "name": "stdout",
     "output_type": "stream",
     "text": [
      "+-------+--------------------+--------------------+--------------------+--------------------+------------------+\n",
      "|user_id|           recipe_id|               title|                link|         ingredients|        similarity|\n",
      "+-------+--------------------+--------------------+--------------------+--------------------+------------------+\n",
      "|      1|-3014238091247932718|Phylis' Pineapple...|http://www.cookbo...|[pineapple, bananas]|0.5579071672606242|\n",
      "|      1| -556339092044172322|          Golf Balls|http://www.cookbo...|[cocoa, butter, p...|0.5113858574913516|\n",
      "|      1| 6393498659283924984|One Bowl Chocolat...|http://www.cookbo...|[semi-sweet choco...|0.5188390299314342|\n",
      "|      1| 4543509988065438196|          Easy Fudge|http://www.cookbo...|[condensed milk, ...|0.5647104191283978|\n",
      "|      1| 5921757842749730267|Annie'S Diabetic ...|http://www.cookbo...|[vanilla, cream c...|0.5285055578590108|\n",
      "|      2|-8962283335644396817|     Microwave Fudge|http://www.cookbo...|[semi-sweet choco...|0.5188390299314342|\n",
      "|      2| 4543509988065438196|          Easy Fudge|http://www.cookbo...|[condensed milk, ...|0.5188390299314342|\n",
      "|      2|-3443658999619026085|    Texas Prize Cake|http://www.cookbo...|[butter, sugar, e...| 0.507006289128707|\n",
      "|      2|-3089260678803287909|   Sky High Biscuits|http://www.cookbo...|[flour, baking po...|0.5712053416559774|\n",
      "|      2| -629699203677729697|Rice-Broccoli Cas...|http://www.cookbo...|[onion, celery, m...|0.7505796541242438|\n",
      "|      2| -629699203677729697|Rice-Broccoli Cas...|http://www.cookbo...|[onion, celery, m...|0.7505796541242438|\n",
      "|      2| -629699203677729697|Rice-Broccoli Cas...|http://www.cookbo...|[onion, celery, m...|0.7505796541242438|\n",
      "|      2|-7387520298671766024|  Broccoli Casserole|http://www.cookbo...|[rice, onion, bro...|0.7011472408034947|\n",
      "|      2| -629699203677729697|Rice-Broccoli Cas...|http://www.cookbo...|[onion, celery, m...|0.7505796541242438|\n",
      "|      2| -629699203677729697|Rice-Broccoli Cas...|http://www.cookbo...|[onion, celery, m...|0.7505796541242438|\n",
      "|      2| -629699203677729697|Rice-Broccoli Cas...|http://www.cookbo...|[onion, celery, m...|0.7505796541242438|\n",
      "|      2| -629699203677729697|Rice-Broccoli Cas...|http://www.cookbo...|[onion, celery, m...|0.7505796541242438|\n",
      "|      2| -629699203677729697|Rice-Broccoli Cas...|http://www.cookbo...|[onion, celery, m...|0.7505796541242438|\n",
      "|      2| -629699203677729697|Rice-Broccoli Cas...|http://www.cookbo...|[onion, celery, m...|0.7505796541242438|\n",
      "|      3|-8962283335644396817|     Microwave Fudge|http://www.cookbo...|[semi-sweet choco...|0.5647104191283978|\n",
      "+-------+--------------------+--------------------+--------------------+--------------------+------------------+\n",
      "only showing top 20 rows\n",
      "\n"
     ]
    },
    {
     "name": "stderr",
     "output_type": "stream",
     "text": [
      "                                                                                \r"
     ]
    }
   ],
   "source": [
    "subset.show()"
   ]
  },
  {
   "cell_type": "code",
   "execution_count": 17,
   "metadata": {},
   "outputs": [
    {
     "name": "stderr",
     "output_type": "stream",
     "text": [
      "                                                                                \r"
     ]
    },
    {
     "data": {
      "text/html": [
       "<table border=\"1\" class=\"dataframe table table-striped table-bordered\">\n",
       "  <thead>\n",
       "    <tr style=\"text-align: right;\">\n",
       "      <th>user_id</th>\n",
       "      <th>recommended_recipes</th>\n",
       "    </tr>\n",
       "  </thead>\n",
       "  <tbody>\n",
       "    <tr>\n",
       "      <td>2</td>\n",
       "      <td>[(-3014238091247932718, Phylis' Pineapple-Banana Salad, http://www.cookbooks.com/Recipe-Details.aspx?id=682439, [pineapple, bananas]), (-629699203677729697, Rice-Broccoli Casserole, http://www.cookbooks.com/Recipe-Details.aspx?id=184755, [onion, celery, margarine, rice, broccoli, frozen broccoli florets, cream of chicken soup, cream of mushroom soup]), (-3899424102060393968, Salsa, http://www.cookbooks.com/Recipe-Details.aspx?id=444964, [tomatoes, green chilies, green onions, celery, yellow onions, cilantro, tomato sauce, cumin, garlic, salt]), (884358801733425943, Sweet Potato Casserole, http://www.cookbooks.com/Recipe-Details.aspx?id=699621, [cooked sweet potatoes, sugar, salt, eggs, margarine, milk, vanilla]), (-629699203677729697, Rice-Broccoli Casserole, http://www.cookbooks.com/Recipe-Details.aspx?id=184755, [onion, celery, margarine, rice, broccoli, frozen broccoli florets, cream of chicken soup, cream of mushroom soup])]</td>\n",
       "    </tr>\n",
       "    <tr>\n",
       "      <td>3</td>\n",
       "      <td>[(-1794192433332893734, Coconut Chews, http://www.cookbooks.com/Recipe-Details.aspx?id=1002375, [shortening, confectioners sugar, Gold Medal flour, eggs, brown sugar, flour, baking powder, salt, vanilla, walnuts, flaked coconut, Orange-Lemon Icing]), (-3541657427999271516, Pink Stuff(Frozen Dessert)  , http://www.cookbooks.com/Recipe-Details.aspx?id=982483, [pie filling, pineapple, condensed milk, lemon juice]), (-1875286469985801954, Bonnie'S Lemon Jello Cake, http://www.cookbooks.com/Recipe-Details.aspx?id=744855, [yellow cake mix, lemon jello, water, eggs, oil]), (5213548222747985524, Chicken Over Rice, http://www.cookbooks.com/Recipe-Details.aspx?id=229737, [onion, bell peppers, celery, chicken broth, potatoes, soy sauce]), (-1512451306646192815, Cherry Salad, http://www.cookbooks.com/Recipe-Details.aspx?id=492199, [cherry pie filling, pineapple, pecans, marshmallows, milk])]</td>\n",
       "    </tr>\n",
       "    <tr>\n",
       "      <td>4</td>\n",
       "      <td>[(-3995740312499116500, Corn Casserole, http://www.cookbooks.com/Recipe-Details.aspx?id=899479, [corn, corn, eggs, oleo, sour cream, corn muffin])]</td>\n",
       "    </tr>\n",
       "    <tr>\n",
       "      <td>7</td>\n",
       "      <td>[(-9025251382900008244, Marinated Cucumber And Sweet Onion Salad, http://www.cookbooks.com/Recipe-Details.aspx?id=294971, [sweet onions, cucumbers, salt, dark vinegar, water, sugar, pepper]), (-7815179659791359312, Prize-Winning Meat Loaf, http://www.cookbooks.com/Recipe-Details.aspx?id=923674, [ground beef, tomato juice, oats, egg, onion, pepper, salt]), (-7976200725112237420, Cold Bread Pudding, http://www.cookbooks.com/Recipe-Details.aspx?id=91723, [cold, sweet milk, butter, eggs, sugar]), (-703446942390088871, Rhubarb Crumble, http://www.cookbooks.com/Recipe-Details.aspx?id=458858, [brown sugar, rolled oats, flour, butter, cinnamon, rhubarb, sugar, cornstarch, water, vanilla]), (5654531468223763620, Warm Apple Crisp, http://www.cookbooks.com/Recipe-Details.aspx?id=319988, [peeled apples, sugar, cinnamon, salt, butter, sugar, flour, butter, topping])]</td>\n",
       "    </tr>\n",
       "    <tr>\n",
       "      <td>17</td>\n",
       "      <td>[(-3496996154711083177, Potato And Cheese Pie, http://www.cookbooks.com/Recipe-Details.aspx?id=784386, [eggs, salt, pepper, potatoes, Cheddar cheese, green onions]), (6393498659283924984, One Bowl Chocolate Fudge(Microwave)  , http://www.cookbooks.com/Recipe-Details.aspx?id=502592, [semi-sweet chocolate, condensed milk, vanilla, salt, nuts]), (-5250039407390896068, Quick Coffee Cake(6 Servings)  , http://www.cookbooks.com/Recipe-Details.aspx?id=532166, [butter, sugar, egg, flour, baking powder, salt, milk, vanilla, brown sugar, cinnamon, butter]), (6070472271589565164, Corn \"Oysters\", http://www.cookbooks.com/Recipe-Details.aspx?id=1059690, [cream-style corn, eggs, onion, crackers, salt]), (6233456789766403456, Cheese Ball, http://www.cookbooks.com/Recipe-Details.aspx?id=515966, [cream cheese, sharp cheese, mayonnaise, Worcestershire sauce, garlic salt, celery salt, onion salt, pimento, olives, parsley flakes, beef])]</td>\n",
       "    </tr>\n",
       "  </tbody>\n",
       "</table>"
      ],
      "text/plain": [
       "<IPython.core.display.HTML object>"
      ]
     },
     "metadata": {},
     "output_type": "display_data"
    }
   ],
   "source": [
    "# Get top recommendations by collecting the recommended_recipe_id into a list for each recipe_id\n",
    "\n",
    "subset = (\n",
    "    top_user_similarity_recommendations.alias(\"df1\")\n",
    "    .join(\n",
    "        vectorized_df.alias(\"df2\"),\n",
    "        F.array_contains(\n",
    "            top_user_similarity_recommendations.recommended_users, vectorized_df.user_id\n",
    "        ),\n",
    "    )\n",
    "    .select(\n",
    "        \"df1.user_id\",\n",
    "        \"df1.recommended_users\",\n",
    "        \"df2.recipe_id\",\n",
    "        \"df2.title\",\n",
    "        \"df2.link\",\n",
    "        \"df2.ingredients\",\n",
    "    )\n",
    ")\n",
    "\n",
    "\n",
    "# Random recipe sampling for each reommended user\n",
    "recipe_collaborative_recommendations = subset.groupBy(\"user_id\").agg(\n",
    "    F.slice(\n",
    "        F.shuffle(\n",
    "            F.collect_list(\n",
    "                F.struct(\n",
    "                    F.col(\"recipe_id\"),\n",
    "                    F.col(\"title\"),\n",
    "                    F.col(\"link\"),\n",
    "                    F.col(\"ingredients\"),\n",
    "                )\n",
    "            )\n",
    "        ),\n",
    "        1,\n",
    "        RECOMMENDATION_LIMIT,\n",
    "    ).alias(\"recommended_recipes\"),\n",
    ")\n",
    "\n",
    "display_spark_dataframe(recipe_collaborative_recommendations, 5)"
   ]
  },
  {
   "cell_type": "markdown",
   "metadata": {},
   "source": [
    "## Merging the two recommendations"
   ]
  },
  {
   "cell_type": "code",
   "execution_count": 18,
   "metadata": {},
   "outputs": [],
   "source": [
    "final_recommendations = (\n",
    "    recipe_content_based_recommendations.alias(\"df1\")\n",
    "    .join(\n",
    "        recipe_collaborative_recommendations.alias(\"df2\"),\n",
    "        recipe_content_based_recommendations.user_id\n",
    "        == recipe_collaborative_recommendations.user_id,\n",
    "    )\n",
    "    .select(\n",
    "        \"df1.user_id\",\n",
    "        col(\"df1.recommended_recipes\").alias(\"content_based_recipes\"),\n",
    "        col(\"df1.similarity_scores\").alias(\"content_based_similarity_scores\"),\n",
    "        col(\"df2.recommended_recipes\").alias(\"collaborative_recipes\"),\n",
    "    )\n",
    ")"
   ]
  },
  {
   "cell_type": "code",
   "execution_count": 19,
   "metadata": {},
   "outputs": [
    {
     "name": "stderr",
     "output_type": "stream",
     "text": [
      "[Stage 48:>                                                         (0 + 1) / 1]\r"
     ]
    },
    {
     "name": "stdout",
     "output_type": "stream",
     "text": [
      "+-------+---------------------+-------------------------------+---------------------+\n",
      "|user_id|content_based_recipes|content_based_similarity_scores|collaborative_recipes|\n",
      "+-------+---------------------+-------------------------------+---------------------+\n",
      "|      2| [{-34436589996190...|           [0.50700628912870...| [{-30142380912479...|\n",
      "|      3| [{-52500394073908...|           [0.50700628912870...| [{-17941924333328...|\n",
      "|      4| [{-39957403124991...|           [0.7658884124740973]| [{-39957403124991...|\n",
      "|      7| [{-11456229988928...|           [0.7658884124740973]| [{-90252513829000...|\n",
      "|     17| [{-26817010828064...|           [0.52088543889538...| [{-34969961547110...|\n",
      "|     39| [{-61916414789517...|           [0.64256565682217...| [{521354822274798...|\n",
      "|     46| [{-62969920367772...|           [0.52626685349245...| [{-41892034656694...|\n",
      "|     51| [{-80050797219666...|            [0.833649287232778]| [{-80050797219666...|\n",
      "|     86| [{-73875202986717...|           [0.52626685349245...| [{-68647530494346...|\n",
      "|     88| [{-55202628441414...|           [0.64256565682217...| [{-15124513066461...|\n",
      "|     90| [{-61916414789517...|           [0.70819222986305...| [{879523705405377...|\n",
      "|     95| [{-73875202986717...|           [0.52626685349245...| [{-52500394073908...|\n",
      "+-------+---------------------+-------------------------------+---------------------+\n",
      "\n"
     ]
    },
    {
     "name": "stderr",
     "output_type": "stream",
     "text": [
      "                                                                                \r"
     ]
    }
   ],
   "source": [
    "final_recommendations.show()"
   ]
  },
  {
   "cell_type": "code",
   "execution_count": 20,
   "metadata": {},
   "outputs": [
    {
     "name": "stderr",
     "output_type": "stream",
     "text": [
      "                                                                                \r"
     ]
    },
    {
     "data": {
      "text/html": [
       "<table border=\"1\" class=\"dataframe table table-striped table-bordered\">\n",
       "  <thead>\n",
       "    <tr style=\"text-align: right;\">\n",
       "      <th>user_id</th>\n",
       "      <th>content_based_recipes</th>\n",
       "      <th>content_based_similarity_scores</th>\n",
       "      <th>collaborative_recipes</th>\n",
       "    </tr>\n",
       "  </thead>\n",
       "  <tbody>\n",
       "    <tr>\n",
       "      <td>2</td>\n",
       "      <td>[(-3443658999619026085, Texas Prize Cake, http://www.cookbooks.com/Recipe-Details.aspx?id=776471, [butter, sugar, eggs, flour, vanilla]), (-8962283335644396817, Microwave Fudge, http://www.cookbooks.com/Recipe-Details.aspx?id=199072, [semi-sweet chocolate chips, sweet chocolate chips, condensed milk, vanilla, nuts]), (4543509988065438196, Easy Fudge, http://www.cookbooks.com/Recipe-Details.aspx?id=812407, [condensed milk, semi-sweet chocolate chips, unsweetened chocolate, nuts, vanilla]), (-3089260678803287909, Sky High Biscuits, http://www.cookbooks.com/Recipe-Details.aspx?id=805008, [flour, baking powder, sugar, salt, cream of tartar, butter, egg, milk]), (-7387520298671766024, Broccoli Casserole, http://www.cookbooks.com/Recipe-Details.aspx?id=693123, [rice, onion, broccoli, cream of celery soup, margarine])]</td>\n",
       "      <td>[0.507006289128707, 0.5188390299314342, 0.5188390299314342, 0.5712053416559774, 0.7011472408034947]</td>\n",
       "      <td>[(-3014238091247932718, Phylis' Pineapple-Banana Salad, http://www.cookbooks.com/Recipe-Details.aspx?id=682439, [pineapple, bananas]), (-629699203677729697, Rice-Broccoli Casserole, http://www.cookbooks.com/Recipe-Details.aspx?id=184755, [onion, celery, margarine, rice, broccoli, frozen broccoli florets, cream of chicken soup, cream of mushroom soup]), (-3899424102060393968, Salsa, http://www.cookbooks.com/Recipe-Details.aspx?id=444964, [tomatoes, green chilies, green onions, celery, yellow onions, cilantro, tomato sauce, cumin, garlic, salt]), (884358801733425943, Sweet Potato Casserole, http://www.cookbooks.com/Recipe-Details.aspx?id=699621, [cooked sweet potatoes, sugar, salt, eggs, margarine, milk, vanilla]), (-629699203677729697, Rice-Broccoli Casserole, http://www.cookbooks.com/Recipe-Details.aspx?id=184755, [onion, celery, margarine, rice, broccoli, frozen broccoli florets, cream of chicken soup, cream of mushroom soup])]</td>\n",
       "    </tr>\n",
       "    <tr>\n",
       "      <td>3</td>\n",
       "      <td>[(-5250039407390896068, Quick Coffee Cake(6 Servings)  , http://www.cookbooks.com/Recipe-Details.aspx?id=532166, [butter, sugar, egg, flour, baking powder, salt, milk, vanilla, brown sugar, cinnamon, butter]), (6393498659283924984, One Bowl Chocolate Fudge(Microwave)  , http://www.cookbooks.com/Recipe-Details.aspx?id=502592, [semi-sweet chocolate, condensed milk, vanilla, salt, nuts]), (-8962283335644396817, Microwave Fudge, http://www.cookbooks.com/Recipe-Details.aspx?id=199072, [semi-sweet chocolate chips, sweet chocolate chips, condensed milk, vanilla, nuts]), (3423791347401780918, Cream Cheese Squares, http://www.cookbooks.com/Recipe-Details.aspx?id=949240, [yellow cake mix, egg, margarine, sugar, eggs, cream cheese]), (-6242579153018008641, Patio Potatoes, http://www.cookbooks.com/Recipe-Details.aspx?id=570410, [hash browns, margarine, salt, pepper, onion, cream of mushroom soup, sour cream, grated sharp])]</td>\n",
       "      <td>[0.507006289128707, 0.5188390299314342, 0.5647104191283978, 0.5674208459998452, 0.5903246928120044]</td>\n",
       "      <td>[(-1794192433332893734, Coconut Chews, http://www.cookbooks.com/Recipe-Details.aspx?id=1002375, [shortening, confectioners sugar, Gold Medal flour, eggs, brown sugar, flour, baking powder, salt, vanilla, walnuts, flaked coconut, Orange-Lemon Icing]), (-3541657427999271516, Pink Stuff(Frozen Dessert)  , http://www.cookbooks.com/Recipe-Details.aspx?id=982483, [pie filling, pineapple, condensed milk, lemon juice]), (-1875286469985801954, Bonnie'S Lemon Jello Cake, http://www.cookbooks.com/Recipe-Details.aspx?id=744855, [yellow cake mix, lemon jello, water, eggs, oil]), (5213548222747985524, Chicken Over Rice, http://www.cookbooks.com/Recipe-Details.aspx?id=229737, [onion, bell peppers, celery, chicken broth, potatoes, soy sauce]), (-1512451306646192815, Cherry Salad, http://www.cookbooks.com/Recipe-Details.aspx?id=492199, [cherry pie filling, pineapple, pecans, marshmallows, milk])]</td>\n",
       "    </tr>\n",
       "    <tr>\n",
       "      <td>4</td>\n",
       "      <td>[(-3995740312499116500, Corn Casserole, http://www.cookbooks.com/Recipe-Details.aspx?id=899479, [corn, corn, eggs, oleo, sour cream, corn muffin])]</td>\n",
       "      <td>[0.7658884124740973]</td>\n",
       "      <td>[(-3995740312499116500, Corn Casserole, http://www.cookbooks.com/Recipe-Details.aspx?id=899479, [corn, corn, eggs, oleo, sour cream, corn muffin])]</td>\n",
       "    </tr>\n",
       "    <tr>\n",
       "      <td>7</td>\n",
       "      <td>[(-1145622998892862328, Corn Casserole, http://www.cookbooks.com/Recipe-Details.aspx?id=1023122, [margarine, red, onion, corn, corn, eggs, corn muffin, Cheddar cheese])]</td>\n",
       "      <td>[0.7658884124740973]</td>\n",
       "      <td>[(-9025251382900008244, Marinated Cucumber And Sweet Onion Salad, http://www.cookbooks.com/Recipe-Details.aspx?id=294971, [sweet onions, cucumbers, salt, dark vinegar, water, sugar, pepper]), (-7815179659791359312, Prize-Winning Meat Loaf, http://www.cookbooks.com/Recipe-Details.aspx?id=923674, [ground beef, tomato juice, oats, egg, onion, pepper, salt]), (-7976200725112237420, Cold Bread Pudding, http://www.cookbooks.com/Recipe-Details.aspx?id=91723, [cold, sweet milk, butter, eggs, sugar]), (-703446942390088871, Rhubarb Crumble, http://www.cookbooks.com/Recipe-Details.aspx?id=458858, [brown sugar, rolled oats, flour, butter, cinnamon, rhubarb, sugar, cornstarch, water, vanilla]), (5654531468223763620, Warm Apple Crisp, http://www.cookbooks.com/Recipe-Details.aspx?id=319988, [peeled apples, sugar, cinnamon, salt, butter, sugar, flour, butter, topping])]</td>\n",
       "    </tr>\n",
       "    <tr>\n",
       "      <td>17</td>\n",
       "      <td>[(-2681701082806432578, Strawberry Salad, http://www.cookbooks.com/Recipe-Details.aspx?id=188949, [bananas, pineapple, frozen strawberries, strawberry Jell-O, boiling water, sour cream]), (-7387520298671766024, Broccoli Casserole, http://www.cookbooks.com/Recipe-Details.aspx?id=693123, [rice, onion, broccoli, cream of celery soup, margarine]), (3236072851089661531, Sauteed Bananas, http://www.cookbooks.com/Recipe-Details.aspx?id=913543, [bananas, confectioners sugar, flour, butter]), (6082401801560777728, Broccoli Rice Casserole, http://www.cookbooks.com/Recipe-Details.aspx?id=757188, [broccoli, cream of mushroom soup, rice, margarine, onion])]</td>\n",
       "      <td>[0.5208854388953843, 0.5262668534924548, 0.5579071672606242, 0.7505796541242438]</td>\n",
       "      <td>[(-3496996154711083177, Potato And Cheese Pie, http://www.cookbooks.com/Recipe-Details.aspx?id=784386, [eggs, salt, pepper, potatoes, Cheddar cheese, green onions]), (6393498659283924984, One Bowl Chocolate Fudge(Microwave)  , http://www.cookbooks.com/Recipe-Details.aspx?id=502592, [semi-sweet chocolate, condensed milk, vanilla, salt, nuts]), (-5250039407390896068, Quick Coffee Cake(6 Servings)  , http://www.cookbooks.com/Recipe-Details.aspx?id=532166, [butter, sugar, egg, flour, baking powder, salt, milk, vanilla, brown sugar, cinnamon, butter]), (6070472271589565164, Corn \"Oysters\", http://www.cookbooks.com/Recipe-Details.aspx?id=1059690, [cream-style corn, eggs, onion, crackers, salt]), (6233456789766403456, Cheese Ball, http://www.cookbooks.com/Recipe-Details.aspx?id=515966, [cream cheese, sharp cheese, mayonnaise, Worcestershire sauce, garlic salt, celery salt, onion salt, pimento, olives, parsley flakes, beef])]</td>\n",
       "    </tr>\n",
       "    <tr>\n",
       "      <td>39</td>\n",
       "      <td>[(-6191641478951783089, Yum Yum Salad, http://www.cookbooks.com/Recipe-Details.aspx?id=223566, [cherry pie filling, pineapple, Borden milk, pecans]), (-1512451306646192815, Cherry Salad, http://www.cookbooks.com/Recipe-Details.aspx?id=492199, [cherry pie filling, pineapple, pecans, marshmallows, milk])]</td>\n",
       "      <td>[0.6425656568221725, 0.7519934280218968]</td>\n",
       "      <td>[(5213548222747985524, Chicken Over Rice, http://www.cookbooks.com/Recipe-Details.aspx?id=229737, [onion, bell peppers, celery, chicken broth, potatoes, soy sauce]), (-3541657427999271516, Pink Stuff(Frozen Dessert)  , http://www.cookbooks.com/Recipe-Details.aspx?id=982483, [pie filling, pineapple, condensed milk, lemon juice]), (-1512451306646192815, Cherry Salad, http://www.cookbooks.com/Recipe-Details.aspx?id=492199, [cherry pie filling, pineapple, pecans, marshmallows, milk])]</td>\n",
       "    </tr>\n",
       "    <tr>\n",
       "      <td>46</td>\n",
       "      <td>[(-629699203677729697, Rice-Broccoli Casserole, http://www.cookbooks.com/Recipe-Details.aspx?id=184755, [onion, celery, margarine, rice, broccoli, frozen broccoli florets, cream of chicken soup, cream of mushroom soup]), (-629699203677729697, Rice-Broccoli Casserole, http://www.cookbooks.com/Recipe-Details.aspx?id=184755, [onion, celery, margarine, rice, broccoli, frozen broccoli florets, cream of chicken soup, cream of mushroom soup]), (-629699203677729697, Rice-Broccoli Casserole, http://www.cookbooks.com/Recipe-Details.aspx?id=184755, [onion, celery, margarine, rice, broccoli, frozen broccoli florets, cream of chicken soup, cream of mushroom soup]), (-629699203677729697, Rice-Broccoli Casserole, http://www.cookbooks.com/Recipe-Details.aspx?id=184755, [onion, celery, margarine, rice, broccoli, frozen broccoli florets, cream of chicken soup, cream of mushroom soup]), (-629699203677729697, Rice-Broccoli Casserole, http://www.cookbooks.com/Recipe-Details.aspx?id=184755, [onion, celery, margarine, rice, broccoli, frozen broccoli florets, cream of chicken soup, cream of mushroom soup])]</td>\n",
       "      <td>[0.5262668534924548, 0.5262668534924548, 0.5262668534924548, 0.5262668534924548, 0.5262668534924548]</td>\n",
       "      <td>[(-4189203465669486065, Mock Lobster Salad, http://www.cookbooks.com/Recipe-Details.aspx?id=564329, [crackers, celery, green pepper, eggs, onion, tomato juice, mayonnaise]), (-4765217018562870239, Do-Unkles Pumpkin Cake, http://www.cookbooks.com/Recipe-Details.aspx?id=458051, [sugar, flour, pumpkin, salt, cinnamon, nutmeg, soda, oil, eggs, baking powder, walnuts]), (-5250039407390896068, Quick Coffee Cake(6 Servings)  , http://www.cookbooks.com/Recipe-Details.aspx?id=532166, [butter, sugar, egg, flour, baking powder, salt, milk, vanilla, brown sugar, cinnamon, butter]), (6233456789766403456, Cheese Ball, http://www.cookbooks.com/Recipe-Details.aspx?id=515966, [cream cheese, sharp cheese, mayonnaise, Worcestershire sauce, garlic salt, celery salt, onion salt, pimento, olives, parsley flakes, beef]), (6070472271589565164, Corn \"Oysters\", http://www.cookbooks.com/Recipe-Details.aspx?id=1059690, [cream-style corn, eggs, onion, crackers, salt])]</td>\n",
       "    </tr>\n",
       "    <tr>\n",
       "      <td>51</td>\n",
       "      <td>[(-8005079721966657344, Lemon Pudding Pound Cake, http://www.cookbooks.com/Recipe-Details.aspx?id=1068808, [eggs, yellow cake mix, water, oil])]</td>\n",
       "      <td>[0.833649287232778]</td>\n",
       "      <td>[(-8005079721966657344, Lemon Pudding Pound Cake, http://www.cookbooks.com/Recipe-Details.aspx?id=1068808, [eggs, yellow cake mix, water, oil]), (-4775666681479532728, Baked Pork Tenderloin, http://www.cookbooks.com/Recipe-Details.aspx?id=512635, [pork tenderloin, salt, pepper, bacon, apple juice, cinnamon, cloves]), (-8783939955479050182, Chocolate Macaroon Bars, http://www.cookbooks.com/Recipe-Details.aspx?id=693256, [graham cracker crumbs, sugar, cocoa, margarine, condensed milk, coconut flakes, bread crumbs, eggs, vanilla extract, chocolate chips]), (-5520262844141481008, Cherry Congealed Salad, http://www.cookbooks.com/Recipe-Details.aspx?id=673923, [cherry pie filling, pineapple, milk]), (-6345232053553097226, Sweet And Sour Red Cabbage, http://www.cookbooks.com/Recipe-Details.aspx?id=806317, [red cabbage, salt, salt, pepper, sugar, cider vinegar, caraway, onion])]</td>\n",
       "    </tr>\n",
       "    <tr>\n",
       "      <td>86</td>\n",
       "      <td>[(-7387520298671766024, Broccoli Casserole, http://www.cookbooks.com/Recipe-Details.aspx?id=693123, [rice, onion, broccoli, cream of celery soup, margarine]), (6082401801560777728, Broccoli Rice Casserole, http://www.cookbooks.com/Recipe-Details.aspx?id=757188, [broccoli, cream of mushroom soup, rice, margarine, onion])]</td>\n",
       "      <td>[0.5262668534924548, 0.7505796541242438]</td>\n",
       "      <td>[(-6864753049434638110, Red Beet Cake, http://www.cookbooks.com/Recipe-Details.aspx?id=412481, [sugar, eggs, Crisco oil, chocolate, flour, soda, salt, vanilla]), (6393498659283924984, One Bowl Chocolate Fudge(Microwave)  , http://www.cookbooks.com/Recipe-Details.aspx?id=502592, [semi-sweet chocolate, condensed milk, vanilla, salt, nuts]), (5912469327965089621, Zucchini Squares, http://www.cookbooks.com/Recipe-Details.aspx?id=239356, [zucchini, onion, clove garlic, Parmesan, oil, parsley, salt, salt, oregano, eggs]), (6070472271589565164, Corn \"Oysters\", http://www.cookbooks.com/Recipe-Details.aspx?id=1059690, [cream-style corn, eggs, onion, crackers, salt]), (8676006650672359005, Creole Flounder, http://www.cookbooks.com/Recipe-Details.aspx?id=580768, [flounder, tomatoes, green pepper, lemon juice, salad oil, salt, onion, basil, ground black pepper, drops red pepper sauce, green pepper])]</td>\n",
       "    </tr>\n",
       "    <tr>\n",
       "      <td>88</td>\n",
       "      <td>[(-5520262844141481008, Cherry Congealed Salad, http://www.cookbooks.com/Recipe-Details.aspx?id=673923, [cherry pie filling, pineapple, milk]), (-5520262844141481008, Cherry Congealed Salad, http://www.cookbooks.com/Recipe-Details.aspx?id=673923, [cherry pie filling, pineapple, milk]), (-5520262844141481008, Cherry Congealed Salad, http://www.cookbooks.com/Recipe-Details.aspx?id=673923, [cherry pie filling, pineapple, milk]), (-5520262844141481008, Cherry Congealed Salad, http://www.cookbooks.com/Recipe-Details.aspx?id=673923, [cherry pie filling, pineapple, milk]), (-1512451306646192815, Cherry Salad, http://www.cookbooks.com/Recipe-Details.aspx?id=492199, [cherry pie filling, pineapple, pecans, marshmallows, milk])]</td>\n",
       "      <td>[0.6425656568221725, 0.6425656568221725, 0.6425656568221725, 0.6425656568221725, 0.7081922298630527]</td>\n",
       "      <td>[(-1512451306646192815, Cherry Salad, http://www.cookbooks.com/Recipe-Details.aspx?id=492199, [cherry pie filling, pineapple, pecans, marshmallows, milk]), (5213548222747985524, Chicken Over Rice, http://www.cookbooks.com/Recipe-Details.aspx?id=229737, [onion, bell peppers, celery, chicken broth, potatoes, soy sauce]), (-3541657427999271516, Pink Stuff(Frozen Dessert)  , http://www.cookbooks.com/Recipe-Details.aspx?id=982483, [pie filling, pineapple, condensed milk, lemon juice])]</td>\n",
       "    </tr>\n",
       "    <tr>\n",
       "      <td>90</td>\n",
       "      <td>[(-6191641478951783089, Yum Yum Salad, http://www.cookbooks.com/Recipe-Details.aspx?id=223566, [cherry pie filling, pineapple, Borden milk, pecans]), (-5520262844141481008, Cherry Congealed Salad, http://www.cookbooks.com/Recipe-Details.aspx?id=673923, [cherry pie filling, pineapple, milk]), (-5520262844141481008, Cherry Congealed Salad, http://www.cookbooks.com/Recipe-Details.aspx?id=673923, [cherry pie filling, pineapple, milk]), (-5520262844141481008, Cherry Congealed Salad, http://www.cookbooks.com/Recipe-Details.aspx?id=673923, [cherry pie filling, pineapple, milk]), (-5520262844141481008, Cherry Congealed Salad, http://www.cookbooks.com/Recipe-Details.aspx?id=673923, [cherry pie filling, pineapple, milk])]</td>\n",
       "      <td>[0.7081922298630527, 0.7519934280218968, 0.7519934280218968, 0.7519934280218968, 0.7519934280218968]</td>\n",
       "      <td>[(8795237054053777249, Hot Spiced Tea, http://www.cookbooks.com/Recipe-Details.aspx?id=622677, [sugar, instant tea, cinnamon, cloves]), (7660085233517900366, 7-Up Cake, http://www.cookbooks.com/Recipe-Details.aspx?id=769751, [flour, sugar, eggs, butter, lemon flavor, yellow food coloring]), (-3398542533204193611, Summer Squash Casserole, http://www.cookbooks.com/Recipe-Details.aspx?id=41230, [onion, cream of chicken soup, sour cream, stuffing mix, butter]), (1261421013567173392, *Apricot Salad, http://www.cookbooks.com/Recipe-Details.aspx?id=367924, [apricot jello, sugar, cream cheese, jars Junior baby food, pineapple, milk, water]), (5706119069825396294, Diane'S Quick Quiche, http://www.cookbooks.com/Recipe-Details.aspx?id=834412, [eggs, margarine, Bisquick, salt, pepper, Swiss cheese, crisp fried bacon, onion, basil, marjoram, broccoli])]</td>\n",
       "    </tr>\n",
       "    <tr>\n",
       "      <td>95</td>\n",
       "      <td>[(-7387520298671766024, Broccoli Casserole, http://www.cookbooks.com/Recipe-Details.aspx?id=693123, [rice, onion, broccoli, cream of celery soup, margarine]), (6082401801560777728, Broccoli Rice Casserole, http://www.cookbooks.com/Recipe-Details.aspx?id=757188, [broccoli, cream of mushroom soup, rice, margarine, onion])]</td>\n",
       "      <td>[0.5262668534924548, 0.7505796541242438]</td>\n",
       "      <td>[(-5250039407390896068, Quick Coffee Cake(6 Servings)  , http://www.cookbooks.com/Recipe-Details.aspx?id=532166, [butter, sugar, egg, flour, baking powder, salt, milk, vanilla, brown sugar, cinnamon, butter]), (6082401801560777728, Broccoli Rice Casserole, http://www.cookbooks.com/Recipe-Details.aspx?id=757188, [broccoli, cream of mushroom soup, rice, margarine, onion]), (-4765217018562870239, Do-Unkles Pumpkin Cake, http://www.cookbooks.com/Recipe-Details.aspx?id=458051, [sugar, flour, pumpkin, salt, cinnamon, nutmeg, soda, oil, eggs, baking powder, walnuts]), (5924916736367898477, Taco Dip, http://www.cookbooks.com/Recipe-Details.aspx?id=65338, [beans, guacamole dip, sour cream, mayonnaise, taco seasoning, Mozzarella cheese, cheddar cheese, green onions]), (6393498659283924984, One Bowl Chocolate Fudge(Microwave)  , http://www.cookbooks.com/Recipe-Details.aspx?id=502592, [semi-sweet chocolate, condensed milk, vanilla, salt, nuts])]</td>\n",
       "    </tr>\n",
       "  </tbody>\n",
       "</table>"
      ],
      "text/plain": [
       "<IPython.core.display.HTML object>"
      ]
     },
     "metadata": {},
     "output_type": "display_data"
    }
   ],
   "source": [
    "# Example usage\n",
    "display_spark_dataframe(final_recommendations)"
   ]
  },
  {
   "cell_type": "code",
   "execution_count": null,
   "metadata": {},
   "outputs": [],
   "source": []
  }
 ],
 "metadata": {
  "kernelspec": {
   "display_name": "bring",
   "language": "python",
   "name": "python3"
  },
  "language_info": {
   "codemirror_mode": {
    "name": "ipython",
    "version": 3
   },
   "file_extension": ".py",
   "mimetype": "text/x-python",
   "name": "python",
   "nbconvert_exporter": "python",
   "pygments_lexer": "ipython3",
   "version": "3.11.9"
  }
 },
 "nbformat": 4,
 "nbformat_minor": 2
}
