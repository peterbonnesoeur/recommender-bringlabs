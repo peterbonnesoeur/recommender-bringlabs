{
 "cells": [
  {
   "cell_type": "markdown",
   "metadata": {},
   "source": [
    "!pip install sparknlp"
   ]
  },
  {
   "cell_type": "code",
   "execution_count": 1,
   "metadata": {},
   "outputs": [
    {
     "name": "stderr",
     "output_type": "stream",
     "text": [
      "/Users/maximebonnesoeur/.pyenv/versions/bring_/lib/python3.10/site-packages/sentence_transformers/cross_encoder/CrossEncoder.py:13: TqdmExperimentalWarning: Using `tqdm.autonotebook.tqdm` in notebook mode. Use `tqdm.tqdm` instead to force console mode (e.g. in jupyter console)\n",
      "  from tqdm.autonotebook import tqdm, trange\n",
      "24/10/14 18:32:17 WARN Utils: Your hostname, macOS-Maxime-Bonnesoeur.local resolves to a loopback address: 127.0.0.1; using 192.168.2.9 instead (on interface en0)\n",
      "24/10/14 18:32:17 WARN Utils: Set SPARK_LOCAL_IP if you need to bind to another address\n",
      "Setting default log level to \"WARN\".\n",
      "To adjust logging level use sc.setLogLevel(newLevel). For SparkR, use setLogLevel(newLevel).\n",
      "24/10/14 18:32:17 WARN NativeCodeLoader: Unable to load native-hadoop library for your platform... using builtin-java classes where applicable\n"
     ]
    }
   ],
   "source": [
    "from pyspark.sql import SparkSession\n",
    "from pyspark.ml.feature import CountVectorizer, IDF\n",
    "from pyspark.sql.functions import col, udf\n",
    "from pyspark.sql import functions as F\n",
    "from pyspark.sql.types import (\n",
    "    StringType,\n",
    "    ArrayType,\n",
    "    DoubleType,\n",
    "    FloatType,\n",
    "    StructType,\n",
    "    StructField,\n",
    ")\n",
    "\n",
    "# We could use the embedders provided by spark nlp, but we will use the sentence_transformers library (I just have more experience with it)\n",
    "# spark nlp embedders: https://www.johnsnowlabs.com/understanding-the-power-of-transformers-a-guide-to-sentence-embeddings-in-spark-nlp/\n",
    "from sentence_transformers import SentenceTransformer\n",
    "\n",
    "\n",
    "from tqdm import tqdm\n",
    "\n",
    "tqdm.pandas()\n",
    "\n",
    "import numpy as np\n",
    "import re\n",
    "import json\n",
    "\n",
    "SEED = 42  # Set your desired seed for reproducibility\n",
    "\n",
    "# increase memory and reduce cores to avoid memory errors\n",
    "# Initialize Spark session\n",
    "spark = (\n",
    "    SparkSession.builder.appName(\"Recipe Recommender System with Embeddings\")\n",
    "    .config(\"spark.sql.execution.arrow.pyspark.enabled\", \"false\")\n",
    "    .getOrCreate()\n",
    ")"
   ]
  },
  {
   "cell_type": "code",
   "execution_count": null,
   "metadata": {},
   "outputs": [],
   "source": []
  },
  {
   "cell_type": "code",
   "execution_count": 2,
   "metadata": {},
   "outputs": [
    {
     "name": "stderr",
     "output_type": "stream",
     "text": [
      "24/10/14 18:32:32 WARN GarbageCollectionMetrics: To enable non-built-in garbage collector(s) List(G1 Concurrent GC), users should configure it(them) to spark.eventLog.gcMetrics.youngGenerationGarbageCollectors or spark.eventLog.gcMetrics.oldGenerationGarbageCollectors\n"
     ]
    }
   ],
   "source": [
    "# Load pre-trained sentence embedder\n",
    "embedder = SentenceTransformer(\"all-MiniLM-L6-v2\")\n",
    "\n",
    "embedder_bc = spark.sparkContext.broadcast(embedder)"
   ]
  },
  {
   "cell_type": "code",
   "execution_count": 3,
   "metadata": {},
   "outputs": [],
   "source": [
    "from IPython.display import HTML\n",
    "\n",
    "\n",
    "def display_spark_dataframe(df, num_rows=100):\n",
    "    # Convert the Spark DataFrame to Pandas for display purposes\n",
    "    pandas_df = df.limit(num_rows).toPandas()\n",
    "\n",
    "    # Generate HTML table\n",
    "    html = pandas_df.to_html(classes=\"table table-striped table-bordered\", index=False)\n",
    "\n",
    "    # Display the HTML in the notebook\n",
    "    display(HTML(html))"
   ]
  },
  {
   "cell_type": "code",
   "execution_count": 4,
   "metadata": {},
   "outputs": [
    {
     "name": "stdout",
     "output_type": "stream",
     "text": [
      "root\n",
      " |-- user_id: long (nullable = true)\n",
      " |-- recipe_id: long (nullable = true)\n",
      " |-- title: string (nullable = true)\n",
      " |-- ingredients: string (nullable = true)\n",
      " |-- link: string (nullable = true)\n",
      " |-- import_date: double (nullable = true)\n",
      "\n"
     ]
    },
    {
     "data": {
      "text/html": [
       "<table border=\"1\" class=\"dataframe table table-striped table-bordered\">\n",
       "  <thead>\n",
       "    <tr style=\"text-align: right;\">\n",
       "      <th>user_id</th>\n",
       "      <th>recipe_id</th>\n",
       "      <th>title</th>\n",
       "      <th>ingredients</th>\n",
       "      <th>link</th>\n",
       "      <th>import_date</th>\n",
       "    </tr>\n",
       "  </thead>\n",
       "  <tbody>\n",
       "    <tr>\n",
       "      <td>1</td>\n",
       "      <td>-5836364512049762718</td>\n",
       "      <td>Log Cabin Toast</td>\n",
       "      <td>[\"sugar\", \"cinnamon\", \"white\", \"margarine\"]</td>\n",
       "      <td>http://www.cookbooks.com/Recipe-Details.aspx?id=595265</td>\n",
       "      <td>1.720726e+09</td>\n",
       "    </tr>\n",
       "    <tr>\n",
       "      <td>1</td>\n",
       "      <td>5825856628004213219</td>\n",
       "      <td>Vegetable Burger Soup</td>\n",
       "      <td>[\"ground beef\", \"tomatoes\", \"tomato sauce\", \"frozen mixed vegetables\", \"onion soup\", \"sugar\"]</td>\n",
       "      <td>http://www.cookbooks.com/Recipe-Details.aspx?id=302429</td>\n",
       "      <td>1.724700e+09</td>\n",
       "    </tr>\n",
       "    <tr>\n",
       "      <td>1</td>\n",
       "      <td>6164519699133745296</td>\n",
       "      <td>Magic Cookie Bars</td>\n",
       "      <td>[\"butter\", \"graham cracker crumbs\", \"milk\", \"semi-sweet chocolate chips\", \"flaked coconut\", \"nuts\"]</td>\n",
       "      <td>http://www.cookbooks.com/Recipe-Details.aspx?id=343171</td>\n",
       "      <td>1.726601e+09</td>\n",
       "    </tr>\n",
       "  </tbody>\n",
       "</table>"
      ],
      "text/plain": [
       "<IPython.core.display.HTML object>"
      ]
     },
     "metadata": {},
     "output_type": "display_data"
    }
   ],
   "source": [
    "# Load dataset\n",
    "file_path = \"../data/processed/users_interactions.parquet\"\n",
    "raw_df = spark.read.parquet(file_path)\n",
    "\n",
    "\n",
    "# Inspect dataset\n",
    "raw_df.printSchema()\n",
    "display_spark_dataframe(raw_df, 3)"
   ]
  },
  {
   "cell_type": "markdown",
   "metadata": {},
   "source": [
    "Here the issue is that the ingredients column is a string and not a list of strings. We need to convert it to a list of strings."
   ]
  },
  {
   "cell_type": "code",
   "execution_count": 5,
   "metadata": {},
   "outputs": [],
   "source": [
    "# clean the ingredients column as a list of strings\n",
    "def clean_ingredients(ingredients):\n",
    "    # Convert JSON string to list\n",
    "    ingredients = json.loads(ingredients)\n",
    "    # Remove digits and extra spaces\n",
    "    return [re.sub(r\"\\d+\", \"\", ingredient).strip() for ingredient in ingredients]\n",
    "\n",
    "\n",
    "clean_ingredients_udf = udf(clean_ingredients, ArrayType(StringType()))\n",
    "df = raw_df.withColumn(\"ingredients\", clean_ingredients_udf(\"ingredients\"))"
   ]
  },
  {
   "cell_type": "code",
   "execution_count": 6,
   "metadata": {},
   "outputs": [
    {
     "name": "stdout",
     "output_type": "stream",
     "text": [
      "root\n",
      " |-- user_id: long (nullable = true)\n",
      " |-- recipe_id: long (nullable = true)\n",
      " |-- title: string (nullable = true)\n",
      " |-- ingredients: array (nullable = true)\n",
      " |    |-- element: string (containsNull = true)\n",
      " |-- link: string (nullable = true)\n",
      " |-- import_date: double (nullable = true)\n",
      "\n"
     ]
    },
    {
     "name": "stderr",
     "output_type": "stream",
     "text": [
      "                                                                                \r"
     ]
    },
    {
     "data": {
      "text/html": [
       "<table border=\"1\" class=\"dataframe table table-striped table-bordered\">\n",
       "  <thead>\n",
       "    <tr style=\"text-align: right;\">\n",
       "      <th>user_id</th>\n",
       "      <th>recipe_id</th>\n",
       "      <th>title</th>\n",
       "      <th>ingredients</th>\n",
       "      <th>link</th>\n",
       "      <th>import_date</th>\n",
       "    </tr>\n",
       "  </thead>\n",
       "  <tbody>\n",
       "    <tr>\n",
       "      <td>1</td>\n",
       "      <td>-5836364512049762718</td>\n",
       "      <td>Log Cabin Toast</td>\n",
       "      <td>[sugar, cinnamon, white, margarine]</td>\n",
       "      <td>http://www.cookbooks.com/Recipe-Details.aspx?id=595265</td>\n",
       "      <td>1.720726e+09</td>\n",
       "    </tr>\n",
       "    <tr>\n",
       "      <td>1</td>\n",
       "      <td>5825856628004213219</td>\n",
       "      <td>Vegetable Burger Soup</td>\n",
       "      <td>[ground beef, tomatoes, tomato sauce, frozen mixed vegetables, onion soup, sugar]</td>\n",
       "      <td>http://www.cookbooks.com/Recipe-Details.aspx?id=302429</td>\n",
       "      <td>1.724700e+09</td>\n",
       "    </tr>\n",
       "    <tr>\n",
       "      <td>1</td>\n",
       "      <td>6164519699133745296</td>\n",
       "      <td>Magic Cookie Bars</td>\n",
       "      <td>[butter, graham cracker crumbs, milk, semi-sweet chocolate chips, flaked coconut, nuts]</td>\n",
       "      <td>http://www.cookbooks.com/Recipe-Details.aspx?id=343171</td>\n",
       "      <td>1.726601e+09</td>\n",
       "    </tr>\n",
       "    <tr>\n",
       "      <td>1</td>\n",
       "      <td>-8815957590080865143</td>\n",
       "      <td>Chicken Divan</td>\n",
       "      <td>[margarine, onion, celery, flour, curry powder, mushrooms, cream of celery soup, broccoli, chicken, cheese]</td>\n",
       "      <td>http://www.cookbooks.com/Recipe-Details.aspx?id=425137</td>\n",
       "      <td>1.725824e+09</td>\n",
       "    </tr>\n",
       "    <tr>\n",
       "      <td>1</td>\n",
       "      <td>3296045182844799490</td>\n",
       "      <td>Baked Cabbage</td>\n",
       "      <td>[ground chuck, onion, rice, salt, cabbage, pepper, tomato soup, water, Mozzarella cheese]</td>\n",
       "      <td>http://www.cookbooks.com/Recipe-Details.aspx?id=761049</td>\n",
       "      <td>1.722800e+09</td>\n",
       "    </tr>\n",
       "  </tbody>\n",
       "</table>"
      ],
      "text/plain": [
       "<IPython.core.display.HTML object>"
      ]
     },
     "metadata": {},
     "output_type": "display_data"
    }
   ],
   "source": [
    "# Inspect dataset\n",
    "df.printSchema()\n",
    "display_spark_dataframe(df, 5)"
   ]
  },
  {
   "cell_type": "markdown",
   "metadata": {},
   "source": [
    "## Embedding the ingredients"
   ]
  },
  {
   "cell_type": "markdown",
   "metadata": {},
   "source": [
    "Here, we will use the SentenceTransformer library to convert the ingredients into sentence embeddings.\n",
    "The goal would be to use the natural language processing (NLP) model to convert the ingredients into fixed-length dense vectors.\n",
    "\n",
    "Then, we will use the cosine similarity to find the similarity between the user's input and the recipe ingredients."
   ]
  },
  {
   "cell_type": "code",
   "execution_count": 7,
   "metadata": {},
   "outputs": [
    {
     "name": "stdout",
     "output_type": "stream",
     "text": [
      "+-------+--------------------+--------------------+--------------------+--------------------+-------------------+\n",
      "|user_id|           recipe_id|               title|         ingredients|                link|        import_date|\n",
      "+-------+--------------------+--------------------+--------------------+--------------------+-------------------+\n",
      "|      1|-5836364512049762718|     Log Cabin Toast|[sugar, cinnamon,...|http://www.cookbo...|1.720726089854533E9|\n",
      "|      1| 5825856628004213219|Vegetable Burger ...|[ground beef, tom...|http://www.cookbo...| 1.72470048985463E9|\n",
      "|      1| 6164519699133745296|   Magic Cookie Bars|[butter, graham c...|http://www.cookbo...|1.726601289854659E9|\n",
      "|      1|-8815957590080865143|       Chicken Divan|[margarine, onion...|http://www.cookbo...|1.725823689854685E9|\n",
      "|      1| 3296045182844799490|       Baked Cabbage|[ground chuck, on...|http://www.cookbo...|1.722799689854709E9|\n",
      "+-------+--------------------+--------------------+--------------------+--------------------+-------------------+\n",
      "only showing top 5 rows\n",
      "\n"
     ]
    }
   ],
   "source": [
    "df.show(5)"
   ]
  },
  {
   "cell_type": "code",
   "execution_count": 8,
   "metadata": {},
   "outputs": [
    {
     "name": "stderr",
     "output_type": "stream",
     "text": [
      "100%|██████████| 224/224 [00:05<00:00, 37.62it/s]\n"
     ]
    }
   ],
   "source": [
    "# Create a combined text column for titles and ingredients\n",
    "df = df.withColumn(\n",
    "    \"ingredients\", F.sort_array(col(\"ingredients\"))\n",
    ")  # Sort the ingredients\n",
    "df = df.withColumn(\n",
    "    \"combined_text\",\n",
    "    F.concat_ws(\" \", col(\"title\"), F.concat_ws(\" \", col(\"ingredients\"))),\n",
    ")\n",
    "\n",
    "\n",
    "# Function to embed text using SentenceTransformer from the broadcast variable\n",
    "def embed_text(text_list):\n",
    "    embedder = embedder_bc.value\n",
    "    embeddings = embedder.encode([text_list], batch_size=8)[\n",
    "        0\n",
    "    ]  # Use batch encoding with smaller batch size\n",
    "    return embeddings.tolist()\n",
    "\n",
    "\n",
    "embed_text_udf = udf(embed_text, ArrayType(DoubleType()))\n",
    "\n",
    "\n",
    "# DISCLAIMER: This udf does not work with the current version of Spark. It is a known issue and it is being worked on.\n",
    "\n",
    "# Embed the combined text column manually converting the DataFrame to Pandas\n",
    "\n",
    "# Convert the DataFrame to Pandas\n",
    "df_pandas = df.toPandas()\n",
    "\n",
    "# Embed the text using the SentenceTransformer\n",
    "df_pandas[\"text_embeddings\"] = df_pandas[\"combined_text\"].progress_apply(\n",
    "    lambda x: [float(val) for val in embedder.encode(x)]\n",
    ")\n",
    "\n",
    "schema_fields = df.schema.fields\n",
    "\n",
    "# Add the 'embeddings' field to the schema\n",
    "schema_fields.append(StructField(\"text_embeddings\", ArrayType(DoubleType()), True))\n",
    "\n",
    "# Convert the Pandas DataFrame back to a Spark DataFrame\n",
    "df = spark.createDataFrame(df_pandas, schema=StructType(schema_fields))"
   ]
  },
  {
   "cell_type": "code",
   "execution_count": 9,
   "metadata": {},
   "outputs": [
    {
     "data": {
      "text/html": [
       "<table border=\"1\" class=\"dataframe table table-striped table-bordered\">\n",
       "  <thead>\n",
       "    <tr style=\"text-align: right;\">\n",
       "      <th>user_id</th>\n",
       "      <th>recipe_id</th>\n",
       "      <th>title</th>\n",
       "      <th>ingredients</th>\n",
       "      <th>link</th>\n",
       "      <th>import_date</th>\n",
       "      <th>combined_text</th>\n",
       "      <th>text_embeddings</th>\n",
       "    </tr>\n",
       "  </thead>\n",
       "  <tbody>\n",
       "    <tr>\n",
       "      <td>1</td>\n",
       "      <td>-5836364512049762718</td>\n",
       "      <td>Log Cabin Toast</td>\n",
       "      <td>[cinnamon, margarine, sugar, white]</td>\n",
       "      <td>http://www.cookbooks.com/Recipe-Details.aspx?id=595265</td>\n",
       "      <td>1.720726e+09</td>\n",
       "      <td>Log Cabin Toast cinnamon margarine sugar white</td>\n",
       "      <td>[0.019722038879990578, 0.010755373165011406, -0.030095934867858887, 0.022724272683262825, 0.08866915851831436, -0.0012085040798410773, 0.043510258197784424, 0.012287961319088936, 0.021360674872994423, 0.019342171028256416, -0.011456969194114208, 0.0035146630834788084, -0.0523746982216835, 0.010659187100827694, 0.0073283943347632885, -0.007702303119003773, 0.029257938265800476, -0.031293272972106934, -0.020033977925777435, 0.008631894364953041, 0.14283229410648346, 0.029597090557217598, 0.02689484879374504, 0.0726298913359642, 0.01705986075103283, 0.023738622665405273, 0.07095839828252792, -0.04517602548003197, -0.09096232801675797, 0.05846288055181503, 0.06310981512069702, -0.03432522714138031, 0.044696956872940063, 0.005657962057739496, -0.008814116008579731, -0.10759952664375305, 0.038561850786209106, -0.07481438666582108, 0.12967358529567719, -0.0388704389333725, 0.00857237633317709, -0.0019532896112650633, 0.043242767453193665, -0.042188771069049835, -0.036886826157569885, -0.03151802718639374, -0.011455806903541088, 0.0036324509419500828, 0.008756095543503761, -0.02658032812178135, 0.013522527180612087, -0.02837211824953556, -0.022579673677682877, -0.039147213101387024, -0.01981183886528015, 0.05085907503962517, -0.08923672139644623, -0.07283534854650497, 0.05667347460985184, 0.004634208977222443, -0.03418145701289177, 0.06024903804063797, -0.027315251529216766, -0.0013431244296953082, 0.01513887569308281, -0.0480848029255867, -0.06863751262426376, -0.006275206338614225, 0.08818942308425903, -0.013919901102781296, -0.058685190975666046, -0.0327465794980526, 0.08708815276622772, -0.01521309930831194, 0.06923483312129974, -0.016049297526478767, 0.04341140761971474, -0.03483021631836891, -0.012210169807076454, -0.08644692599773407, -0.03207109868526459, 0.0011837307829409838, -0.021874887868762016, 0.09983982145786285, -0.0059978533536195755, 0.018630025908350945, 0.030919549986720085, 0.08230749517679214, 0.008790355175733566, -0.042853161692619324, 0.02225908264517784, -0.043751101940870285, -0.053173478692770004, 0.08226197957992554, -0.126056969165802, -0.04551691934466362, 0.00476819509640336, -0.01941521465778351, -0.009869878180325031, 0.06680719554424286, ...]</td>\n",
       "    </tr>\n",
       "  </tbody>\n",
       "</table>"
      ],
      "text/plain": [
       "<IPython.core.display.HTML object>"
      ]
     },
     "metadata": {},
     "output_type": "display_data"
    }
   ],
   "source": [
    "display_spark_dataframe(df, 1)"
   ]
  },
  {
   "cell_type": "markdown",
   "metadata": {},
   "source": [
    "Now that we have our embeddings, we can proceed with the recommendation system. \n",
    "\n",
    "Let's use the same approach as before, but this time we will use the embeddings instead of the TF-IDF vectors."
   ]
  },
  {
   "cell_type": "markdown",
   "metadata": {},
   "source": [
    "## Recommendation System"
   ]
  },
  {
   "cell_type": "code",
   "execution_count": 10,
   "metadata": {},
   "outputs": [],
   "source": [
    "SIMILARITY_THRESHOLD = 0.5\n",
    "# Recommendations for Users\n",
    "RECOMMENDATION_LIMIT = 5"
   ]
  },
  {
   "cell_type": "code",
   "execution_count": 11,
   "metadata": {},
   "outputs": [
    {
     "name": "stdout",
     "output_type": "stream",
     "text": [
      "root\n",
      " |-- user_id: long (nullable = true)\n",
      " |-- recipe_id: long (nullable = true)\n",
      " |-- title: string (nullable = true)\n",
      " |-- ingredients: array (nullable = true)\n",
      " |    |-- element: string (containsNull = true)\n",
      " |-- link: string (nullable = true)\n",
      " |-- import_date: double (nullable = true)\n",
      " |-- combined_text: string (nullable = false)\n",
      " |-- text_embeddings: array (nullable = true)\n",
      " |    |-- element: double (containsNull = true)\n",
      " |-- recipe_id: long (nullable = true)\n",
      " |-- text_embeddings: array (nullable = true)\n",
      " |    |-- element: double (containsNull = true)\n",
      " |-- title: string (nullable = true)\n",
      " |-- user_id: long (nullable = true)\n",
      " |-- similarity: double (nullable = true)\n",
      "\n"
     ]
    },
    {
     "name": "stderr",
     "output_type": "stream",
     "text": [
      "                                                                                \r"
     ]
    },
    {
     "data": {
      "text/html": [
       "<table border=\"1\" class=\"dataframe table table-striped table-bordered\">\n",
       "  <thead>\n",
       "    <tr style=\"text-align: right;\">\n",
       "      <th>recipe_id</th>\n",
       "      <th>user_id</th>\n",
       "      <th>recommended_user_id</th>\n",
       "      <th>recipe_title</th>\n",
       "      <th>recommended_recipe_id</th>\n",
       "      <th>recommended_recipe_title</th>\n",
       "      <th>similarity</th>\n",
       "    </tr>\n",
       "  </thead>\n",
       "  <tbody>\n",
       "    <tr>\n",
       "      <td>-9058629457183933290</td>\n",
       "      <td>24</td>\n",
       "      <td>1</td>\n",
       "      <td>Vegetable-Burger Soup</td>\n",
       "      <td>5825856628004213219</td>\n",
       "      <td>Vegetable Burger Soup</td>\n",
       "      <td>0.965317</td>\n",
       "    </tr>\n",
       "    <tr>\n",
       "      <td>-9058629457183933290</td>\n",
       "      <td>24</td>\n",
       "      <td>17</td>\n",
       "      <td>Vegetable-Burger Soup</td>\n",
       "      <td>8480238711966712403</td>\n",
       "      <td>Taco Soup</td>\n",
       "      <td>0.664391</td>\n",
       "    </tr>\n",
       "    <tr>\n",
       "      <td>-9058629457183933290</td>\n",
       "      <td>24</td>\n",
       "      <td>42</td>\n",
       "      <td>Vegetable-Burger Soup</td>\n",
       "      <td>7065949700082226446</td>\n",
       "      <td>Vegetable Soup</td>\n",
       "      <td>0.639391</td>\n",
       "    </tr>\n",
       "    <tr>\n",
       "      <td>-9058629457183933290</td>\n",
       "      <td>24</td>\n",
       "      <td>1</td>\n",
       "      <td>Vegetable-Burger Soup</td>\n",
       "      <td>3296045182844799490</td>\n",
       "      <td>Baked Cabbage</td>\n",
       "      <td>0.631768</td>\n",
       "    </tr>\n",
       "    <tr>\n",
       "      <td>-9058629457183933290</td>\n",
       "      <td>24</td>\n",
       "      <td>5</td>\n",
       "      <td>Vegetable-Burger Soup</td>\n",
       "      <td>-3996395749314391944</td>\n",
       "      <td>Chunky Cheddar Chili Beans</td>\n",
       "      <td>0.621017</td>\n",
       "    </tr>\n",
       "  </tbody>\n",
       "</table>"
      ],
      "text/plain": [
       "<IPython.core.display.HTML object>"
      ]
     },
     "metadata": {},
     "output_type": "display_data"
    }
   ],
   "source": [
    "# Define a function to compute cosine similarity between two vectors\n",
    "def cosine_similarity(v1, v2):\n",
    "    v1 = np.array(v1)\n",
    "    v2 = np.array(v2)\n",
    "    dot_product = np.dot(v1, v2)\n",
    "    norm_v1 = np.linalg.norm(v1)\n",
    "    norm_v2 = np.linalg.norm(v2)\n",
    "    if norm_v1 == 0 or norm_v2 == 0:\n",
    "        return 0.0\n",
    "    return float(dot_product / (norm_v1 * norm_v2))\n",
    "\n",
    "\n",
    "cosine_similarity_udf = udf(cosine_similarity, DoubleType())\n",
    "\n",
    "# Self-join the DataFrame to calculate similarity between all recipes\n",
    "cross_joined_df = df.alias(\"df1\").crossJoin(\n",
    "    df.select([\"recipe_id\", \"text_embeddings\", \"title\", \"user_id\"]).alias(\"df2\")\n",
    ")\n",
    "\n",
    "\n",
    "# Calculate cosine similarity for each pair of recipes\n",
    "cross_joined_df = cross_joined_df.withColumn(\n",
    "    \"similarity\",\n",
    "    cosine_similarity_udf(col(\"df1.text_embeddings\"), col(\"df2.text_embeddings\")),\n",
    ")\n",
    "cross_joined_df.printSchema()\n",
    "\n",
    "\n",
    "# Select the necessary columns and alias them to avoid ambiguity\n",
    "recommendations_df = cross_joined_df.filter(\n",
    "    (col(\"df1.recipe_id\") != col(\"df2.recipe_id\"))\n",
    "    & (  # Never recommend the same recipe\n",
    "        col(\"df1.user_id\") != col(\"df2.user_id\")\n",
    "    )  # Never recommend the a recipe from the same user\n",
    ")\n",
    "\n",
    "# Explicitly select and alias the columns\n",
    "recommendations_df = (\n",
    "    recommendations_df.select(\n",
    "        col(\"df1.recipe_id\").alias(\"recipe_id\"),\n",
    "        col(\"df1.user_id\").alias(\"user_id\"),\n",
    "        col(\"df2.user_id\").alias(\"recommended_user_id\"),\n",
    "        col(\"df1.title\").alias(\"recipe_title\"),\n",
    "        col(\"df2.recipe_id\").alias(\"recommended_recipe_id\"),\n",
    "        col(\"df2.title\").alias(\"recommended_recipe_title\"),\n",
    "        col(\"similarity\"),\n",
    "        # Add any other columns you may need\n",
    "    )\n",
    "    .filter(col(\"similarity\") > SIMILARITY_THRESHOLD)\n",
    "    .orderBy(col(\"recipe_id\"), col(\"similarity\").desc())\n",
    ")\n",
    "\n",
    "display_spark_dataframe(recommendations_df, 5)"
   ]
  },
  {
   "cell_type": "markdown",
   "metadata": {},
   "source": [
    "This is looking quite good. We have a DataFrame with recommendations for each user. We can now filter the recommendations to get the top N recommendations for each user."
   ]
  },
  {
   "cell_type": "code",
   "execution_count": 12,
   "metadata": {},
   "outputs": [
    {
     "name": "stderr",
     "output_type": "stream",
     "text": [
      "                                                                                \r"
     ]
    },
    {
     "data": {
      "text/html": [
       "<table border=\"1\" class=\"dataframe table table-striped table-bordered\">\n",
       "  <thead>\n",
       "    <tr style=\"text-align: right;\">\n",
       "      <th>recipe_id</th>\n",
       "      <th>recipe_title</th>\n",
       "      <th>recommended_recipes</th>\n",
       "      <th>recommended_recipe_titles</th>\n",
       "      <th>similarity_scores</th>\n",
       "    </tr>\n",
       "  </thead>\n",
       "  <tbody>\n",
       "    <tr>\n",
       "      <td>-9058629457183933290</td>\n",
       "      <td>Vegetable-Burger Soup</td>\n",
       "      <td>[5825856628004213219, 8480238711966712403, 7065949700082226446, 3296045182844799490, -3996395749314391944, 7334669830415655927, -6669779999682413337, -6669779999682413337, -3420589259395077505, 1047453043641864603, 2310158205204139617, -5614553296578195021, 2694324010299801955, -7959335504771479864, -6113747026078318655, -7311370875205457768, 7852753338977449607, 580990177277857836, -5023575177784438039, -5823049819411440635, -5669451870154398266, 8706017513915014750, 6278886121403210282, 6278886121403210282, 1250803172746907701, -5118623329530415137, 7182608949288552664, 6562653343465218429, -727207831510502445, 566745543695458467, -8663176839699988983, -4027038759916901243, 5338836256362533528, -236700309736130815]</td>\n",
       "      <td>[Vegetable Burger Soup, Taco Soup, Vegetable Soup, Baked Cabbage, Chunky Cheddar Chili Beans, Ranch Beef And Beans, Scotch Broth, Scotch Broth, Glop, Lazy Day Chicken, Chili Con Carne, Rich Beef And Gravy(Crock-Pot Recipe)  , Egg Drop Soup, Salsa, Cabbage Rolls, Seven Layer Salad, Hot Tomatoes And Cucumbers, Chippewa Soup, Cornbread Salad, Oven Swiss Steak, Ground Beef Casserole, Indian Meat Loaf, Ranch Style Baked Beans Casserole, Ranch Style Baked Beans Casserole, Crunchy  Onion Burger, \"Glop\", Easy Hot Dish, Minestrone Soup, Lemon Chicken And Zucchini, Layered Salad, Picnic Potato Salad, Sausages And Seashells, Five Way Chili, Easy Spaghetti]</td>\n",
       "      <td>[0.965316955480652, 0.6643905905513515, 0.639390824843076, 0.6317678972870261, 0.6210171020575, 0.6097954595032831, 0.5925520982547088, 0.5925520982547088, 0.5908964329011596, 0.5843453964776765, 0.5705714073825408, 0.564587024938875, 0.550117776038424, 0.5490008239228716, 0.548899213424713, 0.5459131070910704, 0.5410702427718477, 0.5400240463756666, 0.5394385237845769, 0.539001205743465, 0.5383098255470018, 0.5299557551909952, 0.5288790746012078, 0.5288790746012078, 0.5276637612722723, 0.5232176671287985, 0.51986149801284, 0.5162109534900085, 0.5123011523997628, 0.5059346572544402, 0.5041601749197784, 0.5028143570817479, 0.5027267177884959, 0.5007013756545885]</td>\n",
       "    </tr>\n",
       "  </tbody>\n",
       "</table>"
      ],
      "text/plain": [
       "<IPython.core.display.HTML object>"
      ]
     },
     "metadata": {},
     "output_type": "display_data"
    }
   ],
   "source": [
    "# Get top recommendations by collecting the recommended_recipe_id into a list for each recipe_id\n",
    "top_recommendations = recommendations_df.groupby([\"recipe_id\", \"recipe_title\"]).agg(\n",
    "    F.collect_list(\"recommended_recipe_id\").alias(\"recommended_recipes\"),\n",
    "    F.collect_list(\"recommended_recipe_title\").alias(\"recommended_recipe_titles\"),\n",
    "    F.collect_list(\"similarity\").alias(\"similarity_scores\"),\n",
    ")\n",
    "# Show Top Recommendations\n",
    "display_spark_dataframe(top_recommendations, 1)"
   ]
  },
  {
   "cell_type": "markdown",
   "metadata": {},
   "source": [
    "## Content-based Filtering\n",
    "\n",
    "The approach here is to recommend a recipe to a user based on the similarity of the ingredients present in other recipes.\n",
    "\n",
    "Let's have a look"
   ]
  },
  {
   "cell_type": "code",
   "execution_count": 13,
   "metadata": {},
   "outputs": [
    {
     "name": "stderr",
     "output_type": "stream",
     "text": [
      "                                                                                \r"
     ]
    },
    {
     "data": {
      "text/html": [
       "<table border=\"1\" class=\"dataframe table table-striped table-bordered\">\n",
       "  <thead>\n",
       "    <tr style=\"text-align: right;\">\n",
       "      <th>user_id</th>\n",
       "      <th>recommended_recipes</th>\n",
       "      <th>similarity_scores</th>\n",
       "    </tr>\n",
       "  </thead>\n",
       "  <tbody>\n",
       "    <tr>\n",
       "      <td>26</td>\n",
       "      <td>[(-3353573329779529551, Cranberry Salad, http://www.cookbooks.com/Recipe-Details.aspx?id=427420, [cranberry sauce, cream cheese, margarine, pineapple, sugar, walnuts, whipping cream]), (-7067716566959450710, Divinity Fudge, http://www.cookbooks.com/Recipe-Details.aspx?id=875051, [cold water, egg whites, nuts, sugar, vanilla, white corn syrup]), (1475742938514587362, Old-Time Bread Pudding, http://www.cookbooks.com/Recipe-Details.aspx?id=400071, [Pet milk, boiling water, buttered toast, cinnamon, eggs, raisins, salt, sugar, sugar, vanilla]), (-7588581206644941043, Strawberry Pie, http://www.cookbooks.com/Recipe-Details.aspx?id=575611, [cream cheese, frozen strawberries, sugar]), (8847943492650148032, Low Cholesterol Ice Cream, http://www.cookbooks.com/Recipe-Details.aspx?id=289172, [Egg Scramblers, milk, milk, sugar, vanilla])]</td>\n",
       "      <td>[0.5024621613296735, 0.5035705903297357, 0.5049867260916007, 0.5101536873659674, 0.5102255391113762]</td>\n",
       "    </tr>\n",
       "    <tr>\n",
       "      <td>29</td>\n",
       "      <td>[(3088604997597712054, Phylis' Pineapple-Banana Salad, http://www.cookbooks.com/Recipe-Details.aspx?id=682439, [bananas, pineapple]), (-3251620781098817209, Fruit Cake, http://www.cookbooks.com/Recipe-Details.aspx?id=267592, [baking powder, candied cherries, chocolate chips, eggs, flour, nuts, salt, sugar]), (-4573706575222033830, Party Pink Punch, http://www.cookbooks.com/Recipe-Details.aspx?id=976793, [cranberry juice, frozen lemonade, liters ginger ale, pineapple juice, sugar]), (4248772492409983307, Rolls, http://www.cookbooks.com/Recipe-Details.aspx?id=824206, [butter, eggs, flour, milk, salt, sugar, yeast]), (-4525960110849332048, Fruity Ice, http://www.cookbooks.com/Recipe-Details.aspx?id=710858, [applesauce, bananas, cinnamon, crushed ice, oranges])]</td>\n",
       "      <td>[0.5048953457457137, 0.5053284887621573, 0.5100188652663266, 0.5138964350751841, 0.5151694513576688]</td>\n",
       "    </tr>\n",
       "    <tr>\n",
       "      <td>65</td>\n",
       "      <td>[(-2549225793712397108, Mixed Vegetable Casserole, http://www.cookbooks.com/Recipe-Details.aspx?id=472234, [Veg-All, grated cheese, margarine, mayonnaise, onion, roll, water chestnuts]), (-2682508455536574038, Ice Cream, http://www.cookbooks.com/Recipe-Details.aspx?id=13922, [cream, eggs, milk, milk, salt, sugar, vanilla]), (-606132927153244690, Millionaire Pie, http://www.cookbooks.com/Recipe-Details.aspx?id=794547, [condensed milk, graham cracker crusts, lemons, pecans, pineapple]), (-973267922133716957, Sour Cream Lasagna, http://www.cookbooks.com/Recipe-Details.aspx?id=400312, [Cheddar cheese, brown sugar, cottage cheese, egg dumpling noodles, garlic salt, green onions, ground beef, liquid smoke, pepper, salt, sour cream, tomato sauce]), (6833491545595824920, Quick Fruit Salad, http://www.cookbooks.com/Recipe-Details.aspx?id=357496, [bananas, cherry pie filling, marshmallows, pecans, pineapple])]</td>\n",
       "      <td>[0.5023056472128538, 0.50375620157832, 0.5052550939616084, 0.5064559973128402, 0.5065376211296618]</td>\n",
       "    </tr>\n",
       "    <tr>\n",
       "      <td>19</td>\n",
       "      <td>[(-6269967695551353259, Fast Real Good Fudge, http://www.cookbooks.com/Recipe-Details.aspx?id=505741, [Velveeta, cocoa, confectioners sugar, margarine, nuts, vanilla]), (-7358079084168233672, Rum Balls, http://www.cookbooks.com/Recipe-Details.aspx?id=814952, [light corn syrup, nuts, powdered sugar, rum, semi-sweet chocolate, vanilla wafers]), (-7358079084168233672, Rum Balls, http://www.cookbooks.com/Recipe-Details.aspx?id=814952, [light corn syrup, nuts, powdered sugar, rum, semi-sweet chocolate, vanilla wafers]), (-7358079084168233672, Rum Balls, http://www.cookbooks.com/Recipe-Details.aspx?id=814952, [light corn syrup, nuts, powdered sugar, rum, semi-sweet chocolate, vanilla wafers]), (-7358079084168233672, Rum Balls, http://www.cookbooks.com/Recipe-Details.aspx?id=814952, [light corn syrup, nuts, powdered sugar, rum, semi-sweet chocolate, vanilla wafers])]</td>\n",
       "      <td>[0.5037205756127809, 0.5043095164383786, 0.5043095164383786, 0.5043095164383786, 0.5043095164383786]</td>\n",
       "    </tr>\n",
       "    <tr>\n",
       "      <td>54</td>\n",
       "      <td>[(-1084923410672998863, Strawberry Bread, http://www.cookbooks.com/Recipe-Details.aspx?id=57263, [baking soda, cinnamon, eggs, flour, frozen strawberries, sugar, vegetable oil]), (-1084923410672998863, Strawberry Bread, http://www.cookbooks.com/Recipe-Details.aspx?id=57263, [baking soda, cinnamon, eggs, flour, frozen strawberries, sugar, vegetable oil]), (-1084923410672998863, Strawberry Bread, http://www.cookbooks.com/Recipe-Details.aspx?id=57263, [baking soda, cinnamon, eggs, flour, frozen strawberries, sugar, vegetable oil]), (-1084923410672998863, Strawberry Bread, http://www.cookbooks.com/Recipe-Details.aspx?id=57263, [baking soda, cinnamon, eggs, flour, frozen strawberries, sugar, vegetable oil]), (4140273761656505959, Oatmeal Cake, http://www.cookbooks.com/Recipe-Details.aspx?id=728549, [baking powder, boiling water, brown sugar, butter, cinnamon, eggs, flour, oatmeal, salt, soda, vanilla, white sugar])]</td>\n",
       "      <td>[0.5038128348136361, 0.5038128348136361, 0.5038128348136361, 0.5038128348136361, 0.5122573084708405]</td>\n",
       "    </tr>\n",
       "  </tbody>\n",
       "</table>"
      ],
      "text/plain": [
       "<IPython.core.display.HTML object>"
      ]
     },
     "metadata": {},
     "output_type": "display_data"
    }
   ],
   "source": [
    "subset = (\n",
    "    recommendations_df.alias(\"df1\")\n",
    "    .join(\n",
    "        df.alias(\"df2\"),\n",
    "        recommendations_df.recommended_recipe_id == df.recipe_id,\n",
    "    )\n",
    "    .select(\n",
    "        col(\"df1.user_id\"),\n",
    "        col(\"df2.recipe_id\"),\n",
    "        col(\"df2.title\"),\n",
    "        col(\"df2.link\"),\n",
    "        col(\"df2.ingredients\"),\n",
    "        col(\"df1.similarity\"),\n",
    "    )\n",
    ")\n",
    "\n",
    "\n",
    "recipe_content_based_recommendations = (\n",
    "    subset.orderBy([\"user_id\", \"similarity\"])\n",
    "    .groupby([\"user_id\"])\n",
    "    .agg(\n",
    "        F.slice(\n",
    "            F.collect_list(\n",
    "                F.struct(\n",
    "                    F.col(\"recipe_id\"),\n",
    "                    F.col(\"title\"),\n",
    "                    F.col(\"link\"),\n",
    "                    F.col(\"ingredients\"),\n",
    "                )\n",
    "            ),\n",
    "            1,\n",
    "            RECOMMENDATION_LIMIT,\n",
    "        ).alias(\"recommended_recipes\"),\n",
    "        F.slice(F.collect_list(\"similarity\"), 1, RECOMMENDATION_LIMIT).alias(\n",
    "            \"similarity_scores\"\n",
    "        ),\n",
    "    )\n",
    ")\n",
    "display_spark_dataframe(recipe_content_based_recommendations, 5)"
   ]
  },
  {
   "cell_type": "markdown",
   "metadata": {},
   "source": [
    "With this first approach, each user gets some recommendations based on the recipe similar to theirs.\n",
    "\n",
    "However, this approach breeds little diversity in the recommendations. Let's thus observe another approach to recommend recipes to users."
   ]
  },
  {
   "cell_type": "markdown",
   "metadata": {},
   "source": [
    "## Collaborative Filtering\n",
    "\n",
    "In this approach, we will get for each users the users that have similar taste to them, meaning users that have used similar ingredients in their recipe.\n",
    "\n",
    "Then, we will sample randomly a recipe from the users that have similar taste to the user and that the user has not already tried."
   ]
  },
  {
   "cell_type": "code",
   "execution_count": 14,
   "metadata": {},
   "outputs": [
    {
     "name": "stderr",
     "output_type": "stream",
     "text": [
      "                                                                                \r"
     ]
    },
    {
     "data": {
      "text/html": [
       "<table border=\"1\" class=\"dataframe table table-striped table-bordered\">\n",
       "  <thead>\n",
       "    <tr style=\"text-align: right;\">\n",
       "      <th>user_id</th>\n",
       "      <th>recommended_users</th>\n",
       "      <th>average_similarity_scores</th>\n",
       "    </tr>\n",
       "  </thead>\n",
       "  <tbody>\n",
       "    <tr>\n",
       "      <td>2</td>\n",
       "      <td>[76]</td>\n",
       "      <td>[0.8260017557284715]</td>\n",
       "    </tr>\n",
       "    <tr>\n",
       "      <td>7</td>\n",
       "      <td>[73]</td>\n",
       "      <td>[0.7210138686744786]</td>\n",
       "    </tr>\n",
       "    <tr>\n",
       "      <td>9</td>\n",
       "      <td>[88, 82, 18]</td>\n",
       "      <td>[0.714900757888079, 0.7095564383668574, 0.7027203357071433]</td>\n",
       "    </tr>\n",
       "    <tr>\n",
       "      <td>10</td>\n",
       "      <td>[62, 29]</td>\n",
       "      <td>[0.7503616640000887, 0.7446023453078634]</td>\n",
       "    </tr>\n",
       "    <tr>\n",
       "      <td>15</td>\n",
       "      <td>[88]</td>\n",
       "      <td>[0.745308784440513]</td>\n",
       "    </tr>\n",
       "  </tbody>\n",
       "</table>"
      ],
      "text/plain": [
       "<IPython.core.display.HTML object>"
      ]
     },
     "metadata": {},
     "output_type": "display_data"
    }
   ],
   "source": [
    "# Recommendations for Users\n",
    "RECOMMENDATION_LIMIT = 5\n",
    "SIMILARITY_THRESHOLD_USERS = 0.7  # We want really similar users\n",
    "\n",
    "\n",
    "# Get top recommendations by collecting the recommended_recipe_id into a list for each recipe_id\n",
    "top_user_similarity_recommendations = (\n",
    "    recommendations_df.orderBy([\"user_id\"])\n",
    "    .groupby([\"user_id\", \"recommended_user_id\"])\n",
    "    .agg(\n",
    "        F.avg(\"similarity\").alias(\"average_similarity\"),\n",
    "    )\n",
    "    .orderBy([\"user_id\", \"average_similarity\"], ascending=[True, False])\n",
    "    .withColumnRenamed(\"user_id\", \"user_id\")\n",
    ")\n",
    "\n",
    "top_user_similarity_recommendations = (\n",
    "    top_user_similarity_recommendations.filter(\n",
    "        col(\"average_similarity\") > SIMILARITY_THRESHOLD_USERS\n",
    "    )\n",
    "    .groupBy(\"user_id\")\n",
    "    .agg(\n",
    "        F.slice(F.collect_list(\"recommended_user_id\"), 1, RECOMMENDATION_LIMIT).alias(\n",
    "            \"recommended_users\"\n",
    "        ),\n",
    "        F.slice(F.collect_list(\"average_similarity\"), 1, RECOMMENDATION_LIMIT).alias(\n",
    "            \"average_similarity_scores\"\n",
    "        ),\n",
    "    )\n",
    ")\n",
    "\n",
    "display_spark_dataframe(top_user_similarity_recommendations, 5)"
   ]
  },
  {
   "cell_type": "code",
   "execution_count": 15,
   "metadata": {},
   "outputs": [
    {
     "name": "stderr",
     "output_type": "stream",
     "text": [
      "                                                                                \r"
     ]
    },
    {
     "name": "stdout",
     "output_type": "stream",
     "text": [
      "+-------+-------------------+--------------------+--------------------+--------------------+------------------+\n",
      "|user_id|          recipe_id|               title|                link|         ingredients|        similarity|\n",
      "+-------+-------------------+--------------------+--------------------+--------------------+------------------+\n",
      "|     98|5996411961097143608|Meg'S Power Peanu...|http://www.cookbo...|[butter, chocolat...|0.5548206051376792|\n",
      "|     86|5996411961097143608|Meg'S Power Peanu...|http://www.cookbo...|[butter, chocolat...|0.6830661954338574|\n",
      "|     83|5996411961097143608|Meg'S Power Peanu...|http://www.cookbo...|[butter, chocolat...|0.6329597591775982|\n",
      "|     76|5996411961097143608|Meg'S Power Peanu...|http://www.cookbo...|[butter, chocolat...|0.5325578916363407|\n",
      "|     72|5996411961097143608|Meg'S Power Peanu...|http://www.cookbo...|[butter, chocolat...|0.5434275715113834|\n",
      "|     69|5996411961097143608|Meg'S Power Peanu...|http://www.cookbo...|[butter, chocolat...|  0.51783053931041|\n",
      "|     65|5996411961097143608|Meg'S Power Peanu...|http://www.cookbo...|[butter, chocolat...| 0.630661801501417|\n",
      "|     59|5996411961097143608|Meg'S Power Peanu...|http://www.cookbo...|[butter, chocolat...|0.5096740311071145|\n",
      "|     46|5996411961097143608|Meg'S Power Peanu...|http://www.cookbo...|[butter, chocolat...|0.6145996025094955|\n",
      "|     25|5996411961097143608|Meg'S Power Peanu...|http://www.cookbo...|[butter, chocolat...|0.5046214656065721|\n",
      "|     24|5996411961097143608|Meg'S Power Peanu...|http://www.cookbo...|[butter, chocolat...|0.5463609641157677|\n",
      "|     22|5996411961097143608|Meg'S Power Peanu...|http://www.cookbo...|[butter, chocolat...|0.5561455607142707|\n",
      "|     17|5996411961097143608|Meg'S Power Peanu...|http://www.cookbo...|[butter, chocolat...|0.5355789610119348|\n",
      "|     15|5996411961097143608|Meg'S Power Peanu...|http://www.cookbo...|[butter, chocolat...|0.5588004945975755|\n",
      "|     15|5996411961097143608|Meg'S Power Peanu...|http://www.cookbo...|[butter, chocolat...|0.6038592043336162|\n",
      "|     12|5996411961097143608|Meg'S Power Peanu...|http://www.cookbo...|[butter, chocolat...|0.5057754320921412|\n",
      "|      8|5996411961097143608|Meg'S Power Peanu...|http://www.cookbo...|[butter, chocolat...|0.6208756595182633|\n",
      "|      7|5996411961097143608|Meg'S Power Peanu...|http://www.cookbo...|[butter, chocolat...|0.5632252643557142|\n",
      "|      7|5996411961097143608|Meg'S Power Peanu...|http://www.cookbo...|[butter, chocolat...|0.5188762992305457|\n",
      "|      5|5996411961097143608|Meg'S Power Peanu...|http://www.cookbo...|[butter, chocolat...|0.5338459669406304|\n",
      "+-------+-------------------+--------------------+--------------------+--------------------+------------------+\n",
      "only showing top 20 rows\n",
      "\n"
     ]
    }
   ],
   "source": [
    "subset.show()"
   ]
  },
  {
   "cell_type": "code",
   "execution_count": 16,
   "metadata": {},
   "outputs": [
    {
     "name": "stderr",
     "output_type": "stream",
     "text": [
      "                                                                                \r"
     ]
    },
    {
     "data": {
      "text/html": [
       "<table border=\"1\" class=\"dataframe table table-striped table-bordered\">\n",
       "  <thead>\n",
       "    <tr style=\"text-align: right;\">\n",
       "      <th>user_id</th>\n",
       "      <th>recommended_recipes</th>\n",
       "    </tr>\n",
       "  </thead>\n",
       "  <tbody>\n",
       "    <tr>\n",
       "      <td>76</td>\n",
       "      <td>[(7226555342600168366, Crustless Pumpkin Pie, http://www.cookbooks.com/Recipe-Details.aspx?id=309992, [cinnamon, eggs, ginger, honey, milk, nutmeg, pumpkin, salt]), (6315088686442183061, Pineapple Souffle, http://www.cookbooks.com/Recipe-Details.aspx?id=870995, [bread, butter, cinnamon, eggs, milk, pecans, pineapple, sugar, sugar]), (-5665958477676335033, Foolproof Chocolate Fudge, http://www.cookbooks.com/Recipe-Details.aspx?id=48056, [condensed milk, nuts, salt, semi-sweet chocolate morsels, vanilla extract]), (-3491060866410877481, Never Fail Pie Crust(Double Pie Crust)  , http://www.cookbooks.com/Recipe-Details.aspx?id=994414, [egg, flour, salt, shortening, sugar, vinegar, water]), (-6669779999682413337, Scotch Broth, http://www.cookbooks.com/Recipe-Details.aspx?id=166538, [carrots, celery, meaty soup bones, onion, pearl barley, peppercorns, salt, turnips, water])]</td>\n",
       "    </tr>\n",
       "    <tr>\n",
       "      <td>29</td>\n",
       "      <td>[(-2682508455536574038, Ice Cream, http://www.cookbooks.com/Recipe-Details.aspx?id=13922, [cream, eggs, milk, milk, salt, sugar, vanilla]), (-2548822472067743108, Chocolate Pie, http://www.cookbooks.com/Recipe-Details.aspx?id=490390, [boiling water, clump, cocoa, egg yolks, flour, milk, sugar, vanilla]), (3729704041729540460, Heath Bar Pie, http://www.cookbooks.com/Recipe-Details.aspx?id=976718, [chocolate curls, graham cracker pie crust]), (8847943492650148032, Low Cholesterol Ice Cream, http://www.cookbooks.com/Recipe-Details.aspx?id=289172, [Egg Scramblers, milk, milk, sugar, vanilla]), (-3427706341014057740, No Bake Persimmon Pudding, http://www.cookbooks.com/Recipe-Details.aspx?id=387528, [graham cracker crumbs, marshmallows, peanuts, persimmon pulp, powdered sugar, whipped cream])]</td>\n",
       "    </tr>\n",
       "    <tr>\n",
       "      <td>88</td>\n",
       "      <td>[(-3481376460629089103, German Potato Salad, http://www.cookbooks.com/Recipe-Details.aspx?id=949761, [bacon, bacon fat, celery, eggs, flour, onion, pepper, potatoes, salt, sugar, vinegar, water]), (1431377674314182701, Favorite Chocolate Cake, http://www.cookbooks.com/Recipe-Details.aspx?id=684926, [baking powder, buttermilk, cocoa, eggs, flour, red food coloring, salt, shortening, soda, sugar]), (-2243084374492544274, Betsy'S Chocolate Fudge Cake, http://www.cookbooks.com/Recipe-Details.aspx?id=858480, [baking powder, boiling water, brown sugar, butter, eggs, flour, salt, sour cream, unsweetened chocolate, vanilla]), (1429935095559871731, Ham And Country Dumplings, http://www.cookbooks.com/Recipe-Details.aspx?id=681333, [cold water, eggs, flour, ham bone, ham bouillon]), (2394488575882758118, Blueberry Surprise, http://www.cookbooks.com/Recipe-Details.aspx?id=14352, [graham cracker crumbs, granulated sugar, margarine])]</td>\n",
       "    </tr>\n",
       "    <tr>\n",
       "      <td>62</td>\n",
       "      <td>[(673815503209316634, Lemon Fluff Jello, http://www.cookbooks.com/Recipe-Details.aspx?id=947069, [boiling water, cream cheese, lemon Jell-O, pecans, pineapple, sugar]), (6930348736077852695, Vanilla Ice Cream, http://www.cookbooks.com/Recipe-Details.aspx?id=91883, [eggs, milk, milk, milk, sugar]), (-3427706341014057740, No Bake Persimmon Pudding, http://www.cookbooks.com/Recipe-Details.aspx?id=387528, [graham cracker crumbs, marshmallows, peanuts, persimmon pulp, powdered sugar, whipped cream]), (3729704041729540460, Heath Bar Pie, http://www.cookbooks.com/Recipe-Details.aspx?id=976718, [chocolate curls, graham cracker pie crust]), (8706017513915014750, Indian Meat Loaf, http://www.cookbooks.com/Recipe-Details.aspx?id=778364, [corn meal, cream-style corn, egg, green pepper, ground beef, ground pork, onion, pepper, sage, salt, tomatoes])]</td>\n",
       "    </tr>\n",
       "    <tr>\n",
       "      <td>18</td>\n",
       "      <td>[(2667220836415796897, Beef Brisket, http://www.cookbooks.com/Recipe-Details.aspx?id=1007920, [beef brisket, catsup, cider vinegar, horseradish, mustard, onion, pepper, salt, water]), (-8810089315511597378, Brown Rice Pizza(Light)  , http://www.cookbooks.com/Recipe-Details.aspx?id=168268, [Mozzarella cheese, broccoli flowerets, brown rice, egg, mushrooms, onion, oregano, tomato sauce, zucchini]), (-1413936131405738684, Dry Meat Seasoning, http://www.cookbooks.com/Recipe-Details.aspx?id=138336, [Accent, black pepper, paprika, peel powder, salt, sugar]), (-3740394205139448372, Cheese Ball, http://www.cookbooks.com/Recipe-Details.aspx?id=515966, [Worcestershire sauce, beef, celery salt, cream cheese, garlic salt, mayonnaise, olives, onion salt, parsley flakes, pimento, sharp cheese]), (1796827391485446016, Sour Cream Pound Cake, http://www.cookbooks.com/Recipe-Details.aspx?id=436042, [Crisco, cake flour, eggs, margarine, sour cream, sugar, vanilla flavoring])]</td>\n",
       "    </tr>\n",
       "  </tbody>\n",
       "</table>"
      ],
      "text/plain": [
       "<IPython.core.display.HTML object>"
      ]
     },
     "metadata": {},
     "output_type": "display_data"
    }
   ],
   "source": [
    "# Get top recommendations by collecting the recommended_recipe_id into a list for each recipe_id\n",
    "\n",
    "subset = (\n",
    "    top_user_similarity_recommendations.alias(\"df1\")\n",
    "    .join(\n",
    "        df.alias(\"df2\"),\n",
    "        F.array_contains(\n",
    "            top_user_similarity_recommendations.recommended_users, df.user_id\n",
    "        ),\n",
    "    )\n",
    "    .select(\n",
    "        \"df1.user_id\",\n",
    "        \"df1.recommended_users\",\n",
    "        \"df2.recipe_id\",\n",
    "        \"df2.title\",\n",
    "        \"df2.link\",\n",
    "        \"df2.ingredients\",\n",
    "    )\n",
    ")\n",
    "\n",
    "\n",
    "# Random recipe sampling for each reommended user\n",
    "recipe_collaborative_recommendations = subset.groupBy(\"user_id\").agg(\n",
    "    F.slice(\n",
    "        F.shuffle(\n",
    "            F.collect_list(\n",
    "                F.struct(\n",
    "                    F.col(\"recipe_id\"),\n",
    "                    F.col(\"title\"),\n",
    "                    F.col(\"link\"),\n",
    "                    F.col(\"ingredients\"),\n",
    "                )\n",
    "            )\n",
    "        ),\n",
    "        1,\n",
    "        RECOMMENDATION_LIMIT,\n",
    "    ).alias(\"recommended_recipes\"),\n",
    ")\n",
    "\n",
    "display_spark_dataframe(recipe_collaborative_recommendations, 5)"
   ]
  },
  {
   "cell_type": "markdown",
   "metadata": {},
   "source": [
    "## Merging the two recommendations"
   ]
  },
  {
   "cell_type": "code",
   "execution_count": 17,
   "metadata": {},
   "outputs": [],
   "source": [
    "final_recommendations = (\n",
    "    recipe_content_based_recommendations.alias(\"df1\")\n",
    "    .join(\n",
    "        recipe_collaborative_recommendations.alias(\"df2\"),\n",
    "        recipe_content_based_recommendations.user_id\n",
    "        == recipe_collaborative_recommendations.user_id,\n",
    "    )\n",
    "    .select(\n",
    "        \"df1.user_id\",\n",
    "        col(\"df1.recommended_recipes\").alias(\"content_based_recipes\"),\n",
    "        col(\"df1.similarity_scores\").alias(\"content_based_similarity_scores\"),\n",
    "        col(\"df2.recommended_recipes\").alias(\"collaborative_recipes\"),\n",
    "    )\n",
    ")"
   ]
  },
  {
   "cell_type": "code",
   "execution_count": 19,
   "metadata": {},
   "outputs": [
    {
     "name": "stderr",
     "output_type": "stream",
     "text": [
      "                                                                                \r"
     ]
    },
    {
     "data": {
      "text/html": [
       "<table border=\"1\" class=\"dataframe table table-striped table-bordered\">\n",
       "  <thead>\n",
       "    <tr style=\"text-align: right;\">\n",
       "      <th>user_id</th>\n",
       "      <th>content_based_recipes</th>\n",
       "      <th>content_based_similarity_scores</th>\n",
       "      <th>collaborative_recipes</th>\n",
       "    </tr>\n",
       "  </thead>\n",
       "  <tbody>\n",
       "    <tr>\n",
       "      <td>76</td>\n",
       "      <td>[(-8983223843788436463, Meltaways, http://www.cookbooks.com/Recipe-Details.aspx?id=719571, [cream cheese, flour, margarine]), (-6969692039410593042, Crazy Peanut Butter Cookies, http://www.cookbooks.com/Recipe-Details.aspx?id=892363, [egg, peanut butter, sugar]), (3682129508320495524, Buckeyes(Cookies)  , http://www.cookbooks.com/Recipe-Details.aspx?id=1022822, [Rice Krispies, chocolate chips, crunchy peanut butter, oleo, paraffin, powdered sugar]), (-3633718265606525894, Lemon Chip Cookies, http://www.cookbooks.com/Recipe-Details.aspx?id=639713, [baking powder, cream cheese, eggs, flour, flour, lemon chips, lemon juice, margarine, sugar, sugar]), (-3928874728248188262, Blueberry Cake, http://www.cookbooks.com/Recipe-Details.aspx?id=303061, [baking powder, eggs, flour, floured blueberries, milk, salt, shortening, sugar, vanilla])]</td>\n",
       "      <td>[0.5010046713507873, 0.5037843864073783, 0.5106719787860023, 0.5119221734045735, 0.5258377462498738]</td>\n",
       "      <td>[(7226555342600168366, Crustless Pumpkin Pie, http://www.cookbooks.com/Recipe-Details.aspx?id=309992, [cinnamon, eggs, ginger, honey, milk, nutmeg, pumpkin, salt]), (6315088686442183061, Pineapple Souffle, http://www.cookbooks.com/Recipe-Details.aspx?id=870995, [bread, butter, cinnamon, eggs, milk, pecans, pineapple, sugar, sugar]), (-5665958477676335033, Foolproof Chocolate Fudge, http://www.cookbooks.com/Recipe-Details.aspx?id=48056, [condensed milk, nuts, salt, semi-sweet chocolate morsels, vanilla extract]), (-3491060866410877481, Never Fail Pie Crust(Double Pie Crust)  , http://www.cookbooks.com/Recipe-Details.aspx?id=994414, [egg, flour, salt, shortening, sugar, vinegar, water]), (-6669779999682413337, Scotch Broth, http://www.cookbooks.com/Recipe-Details.aspx?id=166538, [carrots, celery, meaty soup bones, onion, pearl barley, peppercorns, salt, turnips, water])]</td>\n",
       "    </tr>\n",
       "    <tr>\n",
       "      <td>29</td>\n",
       "      <td>[(3088604997597712054, Phylis' Pineapple-Banana Salad, http://www.cookbooks.com/Recipe-Details.aspx?id=682439, [bananas, pineapple]), (-3251620781098817209, Fruit Cake, http://www.cookbooks.com/Recipe-Details.aspx?id=267592, [baking powder, candied cherries, chocolate chips, eggs, flour, nuts, salt, sugar]), (-4573706575222033830, Party Pink Punch, http://www.cookbooks.com/Recipe-Details.aspx?id=976793, [cranberry juice, frozen lemonade, liters ginger ale, pineapple juice, sugar]), (4248772492409983307, Rolls, http://www.cookbooks.com/Recipe-Details.aspx?id=824206, [butter, eggs, flour, milk, salt, sugar, yeast]), (-4525960110849332048, Fruity Ice, http://www.cookbooks.com/Recipe-Details.aspx?id=710858, [applesauce, bananas, cinnamon, crushed ice, oranges])]</td>\n",
       "      <td>[0.5048953457457137, 0.5053284887621573, 0.5100188652663266, 0.5138964350751841, 0.5151694513576688]</td>\n",
       "      <td>[(-2682508455536574038, Ice Cream, http://www.cookbooks.com/Recipe-Details.aspx?id=13922, [cream, eggs, milk, milk, salt, sugar, vanilla]), (-2548822472067743108, Chocolate Pie, http://www.cookbooks.com/Recipe-Details.aspx?id=490390, [boiling water, clump, cocoa, egg yolks, flour, milk, sugar, vanilla]), (3729704041729540460, Heath Bar Pie, http://www.cookbooks.com/Recipe-Details.aspx?id=976718, [chocolate curls, graham cracker pie crust]), (8847943492650148032, Low Cholesterol Ice Cream, http://www.cookbooks.com/Recipe-Details.aspx?id=289172, [Egg Scramblers, milk, milk, sugar, vanilla]), (-3427706341014057740, No Bake Persimmon Pudding, http://www.cookbooks.com/Recipe-Details.aspx?id=387528, [graham cracker crumbs, marshmallows, peanuts, persimmon pulp, powdered sugar, whipped cream])]</td>\n",
       "    </tr>\n",
       "    <tr>\n",
       "      <td>88</td>\n",
       "      <td>[(7065949700082226446, Vegetable Soup, http://www.cookbooks.com/Recipe-Details.aspx?id=386645, [Italian seasoning, bay leaf, beans, carrots, celery, green sweet peppers, ground turkey, macaroni, onion, potato, sweet peas, tomato juice]), (-1227772323698415345, Mango With Tomatoes And Scallions Or Leeks, http://www.cookbooks.com/Recipe-Details.aspx?id=681988, [lemon juice, mango, mustard, safflower oil, scallions, tomatoes]), (251365204153554229, Garden Cabbage Salad, http://www.cookbooks.com/Recipe-Details.aspx?id=1004617, [Dressing, cabbage, carrot, cucumber, green onions, green pepper, radishes]), (-2754011034698263661, Sour Cream Meat Loaf, http://www.cookbooks.com/Recipe-Details.aspx?id=459058, [apple, bacon, carrot, dry mustard, eggs, ground lean beef, nutmeg, onion, pepper, potato, salt, sour cream]), (-4584826163288133981, Hattie Coffer'S Kool-Aid Punch, http://www.cookbooks.com/Recipe-Details.aspx?id=776286, [ginger ale, lemon juice, pineapple juice, sugar, water, water])]</td>\n",
       "      <td>[0.5004700083795904, 0.5017016327021121, 0.5027673105654547, 0.5031007067113923, 0.5078038941276417]</td>\n",
       "      <td>[(-3481376460629089103, German Potato Salad, http://www.cookbooks.com/Recipe-Details.aspx?id=949761, [bacon, bacon fat, celery, eggs, flour, onion, pepper, potatoes, salt, sugar, vinegar, water]), (1431377674314182701, Favorite Chocolate Cake, http://www.cookbooks.com/Recipe-Details.aspx?id=684926, [baking powder, buttermilk, cocoa, eggs, flour, red food coloring, salt, shortening, soda, sugar]), (-2243084374492544274, Betsy'S Chocolate Fudge Cake, http://www.cookbooks.com/Recipe-Details.aspx?id=858480, [baking powder, boiling water, brown sugar, butter, eggs, flour, salt, sour cream, unsweetened chocolate, vanilla]), (1429935095559871731, Ham And Country Dumplings, http://www.cookbooks.com/Recipe-Details.aspx?id=681333, [cold water, eggs, flour, ham bone, ham bouillon]), (2394488575882758118, Blueberry Surprise, http://www.cookbooks.com/Recipe-Details.aspx?id=14352, [graham cracker crumbs, granulated sugar, margarine])]</td>\n",
       "    </tr>\n",
       "    <tr>\n",
       "      <td>62</td>\n",
       "      <td>[(-3353573329779529551, Cranberry Salad, http://www.cookbooks.com/Recipe-Details.aspx?id=427420, [cranberry sauce, cream cheese, margarine, pineapple, sugar, walnuts, whipping cream]), (3682129508320495524, Buckeyes(Cookies)  , http://www.cookbooks.com/Recipe-Details.aspx?id=1022822, [Rice Krispies, chocolate chips, crunchy peanut butter, oleo, paraffin, powdered sugar]), (-7780409990758030266, Chocolate Mint Bars, http://www.cookbooks.com/Recipe-Details.aspx?id=590883, [chocolate syrup, eggs, flour, oleo, sugar]), (-6969692039410593042, Crazy Peanut Butter Cookies, http://www.cookbooks.com/Recipe-Details.aspx?id=892363, [egg, peanut butter, sugar]), (6164519699133745296, Magic Cookie Bars, http://www.cookbooks.com/Recipe-Details.aspx?id=343171, [butter, flaked coconut, graham cracker crumbs, milk, nuts, semi-sweet chocolate chips])]</td>\n",
       "      <td>[0.5011695093338349, 0.50375620157832, 0.5082117264029877, 0.5099061777432216, 0.5111555461598223]</td>\n",
       "      <td>[(673815503209316634, Lemon Fluff Jello, http://www.cookbooks.com/Recipe-Details.aspx?id=947069, [boiling water, cream cheese, lemon Jell-O, pecans, pineapple, sugar]), (6930348736077852695, Vanilla Ice Cream, http://www.cookbooks.com/Recipe-Details.aspx?id=91883, [eggs, milk, milk, milk, sugar]), (-3427706341014057740, No Bake Persimmon Pudding, http://www.cookbooks.com/Recipe-Details.aspx?id=387528, [graham cracker crumbs, marshmallows, peanuts, persimmon pulp, powdered sugar, whipped cream]), (3729704041729540460, Heath Bar Pie, http://www.cookbooks.com/Recipe-Details.aspx?id=976718, [chocolate curls, graham cracker pie crust]), (8706017513915014750, Indian Meat Loaf, http://www.cookbooks.com/Recipe-Details.aspx?id=778364, [corn meal, cream-style corn, egg, green pepper, ground beef, ground pork, onion, pepper, sage, salt, tomatoes])]</td>\n",
       "    </tr>\n",
       "    <tr>\n",
       "      <td>18</td>\n",
       "      <td>[(-419092492216335800, Quick Macaroons, http://www.cookbooks.com/Recipe-Details.aspx?id=306623, [all-purpose flour, coconut, cream of tartar, egg whites, lemon juice, sugar]), (6717102631624880744, Original Mayfair Dressing, http://www.cookbooks.com/Recipe-Details.aspx?id=857466, [Accent, anchovies, black pepper, eggs, garlic, lemon juice, mustard, oil, onion, stalks celery]), (-9058629457183933290, Vegetable-Burger Soup, http://www.cookbooks.com/Recipe-Details.aspx?id=822015, [frozen mixed vegetables, ground beef, onion soup, sugar, tomato sauce, tomatoes, water]), (-3921871239571114018, Dick'S Grilled Boneless Leg Of Lamb, http://www.cookbooks.com/Recipe-Details.aspx?id=334439, [fresh ginger, garlic, honey, lamb, onion, peanut, pepper, shoyu]), (566745543695458467, Layered Salad, http://www.cookbooks.com/Recipe-Details.aspx?id=314817, [Cheddar cheese, bacon, dressing, eggs, frozen peas, mayonnaise, shredded lettuce, shredded lettuce, sour cream, water chestnuts])]</td>\n",
       "      <td>[0.5004718077779934, 0.5006730312482796, 0.5007013756545885, 0.5010236166094441, 0.5015494158299932]</td>\n",
       "      <td>[(2667220836415796897, Beef Brisket, http://www.cookbooks.com/Recipe-Details.aspx?id=1007920, [beef brisket, catsup, cider vinegar, horseradish, mustard, onion, pepper, salt, water]), (-8810089315511597378, Brown Rice Pizza(Light)  , http://www.cookbooks.com/Recipe-Details.aspx?id=168268, [Mozzarella cheese, broccoli flowerets, brown rice, egg, mushrooms, onion, oregano, tomato sauce, zucchini]), (-1413936131405738684, Dry Meat Seasoning, http://www.cookbooks.com/Recipe-Details.aspx?id=138336, [Accent, black pepper, paprika, peel powder, salt, sugar]), (-3740394205139448372, Cheese Ball, http://www.cookbooks.com/Recipe-Details.aspx?id=515966, [Worcestershire sauce, beef, celery salt, cream cheese, garlic salt, mayonnaise, olives, onion salt, parsley flakes, pimento, sharp cheese]), (1796827391485446016, Sour Cream Pound Cake, http://www.cookbooks.com/Recipe-Details.aspx?id=436042, [Crisco, cake flour, eggs, margarine, sour cream, sugar, vanilla flavoring])]</td>\n",
       "    </tr>\n",
       "  </tbody>\n",
       "</table>"
      ],
      "text/plain": [
       "<IPython.core.display.HTML object>"
      ]
     },
     "metadata": {},
     "output_type": "display_data"
    }
   ],
   "source": [
    "# Example usage\n",
    "display_spark_dataframe(final_recommendations, 5)"
   ]
  },
  {
   "cell_type": "code",
   "execution_count": null,
   "metadata": {},
   "outputs": [],
   "source": []
  }
 ],
 "metadata": {
  "kernelspec": {
   "display_name": "bring_",
   "language": "python",
   "name": "python3"
  },
  "language_info": {
   "codemirror_mode": {
    "name": "ipython",
    "version": 3
   },
   "file_extension": ".py",
   "mimetype": "text/x-python",
   "name": "python",
   "nbconvert_exporter": "python",
   "pygments_lexer": "ipython3",
   "version": "3.10.9"
  }
 },
 "nbformat": 4,
 "nbformat_minor": 2
}
