{
 "cells": [
  {
   "cell_type": "markdown",
   "metadata": {},
   "source": [
    "%pip list"
   ]
  },
  {
   "cell_type": "code",
   "execution_count": 1,
   "metadata": {},
   "outputs": [
    {
     "data": {
      "text/plain": [
       "True"
      ]
     },
     "execution_count": 1,
     "metadata": {},
     "output_type": "execute_result"
    }
   ],
   "source": [
    "import requests\n",
    "from bs4 import BeautifulSoup\n",
    "\n",
    "import dotenv\n",
    "import os\n",
    "\n",
    "# Load envorinment variables from .env file located in ../\n",
    "dotenv.load_dotenv(\"../.env\")"
   ]
  },
  {
   "cell_type": "code",
   "execution_count": 2,
   "metadata": {},
   "outputs": [],
   "source": [
    "api_key = os.getenv(\"OPEN_AI_API_KEY\")"
   ]
  },
  {
   "cell_type": "code",
   "execution_count": 3,
   "metadata": {},
   "outputs": [],
   "source": [
    "import openai\n",
    "\n",
    "\n",
    "class RecipeExtractor:\n",
    "    def __init__(self, api_key):\n",
    "        self.api_key = api_key\n",
    "        openai.api_key = self.api_key\n",
    "\n",
    "    def extract_recipe_info(self, url):\n",
    "        # Step 1: Scrape the webpage\n",
    "        response = requests.get(url)\n",
    "        if response.status_code != 200:\n",
    "            raise Exception(f\"Failed to fetch the URL: {url}\")\n",
    "\n",
    "        soup = BeautifulSoup(response.content, \"html.parser\")\n",
    "\n",
    "        # Step 2: Extract raw content for the LLM to process\n",
    "        title = (\n",
    "            soup.find(\"h1\").get_text(strip=True)\n",
    "            if soup.find(\"h1\")\n",
    "            else \"No title found\"\n",
    "        )\n",
    "        raw_text = \" \".join([p.get_text(strip=True) for p in soup.find_all(\"p\")])\n",
    "\n",
    "        print(raw_text)\n",
    "        # Step 3: Use OpenAI for processing\n",
    "        # Generate a short summary of the recipe\n",
    "        summary_prompt = f\"Here is some text from a recipe webpage: \\n\\n{raw_text}\\n\\nPlease provide a short summary of this recipe.\"\n",
    "        summary_response = openai.chat.completions.create(\n",
    "            model=\"gpt-3.5-turbo\",\n",
    "            messages=[\n",
    "                {\"role\": \"system\", \"content\": \"You are a helpful assistant.\"},\n",
    "                {\"role\": \"user\", \"content\": summary_prompt},\n",
    "            ],\n",
    "            max_tokens=50,\n",
    "        )\n",
    "        # print(summary_response['choices'][0]['message'])\n",
    "        summary = summary_response.choices[0].message.content\n",
    "        # Extract the list of ingredients\n",
    "        ingredients_prompt = f\"Here is some text from a recipe webpage: \\n\\n{raw_text}\\n\\nPlease provide only the names of the ingredients used in this recipe separated by commas.\"\n",
    "        ingredients_response = openai.chat.completions.create(\n",
    "            model=\"gpt-3.5-turbo\",\n",
    "            messages=[\n",
    "                {\"role\": \"system\", \"content\": \"You are a helpful assistant.\"},\n",
    "                {\"role\": \"user\", \"content\": ingredients_prompt},\n",
    "            ],\n",
    "            max_tokens=100,\n",
    "        )\n",
    "        ingredients = ingredients_response.choices[0].message.content.split(\",\")\n",
    "        ingredients = [ingredient.strip() for ingredient in ingredients]\n",
    "        return {\"title\": title, \"summary\": summary, \"ingredients\": ingredients}"
   ]
  },
  {
   "cell_type": "code",
   "execution_count": 48,
   "metadata": {},
   "outputs": [
    {
     "name": "stdout",
     "output_type": "stream",
     "text": [
      "Mieux manger Les Jours Les Plus Food Petit-déj gourmand Actus Accueil>Recettes>Cinnamon rolls de Karine Dissoudre la levure dans le lait tiède. Dans le bol de votre robot - ou dans un saladier si vous le faites à la main - verser la levure et ajouter la farine, le sel, le sucre et l'oeuf ; pétrir pendant 10 minutes. Ajoutez le beurre en morceaux et pétrir à nouveau 10 minutes. Sorter la pâte du robot et la mettre à lever dans un saladier couvert d'un torchon pendant 1h30. Entre temps, la pâte doit avoir doublé de volume. Pendant ce temps, préparer le mélange à la cannelle en mélangeant dans un bol le beurre fondu, le sucre roux et la cannelle. La retirer du bol et l'étaler sur un plan de travail fariné en formant un rectangle. Étaler le mélange à la cannelle sur toute la surface du rectangle. Former un boudin avec la pâte en la roulant sur elle-même. Découper le boudin en tranches. Vous pouvez faire des cinnamons individuels en déposant les tranches dans des moules à muffins par exemple ou en faire une grande brioche en disposant les tranches côte à côte sans trop les coller (elles vont encore gonfler) dans un moule rond de 24 cm environ. Recouvrir la pâte d'un linge propre et la remettre à lever entre 45 minutes et 1 heure. Préchauffer le four à 180°C (thermostat 6). Enfourner les cinnamons rolls pendant 25 minutes. Laisser refroidir. Pendant ce temps, préparer le glaçage en mélangeant le sucre glace et le blanc d'oeuf. Quand les gâteaux ont bien refroidi, verser le glaçage en filets à l'aide d'une fourchette ou d'une cuillère. Incrrrrrrr >>> l'une des meilleures recettes de cinnamon rolls vrm Cette recette est excellente, je n’avais jamais mangé une aussi bonne brioche à la cannelle ! Lire tous les commentaires Plus de recettes Ces contenus devraient vous intéresser  Concocté avec 🧡 par Marmiton Tous droits réservés Marmiton.org - 1999-2024 Paramétrer les cookies●Recrutement●Mentions légales●Conditions Générales d'Utilisation●Conditions Générales d'Abonnement●Contact●FAQ●Politique de confidentialité●Foire aux questions - Vos choix concernant l'utilisation de cookies Pour des milliers de cocktails :1001cocktails.com\n",
      "Title: Cinnamon rolls de Karine\n",
      "Summary: This recipe is for making delicious cinnamon rolls. It involves dissolving yeast in warm milk, mixing it with flour, salt, sugar, and egg, then kneading the dough with butter. After letting the dough rise, a cinnamon mixture is spread on\n",
      "Ingredients: ['yeast', 'milk', 'all-purpose flour', 'salt', 'sugar', 'egg', 'butter', 'brown sugar', 'cinnamon', 'powdered sugar']\n"
     ]
    }
   ],
   "source": [
    "# Test with the provided URL\n",
    "url = \"https://www.marmiton.org/recettes/recette_cinnamon-rolls-de-karine_327467.aspx\"\n",
    "extractor = RecipeExtractor(api_key)\n",
    "recipe_info = extractor.extract_recipe_info(url)\n",
    "\n",
    "# Display the extracted information\n",
    "print(\"Title:\", recipe_info[\"title\"])\n",
    "print(\"Summary:\", recipe_info[\"summary\"])\n",
    "print(\"Ingredients:\", recipe_info[\"ingredients\"])"
   ]
  },
  {
   "cell_type": "code",
   "execution_count": 35,
   "metadata": {},
   "outputs": [],
   "source": [
    "raw_text = \"Mieux manger Les Jours Les Plus Food Petit-déj gourmand Actus Accueil>Recettes>Cinnamon rolls de Karine Dissoudre la levure dans le lait tiède. Dans le bol de votre robot - ou dans un saladier si vous le faites à la main - verser la levure et ajouter la farine, le sel, le sucre et l'oeuf ; pétrir pendant 10 minutes. Ajoutez le beurre en morceaux et pétrir à nouveau 10 minutes. Sorter la pâte du robot et la mettre à lever dans un saladier couvert d'un torchon pendant 1h30. Entre temps, la pâte doit avoir doublé de volume. Pendant ce temps, préparer le mélange à la cannelle en mélangeant dans un bol le beurre fondu, le sucre roux et la cannelle. La retirer du bol et l'étaler sur un plan de travail fariné en formant un rectangle. Étaler le mélange à la cannelle sur toute la surface du rectangle. Former un boudin avec la pâte en la roulant sur elle-même. Découper le boudin en tranches. Vous pouvez faire des cinnamons individuels en déposant les tranches dans des moules à muffins par exemple ou en faire une grande brioche en disposant les tranches côte à côte sans trop les coller (elles vont encore gonfler) dans un moule rond de 24 cm environ. Recouvrir la pâte d'un linge propre et la remettre à lever entre 45 minutes et 1 heure. Préchauffer le four à 180°C (thermostat 6). Enfourner les cinnamons rolls pendant 25 minutes. Laisser refroidir. Pendant ce temps, préparer le glaçage en mélangeant le sucre glace et le blanc d'oeuf. Quand les gâteaux ont bien refroidi, verser le glaçage en filets à l'aide d'une fourchette ou d'une cuillère. Incrrrrrrr >>> l'une des meilleures recettes de cinnamon rolls vrm Cette recette est excellente, je n’avais jamais mangé une aussi bonne brioche à la cannelle ! Lire tous les commentaires Plus de recettes Ces contenus devraient vous intéresser  Concocté avec 🧡 par Marmiton Tous droits réservés Marmiton.org - 1999-2024 Paramétrer les cookies●Recrutement●Mentions légales●Conditions Générales d'Utilisation●Conditions Générales d'Abonnement●Contact●FAQ●Politique de confidentialité●Foire aux questions - Vos choix concernant l'utilisation de cookies Pour des milliers de cocktails :1001cocktails.com\""
   ]
  },
  {
   "cell_type": "code",
   "execution_count": 36,
   "metadata": {},
   "outputs": [
    {
     "ename": "TypeError",
     "evalue": "'ChatCompletion' object is not subscriptable",
     "output_type": "error",
     "traceback": [
      "\u001b[0;31m---------------------------------------------------------------------------\u001b[0m",
      "\u001b[0;31mTypeError\u001b[0m                                 Traceback (most recent call last)",
      "Cell \u001b[0;32mIn[36], line 10\u001b[0m\n\u001b[1;32m      1\u001b[0m summary_prompt \u001b[38;5;241m=\u001b[39m \u001b[38;5;124mf\u001b[39m\u001b[38;5;124m\"\u001b[39m\u001b[38;5;124mHere is some text from a recipe webpage: \u001b[39m\u001b[38;5;130;01m\\n\u001b[39;00m\u001b[38;5;130;01m\\n\u001b[39;00m\u001b[38;5;132;01m{\u001b[39;00mraw_text\u001b[38;5;132;01m}\u001b[39;00m\u001b[38;5;130;01m\\n\u001b[39;00m\u001b[38;5;130;01m\\n\u001b[39;00m\u001b[38;5;124mPlease provide a short summary of this recipe.\u001b[39m\u001b[38;5;124m\"\u001b[39m\n\u001b[1;32m      2\u001b[0m summary_response \u001b[38;5;241m=\u001b[39m openai\u001b[38;5;241m.\u001b[39mchat\u001b[38;5;241m.\u001b[39mcompletions\u001b[38;5;241m.\u001b[39mcreate(\n\u001b[1;32m      3\u001b[0m     model\u001b[38;5;241m=\u001b[39m\u001b[38;5;124m\"\u001b[39m\u001b[38;5;124mgpt-3.5-turbo\u001b[39m\u001b[38;5;124m\"\u001b[39m,\n\u001b[1;32m      4\u001b[0m     messages\u001b[38;5;241m=\u001b[39m[\n\u001b[0;32m   (...)\u001b[0m\n\u001b[1;32m      8\u001b[0m     max_tokens\u001b[38;5;241m=\u001b[39m\u001b[38;5;241m50\u001b[39m\n\u001b[1;32m      9\u001b[0m )\n\u001b[0;32m---> 10\u001b[0m \u001b[38;5;28mprint\u001b[39m(\u001b[43msummary_response\u001b[49m\u001b[43m[\u001b[49m\u001b[38;5;124;43m'\u001b[39;49m\u001b[38;5;124;43mchoices\u001b[39;49m\u001b[38;5;124;43m'\u001b[39;49m\u001b[43m]\u001b[49m[\u001b[38;5;241m0\u001b[39m][\u001b[38;5;124m'\u001b[39m\u001b[38;5;124mmessage\u001b[39m\u001b[38;5;124m'\u001b[39m])\n",
      "\u001b[0;31mTypeError\u001b[0m: 'ChatCompletion' object is not subscriptable"
     ]
    }
   ],
   "source": [
    "summary_prompt = f\"Here is some text from a recipe webpage: \\n\\n{raw_text}\\n\\nPlease provide a short summary of this recipe.\"\n",
    "summary_response = openai.chat.completions.create(\n",
    "    model=\"gpt-3.5-turbo\",\n",
    "    messages=[\n",
    "        {\"role\": \"system\", \"content\": \"You are a helpful assistant.\"},\n",
    "        {\"role\": \"user\", \"content\": summary_prompt},\n",
    "    ],\n",
    "    max_tokens=50,\n",
    ")\n",
    "print(summary_response[\"choices\"][0][\"message\"])"
   ]
  },
  {
   "cell_type": "code",
   "execution_count": 45,
   "metadata": {},
   "outputs": [
    {
     "data": {
      "text/plain": [
       "'This recipe is for cinnamon rolls. It involves dissolving yeast in warm milk, mixing it with flour, sugar, salt, egg, and butter, letting the dough rise, preparing a cinnamon mixture, rolling out the dough with the cinnamon, cutting and'"
      ]
     },
     "execution_count": 45,
     "metadata": {},
     "output_type": "execute_result"
    }
   ],
   "source": [
    "summary_response.choices[0].message.content"
   ]
  },
  {
   "cell_type": "code",
   "execution_count": 54,
   "metadata": {},
   "outputs": [
    {
     "name": "stdout",
     "output_type": "stream",
     "text": [
      "Looking in indexes: https://pypi.org/simple, https://pypi.ngc.nvidia.com\n",
      "Requirement already satisfied: moto[firehose,s3,sqs] in /Users/maximebonnesoeur/.pyenv/versions/3.10.9/envs/bring_/lib/python3.10/site-packages (5.0.16)\n",
      "Requirement already satisfied: xmltodict in /Users/maximebonnesoeur/.pyenv/versions/3.10.9/envs/bring_/lib/python3.10/site-packages (from moto[firehose,s3,sqs]) (0.14.1)\n",
      "Requirement already satisfied: cryptography>=3.3.1 in /Users/maximebonnesoeur/.pyenv/versions/3.10.9/envs/bring_/lib/python3.10/site-packages (from moto[firehose,s3,sqs]) (43.0.1)\n",
      "Requirement already satisfied: boto3>=1.9.201 in /Users/maximebonnesoeur/.pyenv/versions/3.10.9/envs/bring_/lib/python3.10/site-packages (from moto[firehose,s3,sqs]) (1.35.39)\n",
      "Requirement already satisfied: werkzeug!=2.2.0,!=2.2.1,>=0.5 in /Users/maximebonnesoeur/.pyenv/versions/3.10.9/envs/bring_/lib/python3.10/site-packages (from moto[firehose,s3,sqs]) (3.0.4)\n",
      "Requirement already satisfied: botocore>=1.14.0 in /Users/maximebonnesoeur/.pyenv/versions/3.10.9/envs/bring_/lib/python3.10/site-packages (from moto[firehose,s3,sqs]) (1.35.39)\n",
      "Requirement already satisfied: python-dateutil<3.0.0,>=2.1 in /Users/maximebonnesoeur/.pyenv/versions/3.10.9/envs/bring_/lib/python3.10/site-packages (from moto[firehose,s3,sqs]) (2.9.0.post0)\n",
      "Requirement already satisfied: Jinja2>=2.10.1 in /Users/maximebonnesoeur/.pyenv/versions/3.10.9/envs/bring_/lib/python3.10/site-packages (from moto[firehose,s3,sqs]) (3.1.4)\n",
      "Requirement already satisfied: requests>=2.5 in /Users/maximebonnesoeur/.pyenv/versions/3.10.9/envs/bring_/lib/python3.10/site-packages (from moto[firehose,s3,sqs]) (2.32.3)\n",
      "Requirement already satisfied: responses>=0.15.0 in /Users/maximebonnesoeur/.pyenv/versions/3.10.9/envs/bring_/lib/python3.10/site-packages (from moto[firehose,s3,sqs]) (0.25.3)\n",
      "Collecting py-partiql-parser==0.5.6\n",
      "  Downloading py_partiql_parser-0.5.6-py2.py3-none-any.whl (23 kB)\n",
      "Requirement already satisfied: PyYAML>=5.1 in /Users/maximebonnesoeur/.pyenv/versions/3.10.9/envs/bring_/lib/python3.10/site-packages (from moto[firehose,s3,sqs]) (6.0.2)\n",
      "Requirement already satisfied: jmespath<2.0.0,>=0.7.1 in /Users/maximebonnesoeur/.pyenv/versions/3.10.9/envs/bring_/lib/python3.10/site-packages (from boto3>=1.9.201->moto[firehose,s3,sqs]) (1.0.1)\n",
      "Requirement already satisfied: s3transfer<0.11.0,>=0.10.0 in /Users/maximebonnesoeur/.pyenv/versions/3.10.9/envs/bring_/lib/python3.10/site-packages (from boto3>=1.9.201->moto[firehose,s3,sqs]) (0.10.3)\n",
      "Requirement already satisfied: urllib3!=2.2.0,<3,>=1.25.4 in /Users/maximebonnesoeur/.pyenv/versions/3.10.9/envs/bring_/lib/python3.10/site-packages (from botocore>=1.14.0->moto[firehose,s3,sqs]) (2.2.3)\n",
      "Requirement already satisfied: cffi>=1.12 in /Users/maximebonnesoeur/.pyenv/versions/3.10.9/envs/bring_/lib/python3.10/site-packages (from cryptography>=3.3.1->moto[firehose,s3,sqs]) (1.17.1)\n",
      "Requirement already satisfied: MarkupSafe>=2.0 in /Users/maximebonnesoeur/.pyenv/versions/3.10.9/envs/bring_/lib/python3.10/site-packages (from Jinja2>=2.10.1->moto[firehose,s3,sqs]) (3.0.1)\n",
      "Requirement already satisfied: six>=1.5 in /Users/maximebonnesoeur/.pyenv/versions/3.10.9/envs/bring_/lib/python3.10/site-packages (from python-dateutil<3.0.0,>=2.1->moto[firehose,s3,sqs]) (1.16.0)\n",
      "Requirement already satisfied: certifi>=2017.4.17 in /Users/maximebonnesoeur/.pyenv/versions/3.10.9/envs/bring_/lib/python3.10/site-packages (from requests>=2.5->moto[firehose,s3,sqs]) (2024.8.30)\n",
      "Requirement already satisfied: idna<4,>=2.5 in /Users/maximebonnesoeur/.pyenv/versions/3.10.9/envs/bring_/lib/python3.10/site-packages (from requests>=2.5->moto[firehose,s3,sqs]) (3.10)\n",
      "Requirement already satisfied: charset-normalizer<4,>=2 in /Users/maximebonnesoeur/.pyenv/versions/3.10.9/envs/bring_/lib/python3.10/site-packages (from requests>=2.5->moto[firehose,s3,sqs]) (3.4.0)\n",
      "Requirement already satisfied: pycparser in /Users/maximebonnesoeur/.pyenv/versions/3.10.9/envs/bring_/lib/python3.10/site-packages (from cffi>=1.12->cryptography>=3.3.1->moto[firehose,s3,sqs]) (2.22)\n",
      "Installing collected packages: py-partiql-parser\n",
      "Successfully installed py-partiql-parser-0.5.6\n",
      "\n",
      "\u001b[1m[\u001b[0m\u001b[34;49mnotice\u001b[0m\u001b[1;39;49m]\u001b[0m\u001b[39;49m A new release of pip available: \u001b[0m\u001b[31;49m22.3.1\u001b[0m\u001b[39;49m -> \u001b[0m\u001b[32;49m24.2\u001b[0m\n",
      "\u001b[1m[\u001b[0m\u001b[34;49mnotice\u001b[0m\u001b[1;39;49m]\u001b[0m\u001b[39;49m To update, run: \u001b[0m\u001b[32;49mpip install --upgrade pip\u001b[0m\n",
      "Note: you may need to restart the kernel to use updated packages.\n"
     ]
    }
   ],
   "source": [
    "pip install 'moto[s3,firehose,sqs]'"
   ]
  },
  {
   "cell_type": "code",
   "execution_count": 55,
   "metadata": {},
   "outputs": [],
   "source": [
    "import moto"
   ]
  },
  {
   "cell_type": "code",
   "execution_count": 57,
   "metadata": {},
   "outputs": [
    {
     "ename": "AttributeError",
     "evalue": "module 'moto' has no attribute 'mock_s3'",
     "output_type": "error",
     "traceback": [
      "\u001b[0;31m---------------------------------------------------------------------------\u001b[0m",
      "\u001b[0;31mAttributeError\u001b[0m                            Traceback (most recent call last)",
      "Cell \u001b[0;32mIn[57], line 1\u001b[0m\n\u001b[0;32m----> 1\u001b[0m \u001b[43mmoto\u001b[49m\u001b[38;5;241;43m.\u001b[39;49m\u001b[43mmock_s3\u001b[49m\n",
      "\u001b[0;31mAttributeError\u001b[0m: module 'moto' has no attribute 'mock_s3'"
     ]
    }
   ],
   "source": [
    "moto.mock_s3"
   ]
  },
  {
   "cell_type": "code",
   "execution_count": 58,
   "metadata": {},
   "outputs": [
    {
     "ename": "ImportError",
     "evalue": "cannot import name 'mock_s3' from 'moto' (/Users/maximebonnesoeur/.pyenv/versions/bring_/lib/python3.10/site-packages/moto/__init__.py)",
     "output_type": "error",
     "traceback": [
      "\u001b[0;31m---------------------------------------------------------------------------\u001b[0m",
      "\u001b[0;31mImportError\u001b[0m                               Traceback (most recent call last)",
      "Cell \u001b[0;32mIn[58], line 1\u001b[0m\n\u001b[0;32m----> 1\u001b[0m \u001b[38;5;28;01mfrom\u001b[39;00m \u001b[38;5;21;01mmoto\u001b[39;00m \u001b[38;5;28;01mimport\u001b[39;00m mock_s3, mock_sqs, mock_firehose\n",
      "\u001b[0;31mImportError\u001b[0m: cannot import name 'mock_s3' from 'moto' (/Users/maximebonnesoeur/.pyenv/versions/bring_/lib/python3.10/site-packages/moto/__init__.py)"
     ]
    }
   ],
   "source": [
    "from moto import mock_s3, mock_sqs, mock_firehose"
   ]
  },
  {
   "cell_type": "code",
   "execution_count": 63,
   "metadata": {},
   "outputs": [],
   "source": [
    "from moto import mock_aws\n",
    "import boto3\n",
    "import botocore.exceptions\n",
    "\n",
    "\n",
    "# Testing with mock AWS services using moto\n",
    "@mock_aws\n",
    "def test_sqs_firehose_integration():\n",
    "    # Create a mock S3 bucket\n",
    "    s3 = boto3.resource(\"s3\", region_name=\"us-east-1\")\n",
    "    bucket_name = \"mock-bucket\"\n",
    "    s3.create_bucket(Bucket=bucket_name)\n",
    "\n",
    "    # Create a mock SQS queue\n",
    "    sqs = boto3.client(\"sqs\", region_name=\"us-east-1\")\n",
    "    queue_name = \"mock-queue\"\n",
    "    sqs_queue = sqs.create_queue(QueueName=queue_name)\n",
    "    queue_url = sqs_queue[\"QueueUrl\"]\n",
    "\n",
    "    # Create a mock Firehose delivery stream\n",
    "    firehose = boto3.client(\"firehose\", region_name=\"us-east-1\")\n",
    "    firehose_stream_name = \"mock-firehose\"\n",
    "    firehose.create_delivery_stream(\n",
    "        DeliveryStreamName=firehose_stream_name,\n",
    "        S3DestinationConfiguration={\n",
    "            \"RoleARN\": \"arn:aws:iam::123456789012:role/mock-firehose-role\",\n",
    "            \"BucketARN\": f\"arn:aws:s3:::{bucket_name}\",\n",
    "            \"Prefix\": \"firehose/\",\n",
    "        },\n",
    "    )\n",
    "\n",
    "    # Send a sample URL message to the SQS queue\n",
    "    sample_url = (\n",
    "        \"https://www.marmiton.org/recettes/recette_cinnamon-rolls-de-karine_327467.aspx\"\n",
    "    )\n",
    "    sqs.send_message(QueueUrl=queue_url, MessageBody=json.dumps({\"url\": sample_url}))\n",
    "\n",
    "    # Receive message from SQS queue\n",
    "    response = sqs.receive_message(QueueUrl=queue_url, MaxNumberOfMessages=1)\n",
    "\n",
    "    messages = response.get(\"Messages\", [])\n",
    "    if messages:\n",
    "        for message in messages:\n",
    "            try:\n",
    "                # Extract URL from the message body\n",
    "                body = json.loads(message[\"Body\"])\n",
    "                url = body.get(\"url\")\n",
    "                if not url:\n",
    "                    raise ValueError(\"No URL found in the message body.\")\n",
    "\n",
    "                # Extract recipe information\n",
    "                extractor = RecipeExtractor(api_key=\"YOUR_OPENAI_API_KEY\")\n",
    "                recipe_info = extractor.extract_recipe_info(url)\n",
    "\n",
    "                # Send the results to Firehose\n",
    "                firehose.put_record(\n",
    "                    DeliveryStreamName=firehose_stream_name,\n",
    "                    Record={\"Data\": json.dumps(recipe_info) + \"\\n\"},\n",
    "                )\n",
    "\n",
    "                # Delete the message from the queue after successful processing\n",
    "                sqs.delete_message(\n",
    "                    QueueUrl=queue_url, ReceiptHandle=message[\"ReceiptHandle\"]\n",
    "                )\n",
    "\n",
    "            except Exception as e:\n",
    "                print(f\"Error processing message: {e}\")\n",
    "\n",
    "    # Validate that the data was sent to the mock S3 bucket\n",
    "    s3_client = boto3.client(\"s3\", region_name=\"us-east-1\")\n",
    "    response = s3_client.list_objects_v2(Bucket=bucket_name, Prefix=\"firehose/\")\n",
    "    for obj in response.get(\"Contents\", []):\n",
    "        print(f\"Found object in mock S3: {obj['Key']}\")"
   ]
  },
  {
   "cell_type": "code",
   "execution_count": 64,
   "metadata": {},
   "outputs": [
    {
     "ename": "RuntimeError",
     "evalue": "Credentials were refreshed, but the refreshed credentials are still expired.",
     "output_type": "error",
     "traceback": [
      "\u001b[0;31m---------------------------------------------------------------------------\u001b[0m",
      "\u001b[0;31mRuntimeError\u001b[0m                              Traceback (most recent call last)",
      "Cell \u001b[0;32mIn[64], line 1\u001b[0m\n\u001b[0;32m----> 1\u001b[0m \u001b[43mtest_sqs_firehose_integration\u001b[49m\u001b[43m(\u001b[49m\u001b[43m)\u001b[49m\n",
      "File \u001b[0;32m~/.pyenv/versions/bring_/lib/python3.10/site-packages/moto/core/models.py:122\u001b[0m, in \u001b[0;36mMockAWS._decorate_callable.<locals>.wrapper\u001b[0;34m(*args, **kwargs)\u001b[0m\n\u001b[1;32m    120\u001b[0m \u001b[38;5;28mself\u001b[39m\u001b[38;5;241m.\u001b[39mstart(reset\u001b[38;5;241m=\u001b[39mreset)\n\u001b[1;32m    121\u001b[0m \u001b[38;5;28;01mtry\u001b[39;00m:\n\u001b[0;32m--> 122\u001b[0m     result \u001b[38;5;241m=\u001b[39m \u001b[43mfunc\u001b[49m\u001b[43m(\u001b[49m\u001b[38;5;241;43m*\u001b[39;49m\u001b[43margs\u001b[49m\u001b[43m,\u001b[49m\u001b[43m \u001b[49m\u001b[38;5;241;43m*\u001b[39;49m\u001b[38;5;241;43m*\u001b[39;49m\u001b[43mkwargs\u001b[49m\u001b[43m)\u001b[49m\n\u001b[1;32m    123\u001b[0m \u001b[38;5;28;01mfinally\u001b[39;00m:\n\u001b[1;32m    124\u001b[0m     \u001b[38;5;28mself\u001b[39m\u001b[38;5;241m.\u001b[39mstop(remove_data\u001b[38;5;241m=\u001b[39mremove_data)\n",
      "Cell \u001b[0;32mIn[63], line 11\u001b[0m, in \u001b[0;36mtest_sqs_firehose_integration\u001b[0;34m()\u001b[0m\n\u001b[1;32m      9\u001b[0m s3 \u001b[38;5;241m=\u001b[39m boto3\u001b[38;5;241m.\u001b[39mresource(\u001b[38;5;124m'\u001b[39m\u001b[38;5;124ms3\u001b[39m\u001b[38;5;124m'\u001b[39m, region_name\u001b[38;5;241m=\u001b[39m\u001b[38;5;124m'\u001b[39m\u001b[38;5;124mus-east-1\u001b[39m\u001b[38;5;124m'\u001b[39m)\n\u001b[1;32m     10\u001b[0m bucket_name \u001b[38;5;241m=\u001b[39m \u001b[38;5;124m'\u001b[39m\u001b[38;5;124mmock-bucket\u001b[39m\u001b[38;5;124m'\u001b[39m\n\u001b[0;32m---> 11\u001b[0m \u001b[43ms3\u001b[49m\u001b[38;5;241;43m.\u001b[39;49m\u001b[43mcreate_bucket\u001b[49m\u001b[43m(\u001b[49m\u001b[43mBucket\u001b[49m\u001b[38;5;241;43m=\u001b[39;49m\u001b[43mbucket_name\u001b[49m\u001b[43m)\u001b[49m\n\u001b[1;32m     13\u001b[0m \u001b[38;5;66;03m# Create a mock SQS queue\u001b[39;00m\n\u001b[1;32m     14\u001b[0m sqs \u001b[38;5;241m=\u001b[39m boto3\u001b[38;5;241m.\u001b[39mclient(\u001b[38;5;124m'\u001b[39m\u001b[38;5;124msqs\u001b[39m\u001b[38;5;124m'\u001b[39m, region_name\u001b[38;5;241m=\u001b[39m\u001b[38;5;124m'\u001b[39m\u001b[38;5;124mus-east-1\u001b[39m\u001b[38;5;124m'\u001b[39m)\n",
      "File \u001b[0;32m~/.pyenv/versions/bring_/lib/python3.10/site-packages/boto3/resources/factory.py:581\u001b[0m, in \u001b[0;36mResourceFactory._create_action.<locals>.do_action\u001b[0;34m(self, *args, **kwargs)\u001b[0m\n\u001b[1;32m    580\u001b[0m \u001b[38;5;28;01mdef\u001b[39;00m \u001b[38;5;21mdo_action\u001b[39m(\u001b[38;5;28mself\u001b[39m, \u001b[38;5;241m*\u001b[39margs, \u001b[38;5;241m*\u001b[39m\u001b[38;5;241m*\u001b[39mkwargs):\n\u001b[0;32m--> 581\u001b[0m     response \u001b[38;5;241m=\u001b[39m \u001b[43maction\u001b[49m\u001b[43m(\u001b[49m\u001b[38;5;28;43mself\u001b[39;49m\u001b[43m,\u001b[49m\u001b[43m \u001b[49m\u001b[38;5;241;43m*\u001b[39;49m\u001b[43margs\u001b[49m\u001b[43m,\u001b[49m\u001b[43m \u001b[49m\u001b[38;5;241;43m*\u001b[39;49m\u001b[38;5;241;43m*\u001b[39;49m\u001b[43mkwargs\u001b[49m\u001b[43m)\u001b[49m\n\u001b[1;32m    583\u001b[0m     \u001b[38;5;28;01mif\u001b[39;00m \u001b[38;5;28mhasattr\u001b[39m(\u001b[38;5;28mself\u001b[39m, \u001b[38;5;124m'\u001b[39m\u001b[38;5;124mload\u001b[39m\u001b[38;5;124m'\u001b[39m):\n\u001b[1;32m    584\u001b[0m         \u001b[38;5;66;03m# Clear cached data. It will be reloaded the next\u001b[39;00m\n\u001b[1;32m    585\u001b[0m         \u001b[38;5;66;03m# time that an attribute is accessed.\u001b[39;00m\n\u001b[1;32m    586\u001b[0m         \u001b[38;5;66;03m# TODO: Make this configurable in the future?\u001b[39;00m\n\u001b[1;32m    587\u001b[0m         \u001b[38;5;28mself\u001b[39m\u001b[38;5;241m.\u001b[39mmeta\u001b[38;5;241m.\u001b[39mdata \u001b[38;5;241m=\u001b[39m \u001b[38;5;28;01mNone\u001b[39;00m\n",
      "File \u001b[0;32m~/.pyenv/versions/bring_/lib/python3.10/site-packages/boto3/resources/action.py:88\u001b[0m, in \u001b[0;36mServiceAction.__call__\u001b[0;34m(self, parent, *args, **kwargs)\u001b[0m\n\u001b[1;32m     79\u001b[0m params\u001b[38;5;241m.\u001b[39mupdate(kwargs)\n\u001b[1;32m     81\u001b[0m logger\u001b[38;5;241m.\u001b[39mdebug(\n\u001b[1;32m     82\u001b[0m     \u001b[38;5;124m'\u001b[39m\u001b[38;5;124mCalling \u001b[39m\u001b[38;5;132;01m%s\u001b[39;00m\u001b[38;5;124m:\u001b[39m\u001b[38;5;132;01m%s\u001b[39;00m\u001b[38;5;124m with \u001b[39m\u001b[38;5;132;01m%r\u001b[39;00m\u001b[38;5;124m'\u001b[39m,\n\u001b[1;32m     83\u001b[0m     parent\u001b[38;5;241m.\u001b[39mmeta\u001b[38;5;241m.\u001b[39mservice_name,\n\u001b[1;32m     84\u001b[0m     operation_name,\n\u001b[1;32m     85\u001b[0m     params,\n\u001b[1;32m     86\u001b[0m )\n\u001b[0;32m---> 88\u001b[0m response \u001b[38;5;241m=\u001b[39m \u001b[38;5;28;43mgetattr\u001b[39;49m\u001b[43m(\u001b[49m\u001b[43mparent\u001b[49m\u001b[38;5;241;43m.\u001b[39;49m\u001b[43mmeta\u001b[49m\u001b[38;5;241;43m.\u001b[39;49m\u001b[43mclient\u001b[49m\u001b[43m,\u001b[49m\u001b[43m \u001b[49m\u001b[43moperation_name\u001b[49m\u001b[43m)\u001b[49m\u001b[43m(\u001b[49m\u001b[38;5;241;43m*\u001b[39;49m\u001b[43margs\u001b[49m\u001b[43m,\u001b[49m\u001b[43m \u001b[49m\u001b[38;5;241;43m*\u001b[39;49m\u001b[38;5;241;43m*\u001b[39;49m\u001b[43mparams\u001b[49m\u001b[43m)\u001b[49m\n\u001b[1;32m     90\u001b[0m logger\u001b[38;5;241m.\u001b[39mdebug(\u001b[38;5;124m'\u001b[39m\u001b[38;5;124mResponse: \u001b[39m\u001b[38;5;132;01m%r\u001b[39;00m\u001b[38;5;124m'\u001b[39m, response)\n\u001b[1;32m     92\u001b[0m \u001b[38;5;28;01mreturn\u001b[39;00m \u001b[38;5;28mself\u001b[39m\u001b[38;5;241m.\u001b[39m_response_handler(parent, params, response)\n",
      "File \u001b[0;32m~/.pyenv/versions/bring_/lib/python3.10/site-packages/botocore/client.py:569\u001b[0m, in \u001b[0;36mClientCreator._create_api_method.<locals>._api_call\u001b[0;34m(self, *args, **kwargs)\u001b[0m\n\u001b[1;32m    565\u001b[0m     \u001b[38;5;28;01mraise\u001b[39;00m \u001b[38;5;167;01mTypeError\u001b[39;00m(\n\u001b[1;32m    566\u001b[0m         \u001b[38;5;124mf\u001b[39m\u001b[38;5;124m\"\u001b[39m\u001b[38;5;132;01m{\u001b[39;00mpy_operation_name\u001b[38;5;132;01m}\u001b[39;00m\u001b[38;5;124m() only accepts keyword arguments.\u001b[39m\u001b[38;5;124m\"\u001b[39m\n\u001b[1;32m    567\u001b[0m     )\n\u001b[1;32m    568\u001b[0m \u001b[38;5;66;03m# The \"self\" in this scope is referring to the BaseClient.\u001b[39;00m\n\u001b[0;32m--> 569\u001b[0m \u001b[38;5;28;01mreturn\u001b[39;00m \u001b[38;5;28;43mself\u001b[39;49m\u001b[38;5;241;43m.\u001b[39;49m\u001b[43m_make_api_call\u001b[49m\u001b[43m(\u001b[49m\u001b[43moperation_name\u001b[49m\u001b[43m,\u001b[49m\u001b[43m \u001b[49m\u001b[43mkwargs\u001b[49m\u001b[43m)\u001b[49m\n",
      "File \u001b[0;32m~/.pyenv/versions/bring_/lib/python3.10/site-packages/botocore/client.py:1005\u001b[0m, in \u001b[0;36mBaseClient._make_api_call\u001b[0;34m(self, operation_name, api_params)\u001b[0m\n\u001b[1;32m   1001\u001b[0m     maybe_compress_request(\n\u001b[1;32m   1002\u001b[0m         \u001b[38;5;28mself\u001b[39m\u001b[38;5;241m.\u001b[39mmeta\u001b[38;5;241m.\u001b[39mconfig, request_dict, operation_model\n\u001b[1;32m   1003\u001b[0m     )\n\u001b[1;32m   1004\u001b[0m     apply_request_checksum(request_dict)\n\u001b[0;32m-> 1005\u001b[0m     http, parsed_response \u001b[38;5;241m=\u001b[39m \u001b[38;5;28;43mself\u001b[39;49m\u001b[38;5;241;43m.\u001b[39;49m\u001b[43m_make_request\u001b[49m\u001b[43m(\u001b[49m\n\u001b[1;32m   1006\u001b[0m \u001b[43m        \u001b[49m\u001b[43moperation_model\u001b[49m\u001b[43m,\u001b[49m\u001b[43m \u001b[49m\u001b[43mrequest_dict\u001b[49m\u001b[43m,\u001b[49m\u001b[43m \u001b[49m\u001b[43mrequest_context\u001b[49m\n\u001b[1;32m   1007\u001b[0m \u001b[43m    \u001b[49m\u001b[43m)\u001b[49m\n\u001b[1;32m   1009\u001b[0m \u001b[38;5;28mself\u001b[39m\u001b[38;5;241m.\u001b[39mmeta\u001b[38;5;241m.\u001b[39mevents\u001b[38;5;241m.\u001b[39memit(\n\u001b[1;32m   1010\u001b[0m     \u001b[38;5;124mf\u001b[39m\u001b[38;5;124m'\u001b[39m\u001b[38;5;124mafter-call.\u001b[39m\u001b[38;5;132;01m{\u001b[39;00mservice_id\u001b[38;5;132;01m}\u001b[39;00m\u001b[38;5;124m.\u001b[39m\u001b[38;5;132;01m{\u001b[39;00moperation_name\u001b[38;5;132;01m}\u001b[39;00m\u001b[38;5;124m'\u001b[39m,\n\u001b[1;32m   1011\u001b[0m     http_response\u001b[38;5;241m=\u001b[39mhttp,\n\u001b[0;32m   (...)\u001b[0m\n\u001b[1;32m   1014\u001b[0m     context\u001b[38;5;241m=\u001b[39mrequest_context,\n\u001b[1;32m   1015\u001b[0m )\n\u001b[1;32m   1017\u001b[0m \u001b[38;5;28;01mif\u001b[39;00m http\u001b[38;5;241m.\u001b[39mstatus_code \u001b[38;5;241m>\u001b[39m\u001b[38;5;241m=\u001b[39m \u001b[38;5;241m300\u001b[39m:\n",
      "File \u001b[0;32m~/.pyenv/versions/bring_/lib/python3.10/site-packages/botocore/client.py:1029\u001b[0m, in \u001b[0;36mBaseClient._make_request\u001b[0;34m(self, operation_model, request_dict, request_context)\u001b[0m\n\u001b[1;32m   1027\u001b[0m \u001b[38;5;28;01mdef\u001b[39;00m \u001b[38;5;21m_make_request\u001b[39m(\u001b[38;5;28mself\u001b[39m, operation_model, request_dict, request_context):\n\u001b[1;32m   1028\u001b[0m     \u001b[38;5;28;01mtry\u001b[39;00m:\n\u001b[0;32m-> 1029\u001b[0m         \u001b[38;5;28;01mreturn\u001b[39;00m \u001b[38;5;28;43mself\u001b[39;49m\u001b[38;5;241;43m.\u001b[39;49m\u001b[43m_endpoint\u001b[49m\u001b[38;5;241;43m.\u001b[39;49m\u001b[43mmake_request\u001b[49m\u001b[43m(\u001b[49m\u001b[43moperation_model\u001b[49m\u001b[43m,\u001b[49m\u001b[43m \u001b[49m\u001b[43mrequest_dict\u001b[49m\u001b[43m)\u001b[49m\n\u001b[1;32m   1030\u001b[0m     \u001b[38;5;28;01mexcept\u001b[39;00m \u001b[38;5;167;01mException\u001b[39;00m \u001b[38;5;28;01mas\u001b[39;00m e:\n\u001b[1;32m   1031\u001b[0m         \u001b[38;5;28mself\u001b[39m\u001b[38;5;241m.\u001b[39mmeta\u001b[38;5;241m.\u001b[39mevents\u001b[38;5;241m.\u001b[39memit(\n\u001b[1;32m   1032\u001b[0m             \u001b[38;5;124mf\u001b[39m\u001b[38;5;124m'\u001b[39m\u001b[38;5;124mafter-call-error.\u001b[39m\u001b[38;5;132;01m{\u001b[39;00m\u001b[38;5;28mself\u001b[39m\u001b[38;5;241m.\u001b[39m_service_model\u001b[38;5;241m.\u001b[39mservice_id\u001b[38;5;241m.\u001b[39mhyphenize()\u001b[38;5;132;01m}\u001b[39;00m\u001b[38;5;124m.\u001b[39m\u001b[38;5;132;01m{\u001b[39;00moperation_model\u001b[38;5;241m.\u001b[39mname\u001b[38;5;132;01m}\u001b[39;00m\u001b[38;5;124m'\u001b[39m,\n\u001b[1;32m   1033\u001b[0m             exception\u001b[38;5;241m=\u001b[39me,\n\u001b[1;32m   1034\u001b[0m             context\u001b[38;5;241m=\u001b[39mrequest_context,\n\u001b[1;32m   1035\u001b[0m         )\n",
      "File \u001b[0;32m~/.pyenv/versions/bring_/lib/python3.10/site-packages/botocore/endpoint.py:119\u001b[0m, in \u001b[0;36mEndpoint.make_request\u001b[0;34m(self, operation_model, request_dict)\u001b[0m\n\u001b[1;32m    113\u001b[0m \u001b[38;5;28;01mdef\u001b[39;00m \u001b[38;5;21mmake_request\u001b[39m(\u001b[38;5;28mself\u001b[39m, operation_model, request_dict):\n\u001b[1;32m    114\u001b[0m     logger\u001b[38;5;241m.\u001b[39mdebug(\n\u001b[1;32m    115\u001b[0m         \u001b[38;5;124m\"\u001b[39m\u001b[38;5;124mMaking request for \u001b[39m\u001b[38;5;132;01m%s\u001b[39;00m\u001b[38;5;124m with params: \u001b[39m\u001b[38;5;132;01m%s\u001b[39;00m\u001b[38;5;124m\"\u001b[39m,\n\u001b[1;32m    116\u001b[0m         operation_model,\n\u001b[1;32m    117\u001b[0m         request_dict,\n\u001b[1;32m    118\u001b[0m     )\n\u001b[0;32m--> 119\u001b[0m     \u001b[38;5;28;01mreturn\u001b[39;00m \u001b[38;5;28;43mself\u001b[39;49m\u001b[38;5;241;43m.\u001b[39;49m\u001b[43m_send_request\u001b[49m\u001b[43m(\u001b[49m\u001b[43mrequest_dict\u001b[49m\u001b[43m,\u001b[49m\u001b[43m \u001b[49m\u001b[43moperation_model\u001b[49m\u001b[43m)\u001b[49m\n",
      "File \u001b[0;32m~/.pyenv/versions/bring_/lib/python3.10/site-packages/botocore/endpoint.py:196\u001b[0m, in \u001b[0;36mEndpoint._send_request\u001b[0;34m(self, request_dict, operation_model)\u001b[0m\n\u001b[1;32m    194\u001b[0m context \u001b[38;5;241m=\u001b[39m request_dict[\u001b[38;5;124m'\u001b[39m\u001b[38;5;124mcontext\u001b[39m\u001b[38;5;124m'\u001b[39m]\n\u001b[1;32m    195\u001b[0m \u001b[38;5;28mself\u001b[39m\u001b[38;5;241m.\u001b[39m_update_retries_context(context, attempts)\n\u001b[0;32m--> 196\u001b[0m request \u001b[38;5;241m=\u001b[39m \u001b[38;5;28;43mself\u001b[39;49m\u001b[38;5;241;43m.\u001b[39;49m\u001b[43mcreate_request\u001b[49m\u001b[43m(\u001b[49m\u001b[43mrequest_dict\u001b[49m\u001b[43m,\u001b[49m\u001b[43m \u001b[49m\u001b[43moperation_model\u001b[49m\u001b[43m)\u001b[49m\n\u001b[1;32m    197\u001b[0m success_response, exception \u001b[38;5;241m=\u001b[39m \u001b[38;5;28mself\u001b[39m\u001b[38;5;241m.\u001b[39m_get_response(\n\u001b[1;32m    198\u001b[0m     request, operation_model, context\n\u001b[1;32m    199\u001b[0m )\n\u001b[1;32m    200\u001b[0m \u001b[38;5;28;01mwhile\u001b[39;00m \u001b[38;5;28mself\u001b[39m\u001b[38;5;241m.\u001b[39m_needs_retry(\n\u001b[1;32m    201\u001b[0m     attempts,\n\u001b[1;32m    202\u001b[0m     operation_model,\n\u001b[0;32m   (...)\u001b[0m\n\u001b[1;32m    205\u001b[0m     exception,\n\u001b[1;32m    206\u001b[0m ):\n",
      "File \u001b[0;32m~/.pyenv/versions/bring_/lib/python3.10/site-packages/botocore/endpoint.py:132\u001b[0m, in \u001b[0;36mEndpoint.create_request\u001b[0;34m(self, params, operation_model)\u001b[0m\n\u001b[1;32m    130\u001b[0m     service_id \u001b[38;5;241m=\u001b[39m operation_model\u001b[38;5;241m.\u001b[39mservice_model\u001b[38;5;241m.\u001b[39mservice_id\u001b[38;5;241m.\u001b[39mhyphenize()\n\u001b[1;32m    131\u001b[0m     event_name \u001b[38;5;241m=\u001b[39m \u001b[38;5;124mf\u001b[39m\u001b[38;5;124m'\u001b[39m\u001b[38;5;124mrequest-created.\u001b[39m\u001b[38;5;132;01m{\u001b[39;00mservice_id\u001b[38;5;132;01m}\u001b[39;00m\u001b[38;5;124m.\u001b[39m\u001b[38;5;132;01m{\u001b[39;00moperation_model\u001b[38;5;241m.\u001b[39mname\u001b[38;5;132;01m}\u001b[39;00m\u001b[38;5;124m'\u001b[39m\n\u001b[0;32m--> 132\u001b[0m     \u001b[38;5;28;43mself\u001b[39;49m\u001b[38;5;241;43m.\u001b[39;49m\u001b[43m_event_emitter\u001b[49m\u001b[38;5;241;43m.\u001b[39;49m\u001b[43memit\u001b[49m\u001b[43m(\u001b[49m\n\u001b[1;32m    133\u001b[0m \u001b[43m        \u001b[49m\u001b[43mevent_name\u001b[49m\u001b[43m,\u001b[49m\n\u001b[1;32m    134\u001b[0m \u001b[43m        \u001b[49m\u001b[43mrequest\u001b[49m\u001b[38;5;241;43m=\u001b[39;49m\u001b[43mrequest\u001b[49m\u001b[43m,\u001b[49m\n\u001b[1;32m    135\u001b[0m \u001b[43m        \u001b[49m\u001b[43moperation_name\u001b[49m\u001b[38;5;241;43m=\u001b[39;49m\u001b[43moperation_model\u001b[49m\u001b[38;5;241;43m.\u001b[39;49m\u001b[43mname\u001b[49m\u001b[43m,\u001b[49m\n\u001b[1;32m    136\u001b[0m \u001b[43m    \u001b[49m\u001b[43m)\u001b[49m\n\u001b[1;32m    137\u001b[0m prepared_request \u001b[38;5;241m=\u001b[39m \u001b[38;5;28mself\u001b[39m\u001b[38;5;241m.\u001b[39mprepare_request(request)\n\u001b[1;32m    138\u001b[0m \u001b[38;5;28;01mreturn\u001b[39;00m prepared_request\n",
      "File \u001b[0;32m~/.pyenv/versions/bring_/lib/python3.10/site-packages/botocore/hooks.py:412\u001b[0m, in \u001b[0;36mEventAliaser.emit\u001b[0;34m(self, event_name, **kwargs)\u001b[0m\n\u001b[1;32m    410\u001b[0m \u001b[38;5;28;01mdef\u001b[39;00m \u001b[38;5;21memit\u001b[39m(\u001b[38;5;28mself\u001b[39m, event_name, \u001b[38;5;241m*\u001b[39m\u001b[38;5;241m*\u001b[39mkwargs):\n\u001b[1;32m    411\u001b[0m     aliased_event_name \u001b[38;5;241m=\u001b[39m \u001b[38;5;28mself\u001b[39m\u001b[38;5;241m.\u001b[39m_alias_event_name(event_name)\n\u001b[0;32m--> 412\u001b[0m     \u001b[38;5;28;01mreturn\u001b[39;00m \u001b[38;5;28;43mself\u001b[39;49m\u001b[38;5;241;43m.\u001b[39;49m\u001b[43m_emitter\u001b[49m\u001b[38;5;241;43m.\u001b[39;49m\u001b[43memit\u001b[49m\u001b[43m(\u001b[49m\u001b[43maliased_event_name\u001b[49m\u001b[43m,\u001b[49m\u001b[43m \u001b[49m\u001b[38;5;241;43m*\u001b[39;49m\u001b[38;5;241;43m*\u001b[39;49m\u001b[43mkwargs\u001b[49m\u001b[43m)\u001b[49m\n",
      "File \u001b[0;32m~/.pyenv/versions/bring_/lib/python3.10/site-packages/botocore/hooks.py:256\u001b[0m, in \u001b[0;36mHierarchicalEmitter.emit\u001b[0;34m(self, event_name, **kwargs)\u001b[0m\n\u001b[1;32m    245\u001b[0m \u001b[38;5;28;01mdef\u001b[39;00m \u001b[38;5;21memit\u001b[39m(\u001b[38;5;28mself\u001b[39m, event_name, \u001b[38;5;241m*\u001b[39m\u001b[38;5;241m*\u001b[39mkwargs):\n\u001b[1;32m    246\u001b[0m \u001b[38;5;250m    \u001b[39m\u001b[38;5;124;03m\"\"\"\u001b[39;00m\n\u001b[1;32m    247\u001b[0m \u001b[38;5;124;03m    Emit an event by name with arguments passed as keyword args.\u001b[39;00m\n\u001b[1;32m    248\u001b[0m \n\u001b[0;32m   (...)\u001b[0m\n\u001b[1;32m    254\u001b[0m \u001b[38;5;124;03m             handlers.\u001b[39;00m\n\u001b[1;32m    255\u001b[0m \u001b[38;5;124;03m    \"\"\"\u001b[39;00m\n\u001b[0;32m--> 256\u001b[0m     \u001b[38;5;28;01mreturn\u001b[39;00m \u001b[38;5;28;43mself\u001b[39;49m\u001b[38;5;241;43m.\u001b[39;49m\u001b[43m_emit\u001b[49m\u001b[43m(\u001b[49m\u001b[43mevent_name\u001b[49m\u001b[43m,\u001b[49m\u001b[43m \u001b[49m\u001b[43mkwargs\u001b[49m\u001b[43m)\u001b[49m\n",
      "File \u001b[0;32m~/.pyenv/versions/bring_/lib/python3.10/site-packages/botocore/hooks.py:239\u001b[0m, in \u001b[0;36mHierarchicalEmitter._emit\u001b[0;34m(self, event_name, kwargs, stop_on_response)\u001b[0m\n\u001b[1;32m    237\u001b[0m \u001b[38;5;28;01mfor\u001b[39;00m handler \u001b[38;5;129;01min\u001b[39;00m handlers_to_call:\n\u001b[1;32m    238\u001b[0m     logger\u001b[38;5;241m.\u001b[39mdebug(\u001b[38;5;124m'\u001b[39m\u001b[38;5;124mEvent \u001b[39m\u001b[38;5;132;01m%s\u001b[39;00m\u001b[38;5;124m: calling handler \u001b[39m\u001b[38;5;132;01m%s\u001b[39;00m\u001b[38;5;124m'\u001b[39m, event_name, handler)\n\u001b[0;32m--> 239\u001b[0m     response \u001b[38;5;241m=\u001b[39m \u001b[43mhandler\u001b[49m\u001b[43m(\u001b[49m\u001b[38;5;241;43m*\u001b[39;49m\u001b[38;5;241;43m*\u001b[39;49m\u001b[43mkwargs\u001b[49m\u001b[43m)\u001b[49m\n\u001b[1;32m    240\u001b[0m     responses\u001b[38;5;241m.\u001b[39mappend((handler, response))\n\u001b[1;32m    241\u001b[0m     \u001b[38;5;28;01mif\u001b[39;00m stop_on_response \u001b[38;5;129;01mand\u001b[39;00m response \u001b[38;5;129;01mis\u001b[39;00m \u001b[38;5;129;01mnot\u001b[39;00m \u001b[38;5;28;01mNone\u001b[39;00m:\n",
      "File \u001b[0;32m~/.pyenv/versions/bring_/lib/python3.10/site-packages/botocore/signers.py:105\u001b[0m, in \u001b[0;36mRequestSigner.handler\u001b[0;34m(self, operation_name, request, **kwargs)\u001b[0m\n\u001b[1;32m    100\u001b[0m \u001b[38;5;28;01mdef\u001b[39;00m \u001b[38;5;21mhandler\u001b[39m(\u001b[38;5;28mself\u001b[39m, operation_name\u001b[38;5;241m=\u001b[39m\u001b[38;5;28;01mNone\u001b[39;00m, request\u001b[38;5;241m=\u001b[39m\u001b[38;5;28;01mNone\u001b[39;00m, \u001b[38;5;241m*\u001b[39m\u001b[38;5;241m*\u001b[39mkwargs):\n\u001b[1;32m    101\u001b[0m     \u001b[38;5;66;03m# This is typically hooked up to the \"request-created\" event\u001b[39;00m\n\u001b[1;32m    102\u001b[0m     \u001b[38;5;66;03m# from a client's event emitter.  When a new request is created\u001b[39;00m\n\u001b[1;32m    103\u001b[0m     \u001b[38;5;66;03m# this method is invoked to sign the request.\u001b[39;00m\n\u001b[1;32m    104\u001b[0m     \u001b[38;5;66;03m# Don't call this method directly.\u001b[39;00m\n\u001b[0;32m--> 105\u001b[0m     \u001b[38;5;28;01mreturn\u001b[39;00m \u001b[38;5;28;43mself\u001b[39;49m\u001b[38;5;241;43m.\u001b[39;49m\u001b[43msign\u001b[49m\u001b[43m(\u001b[49m\u001b[43moperation_name\u001b[49m\u001b[43m,\u001b[49m\u001b[43m \u001b[49m\u001b[43mrequest\u001b[49m\u001b[43m)\u001b[49m\n",
      "File \u001b[0;32m~/.pyenv/versions/bring_/lib/python3.10/site-packages/botocore/signers.py:188\u001b[0m, in \u001b[0;36mRequestSigner.sign\u001b[0;34m(self, operation_name, request, region_name, signing_type, expires_in, signing_name)\u001b[0m\n\u001b[1;32m    182\u001b[0m     \u001b[38;5;28mself\u001b[39m\u001b[38;5;241m.\u001b[39m_resolve_identity_cache(\n\u001b[1;32m    183\u001b[0m         kwargs,\n\u001b[1;32m    184\u001b[0m         signing_context[\u001b[38;5;124m'\u001b[39m\u001b[38;5;124midentity_cache\u001b[39m\u001b[38;5;124m'\u001b[39m],\n\u001b[1;32m    185\u001b[0m         signing_context[\u001b[38;5;124m'\u001b[39m\u001b[38;5;124mcache_key\u001b[39m\u001b[38;5;124m'\u001b[39m],\n\u001b[1;32m    186\u001b[0m     )\n\u001b[1;32m    187\u001b[0m \u001b[38;5;28;01mtry\u001b[39;00m:\n\u001b[0;32m--> 188\u001b[0m     auth \u001b[38;5;241m=\u001b[39m \u001b[38;5;28;43mself\u001b[39;49m\u001b[38;5;241;43m.\u001b[39;49m\u001b[43mget_auth_instance\u001b[49m\u001b[43m(\u001b[49m\u001b[38;5;241;43m*\u001b[39;49m\u001b[38;5;241;43m*\u001b[39;49m\u001b[43mkwargs\u001b[49m\u001b[43m)\u001b[49m\n\u001b[1;32m    189\u001b[0m \u001b[38;5;28;01mexcept\u001b[39;00m UnknownSignatureVersionError \u001b[38;5;28;01mas\u001b[39;00m e:\n\u001b[1;32m    190\u001b[0m     \u001b[38;5;28;01mif\u001b[39;00m signing_type \u001b[38;5;241m!=\u001b[39m \u001b[38;5;124m'\u001b[39m\u001b[38;5;124mstandard\u001b[39m\u001b[38;5;124m'\u001b[39m:\n",
      "File \u001b[0;32m~/.pyenv/versions/bring_/lib/python3.10/site-packages/botocore/signers.py:306\u001b[0m, in \u001b[0;36mRequestSigner.get_auth_instance\u001b[0;34m(self, signing_name, region_name, signature_version, request_credentials, **kwargs)\u001b[0m\n\u001b[1;32m    304\u001b[0m frozen_credentials \u001b[38;5;241m=\u001b[39m \u001b[38;5;28;01mNone\u001b[39;00m\n\u001b[1;32m    305\u001b[0m \u001b[38;5;28;01mif\u001b[39;00m credentials \u001b[38;5;129;01mis\u001b[39;00m \u001b[38;5;129;01mnot\u001b[39;00m \u001b[38;5;28;01mNone\u001b[39;00m:\n\u001b[0;32m--> 306\u001b[0m     frozen_credentials \u001b[38;5;241m=\u001b[39m \u001b[43mcredentials\u001b[49m\u001b[38;5;241;43m.\u001b[39;49m\u001b[43mget_frozen_credentials\u001b[49m\u001b[43m(\u001b[49m\u001b[43m)\u001b[49m\n\u001b[1;32m    307\u001b[0m kwargs[\u001b[38;5;124m'\u001b[39m\u001b[38;5;124mcredentials\u001b[39m\u001b[38;5;124m'\u001b[39m] \u001b[38;5;241m=\u001b[39m frozen_credentials\n\u001b[1;32m    308\u001b[0m \u001b[38;5;28;01mif\u001b[39;00m \u001b[38;5;28mcls\u001b[39m\u001b[38;5;241m.\u001b[39mREQUIRES_REGION:\n",
      "File \u001b[0;32m~/.pyenv/versions/bring_/lib/python3.10/site-packages/botocore/credentials.py:634\u001b[0m, in \u001b[0;36mRefreshableCredentials.get_frozen_credentials\u001b[0;34m(self)\u001b[0m\n\u001b[1;32m    600\u001b[0m \u001b[38;5;28;01mdef\u001b[39;00m \u001b[38;5;21mget_frozen_credentials\u001b[39m(\u001b[38;5;28mself\u001b[39m):\n\u001b[1;32m    601\u001b[0m \u001b[38;5;250m    \u001b[39m\u001b[38;5;124;03m\"\"\"Return immutable credentials.\u001b[39;00m\n\u001b[1;32m    602\u001b[0m \n\u001b[1;32m    603\u001b[0m \u001b[38;5;124;03m    The ``access_key``, ``secret_key``, and ``token`` properties\u001b[39;00m\n\u001b[0;32m   (...)\u001b[0m\n\u001b[1;32m    632\u001b[0m \n\u001b[1;32m    633\u001b[0m \u001b[38;5;124;03m    \"\"\"\u001b[39;00m\n\u001b[0;32m--> 634\u001b[0m     \u001b[38;5;28;43mself\u001b[39;49m\u001b[38;5;241;43m.\u001b[39;49m\u001b[43m_refresh\u001b[49m\u001b[43m(\u001b[49m\u001b[43m)\u001b[49m\n\u001b[1;32m    635\u001b[0m     \u001b[38;5;28;01mreturn\u001b[39;00m \u001b[38;5;28mself\u001b[39m\u001b[38;5;241m.\u001b[39m_frozen_credentials\n",
      "File \u001b[0;32m~/.pyenv/versions/bring_/lib/python3.10/site-packages/botocore/credentials.py:522\u001b[0m, in \u001b[0;36mRefreshableCredentials._refresh\u001b[0;34m(self)\u001b[0m\n\u001b[1;32m    518\u001b[0m         \u001b[38;5;28;01mreturn\u001b[39;00m\n\u001b[1;32m    519\u001b[0m     is_mandatory_refresh \u001b[38;5;241m=\u001b[39m \u001b[38;5;28mself\u001b[39m\u001b[38;5;241m.\u001b[39mrefresh_needed(\n\u001b[1;32m    520\u001b[0m         \u001b[38;5;28mself\u001b[39m\u001b[38;5;241m.\u001b[39m_mandatory_refresh_timeout\n\u001b[1;32m    521\u001b[0m     )\n\u001b[0;32m--> 522\u001b[0m     \u001b[38;5;28;43mself\u001b[39;49m\u001b[38;5;241;43m.\u001b[39;49m\u001b[43m_protected_refresh\u001b[49m\u001b[43m(\u001b[49m\u001b[43mis_mandatory\u001b[49m\u001b[38;5;241;43m=\u001b[39;49m\u001b[43mis_mandatory_refresh\u001b[49m\u001b[43m)\u001b[49m\n\u001b[1;32m    523\u001b[0m     \u001b[38;5;28;01mreturn\u001b[39;00m\n\u001b[1;32m    524\u001b[0m \u001b[38;5;28;01mfinally\u001b[39;00m:\n",
      "File \u001b[0;32m~/.pyenv/versions/bring_/lib/python3.10/site-packages/botocore/credentials.py:571\u001b[0m, in \u001b[0;36mRefreshableCredentials._protected_refresh\u001b[0;34m(self, is_mandatory)\u001b[0m\n\u001b[1;32m    566\u001b[0m msg \u001b[38;5;241m=\u001b[39m (\n\u001b[1;32m    567\u001b[0m     \u001b[38;5;124m\"\u001b[39m\u001b[38;5;124mCredentials were refreshed, but the \u001b[39m\u001b[38;5;124m\"\u001b[39m\n\u001b[1;32m    568\u001b[0m     \u001b[38;5;124m\"\u001b[39m\u001b[38;5;124mrefreshed credentials are still expired.\u001b[39m\u001b[38;5;124m\"\u001b[39m\n\u001b[1;32m    569\u001b[0m )\n\u001b[1;32m    570\u001b[0m logger\u001b[38;5;241m.\u001b[39mwarning(msg)\n\u001b[0;32m--> 571\u001b[0m \u001b[38;5;28;01mraise\u001b[39;00m \u001b[38;5;167;01mRuntimeError\u001b[39;00m(msg)\n",
      "\u001b[0;31mRuntimeError\u001b[0m: Credentials were refreshed, but the refreshed credentials are still expired."
     ]
    }
   ],
   "source": [
    "test_sqs_firehose_integration()"
   ]
  },
  {
   "cell_type": "code",
   "execution_count": null,
   "metadata": {},
   "outputs": [],
   "source": []
  }
 ],
 "metadata": {
  "kernelspec": {
   "display_name": "bring_",
   "language": "python",
   "name": "python3"
  },
  "language_info": {
   "codemirror_mode": {
    "name": "ipython",
    "version": 3
   },
   "file_extension": ".py",
   "mimetype": "text/x-python",
   "name": "python",
   "nbconvert_exporter": "python",
   "pygments_lexer": "ipython3",
   "version": "3.10.9"
  }
 },
 "nbformat": 4,
 "nbformat_minor": 2
}
